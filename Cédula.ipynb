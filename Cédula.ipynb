{
  "cells": [
    {
      "cell_type": "code",
      "execution_count": 145,
      "metadata": {
        "id": "Hjenl0NNtH4N"
      },
      "outputs": [],
      "source": [
        "class Cedula:\n",
        "  def __init__(self, valor_cedula):\n",
        "    self.__valor_cedula = valor_cedula\n",
        "    self.__contador = 0\n",
        "\n",
        "  def getValor(self):\n",
        "    return self.__valor_cedula\n",
        "\n",
        "  def getContador(self):\n",
        "    return self.__contador\n",
        "\n",
        "  def setContador(self, contador):\n",
        "    self.__contador += contador\n",
        "\n",
        "def quantidade(valor_total, cedulas = list()):\n",
        "    pos = 0\n",
        "    cedulas.sort(key = lambda c:c.getValor(), reverse = True)\n",
        "    while valor_total != 0:\n",
        "      if valor_total >= cedulas[pos].getValor():\n",
        "        valor_total -= cedulas[pos].getValor()\n",
        "        cedulas[pos].setContador(1)\n",
        "      else:\n",
        "        pos += 1\n",
        "    for i in cedulas:\n",
        "      print(i.getValor(), i.getContador())\n",
        "\n",
        "\n",
        "# def quantidade(valor_total, cedulas = list()):\n",
        "#   pos = 0\n",
        "#   print(cedulas[pos].getValor())\n"
      ]
    },
    {
      "cell_type": "code",
      "execution_count": 148,
      "metadata": {
        "colab": {
          "base_uri": "https://localhost:8080/"
        },
        "id": "ar_hV0lLvthk",
        "outputId": "2e54d02d-8acb-449b-ab15-a451ddc5df76"
      },
      "outputs": [
        {
          "output_type": "stream",
          "name": "stdout",
          "text": [
            "200 20\n",
            "100 1\n",
            "50 0\n",
            "20 0\n",
            "10 0\n",
            "5 0\n",
            "2 0\n",
            "1 0\n"
          ]
        }
      ],
      "source": [
        "duzentos = Cedula(200)\n",
        "cem = Cedula(100)\n",
        "cinquenta = Cedula(50)\n",
        "vinte = Cedula(20)\n",
        "dez = Cedula(10)\n",
        "cinco = Cedula(5)\n",
        "dois = Cedula(2)\n",
        "um = Cedula(1)\n",
        "\n",
        "\n",
        "quantidade(4100, [duzentos,cem,cinquenta,vinte,dez,cinco,dois, um])"
      ]
    }
  ],
  "metadata": {
    "colab": {
      "collapsed_sections": [],
      "name": "Cédula.ipynb",
      "provenance": []
    },
    "kernelspec": {
      "display_name": "Python 3",
      "name": "python3"
    },
    "language_info": {
      "name": "python"
    }
  },
  "nbformat": 4,
  "nbformat_minor": 0
}