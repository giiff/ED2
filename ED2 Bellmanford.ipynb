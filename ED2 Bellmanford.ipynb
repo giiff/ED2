{
 "cells": [
  {
   "cell_type": "code",
   "execution_count": 21,
   "id": "0742faa4",
   "metadata": {},
   "outputs": [
    {
     "data": {
      "text/html": [
       "<style>.container { width:100% !important; }</style>"
      ],
      "text/plain": [
       "<IPython.core.display.HTML object>"
      ]
     },
     "metadata": {},
     "output_type": "display_data"
    }
   ],
   "source": [
    "from IPython.display import display, HTML\n",
    "display(HTML(\"<style>.container { width:100% !important; }</style>\"))"
   ]
  },
  {
   "cell_type": "code",
   "execution_count": 22,
   "id": "5436294d",
   "metadata": {},
   "outputs": [],
   "source": [
    "class Vertice:\n",
    "    '''\n",
    "    Classe que representa um vertice tendo como atributos:\n",
    "        - o valor do vertice que pode ser outro objeto qualquer (um número, uma string, etc...)\n",
    "        - um conjunto de arestas incidentes ao vertice\n",
    "    Criacao do objeto: v = Vertice(valor)\n",
    "    '''\n",
    "    def __init__(self, valor, arestas = set(), direcionado=True):\n",
    "        '''\n",
    "        Metodo construtor da classe\n",
    "        '''\n",
    "        self.__valor = valor\n",
    "        self.__arestas = arestas\n",
    "        self.__direcionado = direcionado\n",
    "    \n",
    "    def getValor(self):# retorna o valor do vertice\n",
    "        return self.__valor\n",
    "    \n",
    "    def setValor(self, valor):# prove um valor ao vertice\n",
    "        self.__valor = valor\n",
    "        \n",
    "    def getArestas(self): # retorna as arestas do vertice\n",
    "        return self.__arestas\n",
    "    \n",
    "    def setAresta(self, aresta):# prove uma aresta ao vertice\n",
    "        self.__arestas.add(aresta)\n",
    "        \n",
    "    def getArestasSaida(self): # retorna uma lista com as arestas que saem do vertice\n",
    "        try:\n",
    "            if self.__direcionado == False:\n",
    "                return self.__arestas\n",
    "            arestasDeSaida = []\n",
    "            for aresta in self.__arestas:\n",
    "                if aresta.getVerticeOrigem() == self:\n",
    "                    arestasDeSaida.append(aresta)\n",
    "            return arestasDeSaida\n",
    "        except AttributeError: \n",
    "            return []\n",
    "    \n",
    "    def getArestasEntrada(self):# retorna uma lista com as arestas que entram do vertice\n",
    "        try:\n",
    "            if self.__direcionado == False:\n",
    "                return self.__arestas\n",
    "            arestasSaida = []\n",
    "            for aresta in self.__arestas:\n",
    "                if aresta.getVerticeDestino() == self:\n",
    "                    arestasSaida.append(aresta)\n",
    "            return arestasSaida\n",
    "        except AttributeError: \n",
    "            return []\n",
    "    \n",
    "    def getGrau(self):# retorna o grau do vertice\n",
    "        return len(self.getArestasSaida()) + len(self.getArestasEntrada())\n",
    "    \n",
    "    def getAdjacentes(self): # retorna uma lista com os vertices adjacentes ao vertice v\n",
    "        listaVerticesAdjacentes = []\n",
    "        for arestas_de_saida in self.getArestasSaida():\n",
    "            listaVerticesAdjacentes.append(arestas_de_saida.getVerticeDestino())\n",
    "        return listaVerticesAdjacentes"
   ]
  },
  {
   "cell_type": "code",
   "execution_count": 23,
   "id": "5ebcbe08",
   "metadata": {},
   "outputs": [],
   "source": [
    "class Aresta:\n",
    "    '''\n",
    "    Classe que representa uma aresta tendo como atributos:\n",
    "        - vertice_origem: o vertice de origem (v:Vertice)\n",
    "        - vertice_destino: o vertice de destino (v:vertice)\n",
    "        - peso: o peso da aresta que pode ser um objeto qualquer (int, str, etc...)\n",
    "        - direcionada: flag indicando de a aresta e direcionado ou não (padrao True)\n",
    "    '''\n",
    "    def __init__(self, vertice_origem:Vertice, vertice_destino:Vertice, peso = 1, direcionada = True):\n",
    "        '''\n",
    "        Metodo construtor da classe: preenche os atributos\n",
    "        '''\n",
    "        self.__vertice_origem = vertice_origem\n",
    "        self.__vertice_destino = vertice_destino\n",
    "        self.__peso = peso\n",
    "        self.__direcionada = direcionada\n",
    "        self.__vertice_origem.setAresta(self)\n",
    "        self.__vertice_destino.setAresta(self)\n",
    "        \n",
    "    def getVerticeOrigem(self):\n",
    "        return self.__vertice_origem\n",
    "    def getVerticeDestino(self):\n",
    "        return self.__vertice_destino\n",
    "    def getPeso(self):\n",
    "        return self.__peso\n",
    "    \n",
    "    \n",
    "# v1 = Vertice(1)\n",
    "# v2 = Vertice(2)\n",
    "# a = Aresta(v1, v2, 10 )\n",
    "# print(a.getVerticeOrigem().getValor())\n",
    "# print(a.getVerticeDestino().getValor())\n",
    "# print(v1.getGrau())\n",
    "# v.getArestasSaida()\n",
    "# v.getArestasEntrada()\n",
    "# v.getAdjacentes()    "
   ]
  },
  {
   "cell_type": "code",
   "execution_count": 24,
   "id": "37f742d0",
   "metadata": {},
   "outputs": [],
   "source": [
    "from collections import deque\n",
    "class Grafo:\n",
    "    '''\n",
    "    Classe que representa o grafo tendo como atributos:\n",
    "        - um conjunto de vertices nao vazio\n",
    "        - um conjunto de arestas (vazio ou nao)\n",
    "    '''\n",
    "    def __init__(self):\n",
    "        '''\n",
    "        Metodo construtor da classe: preenche os atributos\n",
    "        '''\n",
    "        self.__vertices = set()\n",
    "        self.__arestas  = set()\n",
    "        \n",
    "    def setVertices(self, vertices):# prove o conjunto de vertices do grafo\n",
    "        self.__vertices = vertices\n",
    "\n",
    "    def getVertices(self):# retorna o conjunto de vertices do grafo\n",
    "        return self.__vertices\n",
    "        \n",
    "    def setArestas(self, arestas):# prove o conjunto de arestas do grafo\n",
    "        self.__arestas = arestas\n",
    "        \n",
    "    def getArestas(self):# retorna o conjunto de arestas do grafo\n",
    "        return self.__arestas\n",
    "    \n",
    "    def getVerticeByValor(self, valor):# retorna um objeto da classe Vertice contendo um valor informado, se existir\n",
    "        for v in self.__vertices:\n",
    "            if v.getValor() == valor:\n",
    "                return v\n",
    "        return None\n",
    "\n",
    "    def adicionarVertice(self, valor):# Adiciona um vertice ao grafo, caso nao exista vertice com o mesmo valor\n",
    "        if self.buscarPorValor(valor) != valor:# valor nao esta no grafo\n",
    "            self.__vertices.add(Vertice(valor))\n",
    "            return True\n",
    "        return False\n",
    "    \n",
    "    def adicionarAresta(self, origem, destino, peso = 1, direcionada = True):# adicionado uma aresta ao grafo ligando 2 vertices\n",
    "        try:\n",
    "            verticeOrigem = self.getVerticeByValor(origem)\n",
    "            verticeDestino = self.getVerticeByValor(destino)\n",
    "            if (verticeOrigem or verticeDestino) is None:  # existem os vertices de origem e destino?\n",
    "                print(\"Nao ha no grafo, vertices de origem ou de destino com os valores informados.\")\n",
    "            self.getArestas().add(Aresta(verticeOrigem, verticeDestino, peso, direcionada))\n",
    "        except AttributeError as error:\n",
    "            print(\"Exceção: Nao ha no grafo, vertices de origem ou de destino com os valores informados.\")\n",
    "    \n",
    "    def checkHandShakingLemma(self):# checa o lema do \"aperto de mao\"\n",
    "        somaGraus = 0\n",
    "        for v in self.getVertices():\n",
    "            somaGraus+= v.getGrau()\n",
    "        if somaGraus == len(self.getArestas())*2:\n",
    "            return True\n",
    "        else:\n",
    "            return False\n",
    "        \n",
    "    def dfs(self, graph, v, visitados=[]):# busca em profundidade recursiva\n",
    "        if v not in visitados: # se v nao foi visitado\n",
    "            visitados.append(v) # marca vertice como visitado\n",
    "        if len(v.getAdjacentes()) == 0: # vertice escolhido nao tem adjacentes\n",
    "            self.dfs(graph, next(iter(graph.getVertices())), visitados) # chamada recursiva pegando o proximo vertice do set\n",
    "        else: # vertice escolhido tem adjacentes\n",
    "            for adjacente in v.getAdjacentes(): #percorre todos os adjacentes a ele\n",
    "                if adjacente not in visitados: # se um dos adjacentes nao foi visitado\n",
    "                    self.dfs(graph, adjacente, visitados) # chamada recursiva para cada adjacente\n",
    "        return visitados\n",
    "    \n",
    "    def bfs(self, v, visitados = [], fila = deque([])):# busca em largura recursiva\n",
    "        fila.append(v)  # adiciona o vertice v a fila\n",
    "        if v not in visitados:  # se vertice v nao esta em visitados\n",
    "            visitados.append(v)  # adiciona vertice v a visitados\n",
    "        while fila:  # enquanto houver vertices na fila\n",
    "            vertice = fila.popleft()  # tira vertice ja visitado da fila\n",
    "            if len(vertice.getArestasSaida()) == 0: # vertice escolhido nao tem adjacentes\n",
    "                self.bfs(next(iter(self.getVertices())), visitados, fila) # chamada recursiva pegando o proximo vertice do set   \n",
    "            else:\n",
    "                for adjacente in vertice.getAdjacentes(): #percorre todos os adjacentes a ele\n",
    "                    if adjacente not in visitados: # se um dos adjacentes nao foi visitado\n",
    "                        visitados.append(adjacente)  # insere o adjacente em visitados\n",
    "                        self.bfs(adjacente, visitados, fila) # chamada recursiva pegando o proximo vertice do set\n",
    "        return visitados  # retorna a lista de visitados  \n",
    "    \n",
    "    def buscarPorValor(self, valor):# busca um valor no grafo usando a busca em profundidade O(|V|+|E|)\n",
    "        for v in self.bfs(next(iter(self.getVertices())), visitados = [], fila = deque([])):\n",
    "            if valor == v.getValor():\n",
    "                return valor\n",
    "        return None\n",
    "    \n",
    "    def existeCaminhoEuler(self):# checa a existencia de um caminho Euleriano no grafo\n",
    "        pares = True\n",
    "        impares = []\n",
    "        for v in self.getVertices():\n",
    "            if v.getGrau() % 2 != 0:\n",
    "                pares = False\n",
    "                impares.append(v)\n",
    "        return pares or len(impares) == 2\n",
    "    \n",
    "    def removerAresta(self, origem, destino, peso = 1): # remove uma aresta do grafo\n",
    "        try:\n",
    "            verticeOrigem  = self.getVerticeByValor(origem)\n",
    "            verticeDestino = self.getVerticeByValor(destino)\n",
    "            if (verticeOrigem or verticeDestino) is None:  # existem os vertices de origem e destino?\n",
    "                pass\n",
    "            else:\n",
    "                arestas_a_remover = []\n",
    "                for aresta in self.getArestas():\n",
    "                    if aresta.getVerticeOrigem() == verticeOrigem and aresta.getVerticeDestino() == verticeDestino and aresta.getPeso() == peso:\n",
    "                        arestas_a_remover.append(aresta)\n",
    "                [self.getArestas().remove(aresta) for aresta in arestas_a_remover]\n",
    "        except AttributeError as error:\n",
    "            print(\"Exceção: Nao ha no grafo, vertices de origem ou de destino com os valores informado!.\")\n",
    "            \n",
    "    def removerVertice(self, valor):# remove um vertice do grafo\n",
    "        try:\n",
    "            vertice  = self.getVerticeByValor(valor)\n",
    "            if vertice is None:  # existem os vertices de origem e destino?\n",
    "                pass\n",
    "            else:\n",
    "                arestas_a_remover = []\n",
    "                # arestas conectadas ao vertice precisam ser removidas antes\n",
    "                for a in vertice.getArestasSaida():\n",
    "                    arestas_a_remover.append(a)\n",
    "                for a in vertice.getArestasEntrada():\n",
    "                    arestas_a_remover.append(a)\n",
    "                [self.removerAresta(a.getVerticeOrigem(), a.getVerticeDestino(), a.getPeso()) for a in arestas_a_remover]    \n",
    "                self.__vertices.remove(vertice)\n",
    "        except AttributeError as error:\n",
    "            print(repr(error))\n",
    "            print(\"Exceção: Nao ha no grafo, vertices de origem ou de destino com os valores informado.\")\n",
    "            \n",
    "            \n",
    "    def getMatrizAdjacencia(self):# retorna uma matriz de adjacencia como dataframe pandas\n",
    "        import numpy as np\n",
    "        import pandas as pd\n",
    "        V = self.getVertices()\n",
    "        E = self.getArestas()\n",
    "        matriz = np.zeros((len(V), len(V)), dtype=object)\n",
    "        columns = []\n",
    "        [columns.append(v.getValor()) for v in V]\n",
    "        index =[]\n",
    "        [index.append(v.getValor()) for v in V]\n",
    "        matrizDeAdjacencias = pd.DataFrame(matriz, columns = columns, index = index)\n",
    "        for index, row in matrizDeAdjacencias.iterrows():\n",
    "            for e in E:\n",
    "                matrizDeAdjacencias.loc[e.getVerticeOrigem().getValor(), e.getVerticeDestino().getValor()] = e.getPeso()\n",
    "        return matrizDeAdjacencias\n",
    "    \n",
    "    def getMatrizAdjacenciaAsArray(self):# converte a matriz de adjacencia pandas.dataframe para array\n",
    "        return self.getMatrizAdjacencia().to_numpy()\n",
    "    \n",
    "    def getMatrizAdjacenciaAsDict(self):# converte a matriz de adjacencia pandas.dataframe para dicionario (lista de adjacencia)\n",
    "        return self.getMatrizAdjacencia().to_dict('dict')\n",
    "    \n",
    "    \n",
    "        "
   ]
  },
  {
   "cell_type": "code",
   "execution_count": 25,
   "id": "0c6bd30e",
   "metadata": {},
   "outputs": [
    {
     "name": "stdout",
     "output_type": "stream",
     "text": [
      "distância do vértice de origem \n",
      "0\t\tinf\n",
      "1\t\t0\n",
      "2\t\t3\n",
      "3\t\t-1\n",
      "4\t\t2\n"
     ]
    }
   ],
   "source": [
    "#exemplo simples de bellmanford em python\n",
    "class Graph:\n",
    " \n",
    "    def __init__(self, vertices):\n",
    "        self.V = vertices \n",
    "        self.graph = []\n",
    " \n",
    "\n",
    "    def addEdge(self, u, v, w):\n",
    "        self.graph.append([u, v, w])\n",
    "         \n",
    "\n",
    "    def printArr(self, dist):\n",
    "        print(\"distância do vértice de origem \")\n",
    "        for i in range(self.V):\n",
    "            print(\"{0}\\t\\t{1}\".format(i, dist[i]))\n",
    "     \n",
    "    def BellmanFord(self, src):\n",
    " \n",
    "        dist = [float(\"Inf\")] * self.V\n",
    "        dist[src] = 0\n",
    " \n",
    " \n",
    "        for _ in range(self.V - 1):\n",
    "\n",
    "            for u, v, w in self.graph:\n",
    "                if dist[u] != float(\"Inf\") and dist[u] + w < dist[v]:\n",
    "                        dist[v] = dist[u] + w\n",
    " \n",
    " \n",
    "        for u, v, w in self.graph:\n",
    "                if dist[u] != float(\"Inf\") and dist[u] + w < dist[v]:\n",
    "                        print(\"grafo contém negativo no ciclo\")\n",
    "                        return\n",
    "                         \n",
    "        self.printArr(dist)\n",
    " \n",
    "g = Graph(5)\n",
    "g.addEdge(0, 1, -1)\n",
    "g.addEdge(0, 2, 4)\n",
    "g.addEdge(1, 2, 3)\n",
    "g.addEdge(1, 3, 2)\n",
    "g.addEdge(1, 4, 2)\n",
    "g.addEdge(3, 2, 5)\n",
    "g.addEdge(3, 1, 1)\n",
    "g.addEdge(4, 3, -3)\n",
    " \n",
    "g.BellmanFord(1)"
   ]
  },
  {
   "cell_type": "code",
   "execution_count": 26,
   "id": "6e9e5d2c",
   "metadata": {},
   "outputs": [],
   "source": [
    "v1 = Vertice(1)\n",
    "v2 = Vertice(2)\n",
    "v3 = Vertice(3)\n",
    "v4 = Vertice(4)\n",
    "v5 = Vertice(5)\n",
    "a1 = Aresta( v1, v2, 10, True )\n",
    "a2 = Aresta( v2, v3, 20, True )\n",
    "a3 = Aresta( v3, v4, 30, True )\n",
    "a4 = Aresta( v4, v1, 40, True )\n",
    "a5 = Aresta( v4, v5, 50, True )"
   ]
  },
  {
   "cell_type": "code",
   "execution_count": 27,
   "id": "f819294e",
   "metadata": {},
   "outputs": [],
   "source": [
    "G = Grafo()\n",
    "G.setVertices({v1, v2, v3, v4, v5})\n",
    "G.setArestas({a1, a2, a3, a4, a5})"
   ]
  },
  {
   "cell_type": "code",
   "execution_count": 28,
   "id": "59be52bc",
   "metadata": {},
   "outputs": [
    {
     "name": "stdout",
     "output_type": "stream",
     "text": [
      "1\t2\t5\t3\t4\t"
     ]
    }
   ],
   "source": [
    "for v in G.getVertices():\n",
    "    print(v.getValor(), end=\"\\t\")"
   ]
  },
  {
   "cell_type": "code",
   "execution_count": 29,
   "id": "1c0c96cc",
   "metadata": {},
   "outputs": [
    {
     "name": "stdout",
     "output_type": "stream",
     "text": [
      "2 -- 20 --> 3\n",
      "3 -- 30 --> 4\n",
      "4 -- 40 --> 1\n",
      "4 -- 50 --> 5\n",
      "1 -- 10 --> 2\n"
     ]
    }
   ],
   "source": [
    "for a in G.getArestas():\n",
    "    print(a.getVerticeOrigem().getValor(), end=\"\")\n",
    "    print(\" --\", a.getPeso(), \"--> \", end=\"\")\n",
    "    print(a.getVerticeDestino().getValor())"
   ]
  },
  {
   "cell_type": "code",
   "execution_count": 30,
   "id": "1f07d4b7",
   "metadata": {},
   "outputs": [
    {
     "data": {
      "text/html": [
       "<div>\n",
       "<style scoped>\n",
       "    .dataframe tbody tr th:only-of-type {\n",
       "        vertical-align: middle;\n",
       "    }\n",
       "\n",
       "    .dataframe tbody tr th {\n",
       "        vertical-align: top;\n",
       "    }\n",
       "\n",
       "    .dataframe thead th {\n",
       "        text-align: right;\n",
       "    }\n",
       "</style>\n",
       "<table border=\"1\" class=\"dataframe\">\n",
       "  <thead>\n",
       "    <tr style=\"text-align: right;\">\n",
       "      <th></th>\n",
       "      <th>1</th>\n",
       "      <th>2</th>\n",
       "      <th>5</th>\n",
       "      <th>3</th>\n",
       "      <th>4</th>\n",
       "    </tr>\n",
       "  </thead>\n",
       "  <tbody>\n",
       "    <tr>\n",
       "      <th>1</th>\n",
       "      <td>0</td>\n",
       "      <td>10</td>\n",
       "      <td>0</td>\n",
       "      <td>0</td>\n",
       "      <td>0</td>\n",
       "    </tr>\n",
       "    <tr>\n",
       "      <th>2</th>\n",
       "      <td>0</td>\n",
       "      <td>0</td>\n",
       "      <td>0</td>\n",
       "      <td>20</td>\n",
       "      <td>0</td>\n",
       "    </tr>\n",
       "    <tr>\n",
       "      <th>5</th>\n",
       "      <td>0</td>\n",
       "      <td>0</td>\n",
       "      <td>0</td>\n",
       "      <td>0</td>\n",
       "      <td>0</td>\n",
       "    </tr>\n",
       "    <tr>\n",
       "      <th>3</th>\n",
       "      <td>0</td>\n",
       "      <td>0</td>\n",
       "      <td>0</td>\n",
       "      <td>0</td>\n",
       "      <td>30</td>\n",
       "    </tr>\n",
       "    <tr>\n",
       "      <th>4</th>\n",
       "      <td>40</td>\n",
       "      <td>0</td>\n",
       "      <td>50</td>\n",
       "      <td>0</td>\n",
       "      <td>0</td>\n",
       "    </tr>\n",
       "  </tbody>\n",
       "</table>\n",
       "</div>"
      ],
      "text/plain": [
       "    1   2   5   3   4\n",
       "1   0  10   0   0   0\n",
       "2   0   0   0  20   0\n",
       "5   0   0   0   0   0\n",
       "3   0   0   0   0  30\n",
       "4  40   0  50   0   0"
      ]
     },
     "execution_count": 30,
     "metadata": {},
     "output_type": "execute_result"
    }
   ],
   "source": [
    "G.getMatrizAdjacencia()"
   ]
  },
  {
   "cell_type": "code",
   "execution_count": 28,
   "id": "d6564af3",
   "metadata": {},
   "outputs": [
    {
     "data": {
      "text/plain": [
       "array([[0, 0, 20, 0, 0],\n",
       "       [0, 0, 0, 0, 0],\n",
       "       [0, 0, 0, 0, 30],\n",
       "       [10, 0, 0, 0, 0],\n",
       "       [0, 50, 0, 40, 0]], dtype=object)"
      ]
     },
     "execution_count": 28,
     "metadata": {},
     "output_type": "execute_result"
    }
   ],
   "source": [
    "G.getMatrizAdjacenciaAsArray()"
   ]
  },
  {
   "cell_type": "code",
   "execution_count": 29,
   "id": "8119d99d",
   "metadata": {},
   "outputs": [
    {
     "data": {
      "text/plain": [
       "{2: {2: 0, 5: 0, 3: 0, 1: 10, 4: 0},\n",
       " 5: {2: 0, 5: 0, 3: 0, 1: 0, 4: 50},\n",
       " 3: {2: 20, 5: 0, 3: 0, 1: 0, 4: 0},\n",
       " 1: {2: 0, 5: 0, 3: 0, 1: 0, 4: 40},\n",
       " 4: {2: 0, 5: 0, 3: 30, 1: 0, 4: 0}}"
      ]
     },
     "execution_count": 29,
     "metadata": {},
     "output_type": "execute_result"
    }
   ],
   "source": [
    "G.getMatrizAdjacenciaAsDict()"
   ]
  },
  {
   "cell_type": "code",
   "execution_count": 30,
   "id": "67a0f945",
   "metadata": {},
   "outputs": [
    {
     "data": {
      "text/plain": [
       "2"
      ]
     },
     "execution_count": 30,
     "metadata": {},
     "output_type": "execute_result"
    }
   ],
   "source": [
    "v1.getGrau()"
   ]
  },
  {
   "cell_type": "code",
   "execution_count": 31,
   "id": "c3b9a2cf",
   "metadata": {},
   "outputs": [
    {
     "data": {
      "text/plain": [
       "True"
      ]
     },
     "execution_count": 31,
     "metadata": {},
     "output_type": "execute_result"
    }
   ],
   "source": [
    "G.checkHandShakingLemma()"
   ]
  },
  {
   "cell_type": "code",
   "execution_count": 32,
   "id": "ceadd80f",
   "metadata": {},
   "outputs": [
    {
     "name": "stdout",
     "output_type": "stream",
     "text": [
      "4 -- 40 --> 1\n",
      "3 -- 30 --> 4\n",
      "2 -- 20 --> 3\n",
      "4 -- 50 --> 5\n"
     ]
    }
   ],
   "source": [
    "G.removerAresta(1, 2, peso = 10)\n",
    "for a in G.getArestas():\n",
    "    print(a.getVerticeOrigem().getValor(), end=\"\")\n",
    "    print(\" --\", a.getPeso(), \"--> \", end=\"\")\n",
    "    print(a.getVerticeDestino().getValor())"
   ]
  },
  {
   "cell_type": "code",
   "execution_count": 33,
   "id": "a6939152",
   "metadata": {},
   "outputs": [
    {
     "name": "stdout",
     "output_type": "stream",
     "text": [
      "Antes de remover\n",
      "2\t5\t3\t1\t4\t\n",
      "Depois de remover\n",
      "2\t5\t3\t4\t"
     ]
    }
   ],
   "source": [
    "# Remocao de vertice\n",
    "print(\"Antes de remover\")\n",
    "for v in G.getVertices():\n",
    "    print(v.getValor(), end=\"\\t\")\n",
    "    \n",
    "G.removerVertice(1)\n",
    "print(\"\\nDepois de remover\")\n",
    "for v in G.getVertices():\n",
    "    print(v.getValor(), end=\"\\t\")"
   ]
  },
  {
   "cell_type": "markdown",
   "id": "6a1ddaa5",
   "metadata": {},
   "source": [
    "#### Testando busca em profundidade"
   ]
  },
  {
   "cell_type": "code",
   "execution_count": 34,
   "id": "b44752b3",
   "metadata": {},
   "outputs": [
    {
     "name": "stdout",
     "output_type": "stream",
     "text": [
      "Busca em profundidade, iniciando com o vértice 1:\n",
      "1\t2\t3\t4\t5\t6\t\n",
      ".................................................\n",
      "Busca em profundidade, iniciando com o vértice 4:\n",
      "4\t5\t1\t2\t3\t6\t\n",
      ".................................................\n",
      "Busca em profundidade, iniciando com o vértice 5:\n",
      "5\t1\t2\t3\t4\t6\t\n",
      ".................................................\n",
      "Busca em profundidade, iniciando com o vértice 3:\n",
      "3\t4\t5\t1\t2\t6\t\n",
      ".................................................\n",
      "Busca em profundidade, iniciando com o vértice 2:\n",
      "2\t3\t4\t5\t1\t6\t\n",
      ".................................................\n",
      "Busca em profundidade, iniciando com o vértice 6:\n",
      "6\t1\t2\t3\t4\t5\t\n",
      ".................................................\n"
     ]
    }
   ],
   "source": [
    "v1 = Vertice(1)\n",
    "v2 = Vertice(2)\n",
    "v3 = Vertice(3)\n",
    "v4 = Vertice(4)\n",
    "v5 = Vertice(5)\n",
    "v6 = Vertice(6)\n",
    "a1 = Aresta( v1, v2, 10, True )\n",
    "a2 = Aresta( v2, v3, 20, True )\n",
    "a3 = Aresta( v3, v4, 30, True )\n",
    "a4 = Aresta( v4, v1, 40, True )\n",
    "a5 = Aresta( v4, v5, 50, True ) \n",
    "a6 = Aresta( v4, v6, 60, True ) \n",
    "G = Grafo()\n",
    "G.setVertices({v1, v2, v3, v4, v5,v6})\n",
    "G.setArestas({a1, a2, a3, a4, a5, a6})\n",
    "for vertice in G.getVertices():\n",
    "    print(f\"Busca em profundidade, iniciando com o vértice {vertice.getValor()}:\")\n",
    "    for v in G.dfs(G, vertice, visitados=[]):\n",
    "        print(str(v.getValor())+\"\\t\", end=\"\")\n",
    "    print(\"\\n.................................................\")  "
   ]
  },
  {
   "cell_type": "code",
   "execution_count": null,
   "id": "2b79d452",
   "metadata": {},
   "outputs": [],
   "source": [
    "v1 = Vertice(1)\n",
    "v2 = Vertice(2)\n",
    "v3 = Vertice(3)\n",
    "v4 = Vertice(4)\n",
    "v5 = Vertice(5)\n",
    "v6 = Vertice(6)\n",
    "a1 = Aresta( v1, v2, 10, True )\n",
    "a2 = Aresta( v2, v3, 20, True )\n",
    "a3 = Aresta( v3, v4, 30, True )\n",
    "a4 = Aresta( v4, v1, 40, True )\n",
    "a5 = Aresta( v4, v5, 50, True ) \n",
    "a6 = Aresta( v4, v6, 60, True ) \n",
    "G = Grafo()\n",
    "G.setVertices({v1, v2, v3, v4, v5,v6})\n",
    "G.setArestas({a1, a2, a3, a4, a5, a6})\n",
    "for vertice in G.getVertices():\n",
    "    print(f\"Busca em largura, iniciando com o vértice {vertice.getValor()}:\")\n",
    "    for v in  G.bfs(vertice, visitados = [], fila = deque([])):\n",
    "        print(str(v.getValor())+\"\\t\", end=\"\")\n",
    "    print(\"\\n............................................\")   "
   ]
  },
  {
   "cell_type": "code",
   "execution_count": null,
   "id": "03b69d03",
   "metadata": {},
   "outputs": [],
   "source": [
    "valor = int(input(\"Valor procurado: \"))\n",
    "if G.buscarPorValor(valor) == None:\n",
    "    print(f\"{valor} não encontrado no grafo\")\n",
    "else:\n",
    "    print(f\"{valor} encontrado no grafo\")\n",
    "# [print(f\"{v.getValor()} encontrado no grafo.\") for v in  G.bfs(v1, visitados = [], fila = deque([])) if n == v.getValor() ]"
   ]
  },
  {
   "cell_type": "code",
   "execution_count": null,
   "id": "4ff7d078",
   "metadata": {},
   "outputs": [],
   "source": [
    "if G.existeCaminhoEuler():\n",
    "    print(\"Grafo contém um caminho Euleriano\")\n",
    "else:\n",
    "    print(\"Grafo NÃO contém um caminho Euleriano\")"
   ]
  }
 ],
 "metadata": {
  "kernelspec": {
   "display_name": "Python 3 (ipykernel)",
   "language": "python",
   "name": "python3"
  },
  "language_info": {
   "codemirror_mode": {
    "name": "ipython",
    "version": 3
   },
   "file_extension": ".py",
   "mimetype": "text/x-python",
   "name": "python",
   "nbconvert_exporter": "python",
   "pygments_lexer": "ipython3",
   "version": "3.9.7"
  }
 },
 "nbformat": 4,
 "nbformat_minor": 5
}
