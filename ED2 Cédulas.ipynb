{
 "cells": [
  {
   "cell_type": "code",
   "execution_count": 10,
   "id": "7017d1be",
   "metadata": {},
   "outputs": [
    {
     "name": "stdout",
     "output_type": "stream",
     "text": [
      "250\n",
      "250\n",
      "2 nota(s) de R$ 100,00\n",
      "1 nota(s) de R$ 50,00\n",
      "0 nota(s) de R$ 20,00\n",
      "0 nota(s) de R$ 10,00\n",
      "0 nota(s) de R$ 5,00\n",
      "0 nota(s) de R$ 2,00\n",
      "0 nota(s) de R$ 1,00\n"
     ]
    }
   ],
   "source": [
    "#codigo simples em python problema das cédulas\n",
    "value = int(input());\n",
    "val = value;\n",
    "cem = cinquenta = vinte = dez = cinco = dois = um = 0;\n",
    "\n",
    "if int(value/100) >= 1:\n",
    "    cem = int(value/100);\n",
    "    value -= cem*100;\n",
    "\n",
    "if int(value/50) >= 1:\n",
    "    cinquenta = int(value/50);\n",
    "    value -= cinquenta*50;\n",
    "\n",
    "if int(value/20) >= 1:\n",
    "    vinte = int(value/20);\n",
    "    value -= vinte*20;\n",
    "\n",
    "if int(value/10) >= 1:\n",
    "    dez = int(value/10);\n",
    "    value -= dez*10;\n",
    "\n",
    "if int(value/5) >= 1:\n",
    "    cinco = int(value/5);\n",
    "    value -= cinco*5;\n",
    "\n",
    "if int(value/2) >= 1:\n",
    "    dois = int(value/2);\n",
    "    value -= dois*2;\n",
    "\n",
    "if int(value/1) >= 1:\n",
    "    um = int(value/1);\n",
    "    value -= um*1;\n",
    "\n",
    "print(\"%d\" % val);\n",
    "print(\"%d nota(s) de R$ 100,00\" % cem);\n",
    "print(\"%d nota(s) de R$ 50,00\" % cinquenta);\n",
    "print(\"%d nota(s) de R$ 20,00\" % vinte);\n",
    "print(\"%d nota(s) de R$ 10,00\" % dez);\n",
    "print(\"%d nota(s) de R$ 5,00\" % cinco);\n",
    "print(\"%d nota(s) de R$ 2,00\" % dois);\n",
    "print(\"%d nota(s) de R$ 1,00\" % um);"
   ]
  }
 ],
 "metadata": {
  "kernelspec": {
   "display_name": "Python 3 (ipykernel)",
   "language": "python",
   "name": "python3"
  },
  "language_info": {
   "codemirror_mode": {
    "name": "ipython",
    "version": 3
   },
   "file_extension": ".py",
   "mimetype": "text/x-python",
   "name": "python",
   "nbconvert_exporter": "python",
   "pygments_lexer": "ipython3",
   "version": "3.9.12"
  }
 },
 "nbformat": 4,
 "nbformat_minor": 5
}
