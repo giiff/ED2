{
 "cells": [
  {
   "cell_type": "code",
   "execution_count": 2,
   "id": "542cd860",
   "metadata": {},
   "outputs": [],
   "source": [
    " \n",
    "from Tarefa import Tarefa\n",
    "from ListaTarefa import ListaTarefa\n",
    "\n",
    "t1 = Tarefa(\"T1\", 1, 2)\n",
    "t2 = Tarefa(\"T2\", 2, 3)\n",
    "t3 = Tarefa(\"T3\", 3, 4)\n",
    "t4 = Tarefa(\"T4\", 4, 5)\n",
    "t5 = Tarefa(\"T5\", 5, 7)\n",
    "t6 = Tarefa(\"T6\", 6, 8)\n",
    "\n",
    "listaTarefa = ListaTarefa([t1, t2, t3, t4, t5, t6])\n",
    "listaTarefa.gerarLista()\n",
    "\n",
    "class Tarefa:\n",
    "    def __init__(self, nome, inicio, fim):\n",
    "        self.__nome = nome\n",
    "        self.__i = inicio\n",
    "        self.__f = fim\n",
    "    \n",
    "    def getNome(self):\n",
    "        return self.__nome\n",
    "    def getInicio(self):\n",
    "        return self.__i\n",
    "    def getFim(self):\n",
    "        return self.__f\n",
    "        \n",
    "class ListaTarefa:\n",
    "    def __init__(self, tarefas):\n",
    "        self.__tarefas = tarefas\n",
    "\n",
    "    def gerarLista(self):\n",
    "        self.__tarefas.sort(key = lambda x: x.getFim())\n",
    "        listaOrganizada = []\n",
    "        listaOrganizada.append(self.__tarefas[0])\n",
    "        posicao = 0\n",
    "        for i in range(1, len(self.__tarefas), +1):\n",
    "            if self.__tarefas[i].getInicio() >= listaOrganizada[posicao].getFim():\n",
    "                listaOrganizada.append(self.__tarefas[i])\n",
    "                posicao = i\n",
    "        for i in range(len(listaOrganizada)):\n",
    "            print(listaOrganizada[i].getNome())"
   ]
  },
  {
   "cell_type": "code",
   "execution_count": null,
   "id": "b4357f8c",
   "metadata": {},
   "outputs": [],
   "source": []
  }
 ],
 "metadata": {
  "kernelspec": {
   "display_name": "Python 3 (ipykernel)",
   "language": "python",
   "name": "python3"
  },
  "language_info": {
   "codemirror_mode": {
    "name": "ipython",
    "version": 3
   },
   "file_extension": ".py",
   "mimetype": "text/x-python",
   "name": "python",
   "nbconvert_exporter": "python",
   "pygments_lexer": "ipython3",
   "version": "3.9.12"
  }
 },
 "nbformat": 4,
 "nbformat_minor": 5
}
