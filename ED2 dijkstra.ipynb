{
 "cells": [
  {
   "cell_type": "code",
   "execution_count": 38,
   "metadata": {},
   "outputs": [
    {
     "data": {
      "text/html": [
       "<style>.container { width:100% !important; }</style>"
      ],
      "text/plain": [
       "<IPython.core.display.HTML object>"
      ]
     },
     "metadata": {},
     "output_type": "display_data"
    }
   ],
   "source": [
    "from IPython.display import display, HTML\n",
    "display(HTML(\"<style>.container { width:100% !important; }</style>\"))"
   ]
  },
  {
   "cell_type": "code",
   "execution_count": 39,
   "metadata": {},
   "outputs": [],
   "source": [
    "class Vertice:\n",
    "    '''\n",
    "    Classe que representa um vertice tendo como atributos:\n",
    "        - o valor do vertice que pode ser outro objeto qualquer (um número, uma string, etc...)\n",
    "        - um conjunto de arestas incidentes ao vertice\n",
    "    Criacao do objeto: v = Vertice(valor)\n",
    "    '''\n",
    "    def __init__(self, valor, arestas = set(), direcionado=True):\n",
    "        '''\n",
    "        Metodo construtor da classe\n",
    "        '''\n",
    "        self.__valor = valor\n",
    "        self.__arestas = arestas\n",
    "        self.__direcionado = direcionado\n",
    "    \n",
    "    def getValor(self):# retorna o valor do vertice\n",
    "        return self.__valor\n",
    "    \n",
    "    def setValor(self, valor):# prove um valor ao vertice\n",
    "        self.__valor = valor\n",
    "        \n",
    "    def getArestas(self): # retorna as arestas do vertice\n",
    "        return self.__arestas\n",
    "    \n",
    "    def setAresta(self, aresta):# prove uma aresta ao vertice\n",
    "        self.__arestas.add(aresta)\n",
    "        \n",
    "    def getArestasSaida(self): # retorna uma lista com as arestas que saem do vertice\n",
    "        try:\n",
    "            if self.__direcionado == False:\n",
    "                return self.__arestas\n",
    "            arestasDeSaida = []\n",
    "            for aresta in self.__arestas:\n",
    "                if aresta.getVerticeOrigem() == self:\n",
    "                    arestasDeSaida.append(aresta)\n",
    "            return arestasDeSaida\n",
    "        except AttributeError: \n",
    "            return []\n",
    "    \n",
    "    def getArestasEntrada(self):# retorna uma lista com as arestas que entram do vertice\n",
    "        try:\n",
    "            if self.__direcionado == False:\n",
    "                return self.__arestas\n",
    "            arestasSaida = []\n",
    "            for aresta in self.__arestas:\n",
    "                if aresta.getVerticeDestino() == self:\n",
    "                    arestasSaida.append(aresta)\n",
    "            return arestasSaida\n",
    "        except AttributeError: \n",
    "            return []\n",
    "    \n",
    "    def getGrau(self):# retorna o grau do vertice\n",
    "        return len(self.getArestasSaida()) + len(self.getArestasEntrada())\n",
    "    \n",
    "    def getAdjacentes(self): # retorna uma lista com os vertices adjacentes ao vertice v\n",
    "        listaVerticesAdjacentes = []\n",
    "        for arestas_de_saida in self.getArestasSaida():\n",
    "            listaVerticesAdjacentes.append(arestas_de_saida.getVerticeDestino())\n",
    "        return listaVerticesAdjacentes"
   ]
  },
  {
   "cell_type": "code",
   "execution_count": 40,
   "metadata": {},
   "outputs": [],
   "source": [
    "class Aresta:\n",
    "    '''\n",
    "    Classe que representa uma aresta tendo como atributos:\n",
    "        - vertice_origem: o vertice de origem (v:Vertice)\n",
    "        - vertice_destino: o vertice de destino (v:vertice)\n",
    "        - peso: o peso da aresta que pode ser um objeto qualquer (int, str, etc...)\n",
    "        - direcionada: flag indicando de a aresta e direcionado ou não (padrao True)\n",
    "    '''\n",
    "    def __init__(self, vertice_origem:Vertice, vertice_destino:Vertice, peso = 1, direcionada = True):\n",
    "        '''\n",
    "        Metodo construtor da classe: preenche os atributos\n",
    "        '''\n",
    "        self.__vertice_origem = vertice_origem\n",
    "        self.__vertice_destino = vertice_destino\n",
    "        self.__peso = peso\n",
    "        self.__direcionada = direcionada\n",
    "        self.__vertice_origem.setAresta(self)\n",
    "        self.__vertice_destino.setAresta(self)\n",
    "        \n",
    "    def getVerticeOrigem(self):\n",
    "        return self.__vertice_origem\n",
    "    def getVerticeDestino(self):\n",
    "        return self.__vertice_destino\n",
    "    def getPeso(self):\n",
    "        return self.__peso\n",
    "    \n",
    "    \n",
    "# v1 = Vertice(1)\n",
    "# v2 = Vertice(2)\n",
    "# a = Aresta(v1, v2, 10 )\n",
    "# print(a.getVerticeOrigem().getValor())\n",
    "# print(a.getVerticeDestino().getValor())\n",
    "# print(v1.getGrau())\n",
    "# v.getArestasSaida()\n",
    "# v.getArestasEntrada()\n",
    "# v.getAdjacentes()    "
   ]
  },
  {
   "cell_type": "code",
   "execution_count": 41,
   "metadata": {},
   "outputs": [],
   "source": [
    "from collections import deque\n",
    "class Grafo:\n",
    "    '''\n",
    "    Classe que representa o grafo tendo como atributos:\n",
    "        - um conjunto de vertices nao vazio\n",
    "        - um conjunto de arestas (vazio ou nao)\n",
    "    '''\n",
    "    def __init__(self):\n",
    "        '''\n",
    "        Metodo construtor da classe: preenche os atributos\n",
    "        '''\n",
    "        self.__vertices = set()\n",
    "        self.__arestas  = set()\n",
    "        \n",
    "    def setVertices(self, vertices):# prove o conjunto de vertices do grafo\n",
    "        self.__vertices = vertices\n",
    "\n",
    "    def getVertices(self):# retorna o conjunto de vertices do grafo\n",
    "        return self.__vertices\n",
    "        \n",
    "    def setArestas(self, arestas):# prove o conjunto de arestas do grafo\n",
    "        self.__arestas = arestas\n",
    "        \n",
    "    def getArestas(self):# retorna o conjunto de arestas do grafo\n",
    "        return self.__arestas\n",
    "    \n",
    "    def getVerticeByValor(self, valor):# retorna um objeto da classe Vertice contendo um valor informado, se existir\n",
    "        for v in self.__vertices:\n",
    "            if v.getValor() == valor:\n",
    "                return v\n",
    "        return None\n",
    "\n",
    "    def adicionarVertice(self, valor):# Adiciona um vertice ao grafo, caso nao exista vertice com o mesmo valor\n",
    "        if self.buscarPorValor(valor) != valor:# valor nao esta no grafo\n",
    "            self.__vertices.add(Vertice(valor))\n",
    "            return True\n",
    "        return False\n",
    "    \n",
    "    def adicionarAresta(self, origem, destino, peso = 1, direcionada = True):# adicionado uma aresta ao grafo ligando 2 vertices\n",
    "        try:\n",
    "            verticeOrigem = self.getVerticeByValor(origem)\n",
    "            verticeDestino = self.getVerticeByValor(destino)\n",
    "            if (verticeOrigem or verticeDestino) is None:  # existem os vertices de origem e destino?\n",
    "                print(\"Nao ha no grafo, vertices de origem ou de destino com os valores informados.\")\n",
    "            self.getArestas().add(Aresta(verticeOrigem, verticeDestino, peso, direcionada))\n",
    "        except AttributeError as error:\n",
    "            print(\"Exceção: Nao ha no grafo, vertices de origem ou de destino com os valores informados.\")\n",
    "    \n",
    "    def checkHandShakingLemma(self):# checa o lema do \"aperto de mao\"\n",
    "        somaGraus = 0\n",
    "        for v in self.getVertices():\n",
    "            somaGraus+= v.getGrau()\n",
    "        if somaGraus == len(self.getArestas())*2:\n",
    "            return True\n",
    "        else:\n",
    "            return False\n",
    "        \n",
    "    def dfs(self, graph, v, visitados=[]):# busca em profundidade recursiva\n",
    "        if v not in visitados: # se v nao foi visitado\n",
    "            visitados.append(v) # marca vertice como visitado\n",
    "        if len(v.getAdjacentes()) == 0: # vertice escolhido nao tem adjacentes\n",
    "            self.dfs(graph, next(iter(graph.getVertices())), visitados) # chamada recursiva pegando o proximo vertice do set\n",
    "        else: # vertice escolhido tem adjacentes\n",
    "            for adjacente in v.getAdjacentes(): #percorre todos os adjacentes a ele\n",
    "                if adjacente not in visitados: # se um dos adjacentes nao foi visitado\n",
    "                    self.dfs(graph, adjacente, visitados) # chamada recursiva para cada adjacente\n",
    "        return visitados\n",
    "    \n",
    "    def bfs(self, v, visitados = [], fila = deque([])):# busca em largura recursiva\n",
    "        fila.append(v)  # adiciona o vertice v a fila\n",
    "        if v not in visitados:  # se vertice v nao esta em visitados\n",
    "            visitados.append(v)  # adiciona vertice v a visitados\n",
    "        while fila:  # enquanto houver vertices na fila\n",
    "            vertice = fila.popleft()  # tira vertice ja visitado da fila\n",
    "            if len(vertice.getArestasSaida()) == 0: # vertice escolhido nao tem adjacentes\n",
    "                self.bfs(next(iter(self.getVertices())), visitados, fila) # chamada recursiva pegando o proximo vertice do set   \n",
    "            else:\n",
    "                for adjacente in vertice.getAdjacentes(): #percorre todos os adjacentes a ele\n",
    "                    if adjacente not in visitados: # se um dos adjacentes nao foi visitado\n",
    "                        visitados.append(adjacente)  # insere o adjacente em visitados\n",
    "                        self.bfs(adjacente, visitados, fila) # chamada recursiva pegando o proximo vertice do set\n",
    "        return visitados  # retorna a lista de visitados  \n",
    "    \n",
    "    def buscarPorValor(self, valor):# busca um valor no grafo usando a busca em profundidade O(|V|+|E|)\n",
    "        for v in self.bfs(next(iter(self.getVertices())), visitados = [], fila = deque([])):\n",
    "            if valor == v.getValor():\n",
    "                return valor\n",
    "        return None\n",
    "    \n",
    "    def existeCaminhoEuler(self):# checa a existencia de um caminho Euleriano no grafo\n",
    "        pares = True\n",
    "        impares = []\n",
    "        for v in self.getVertices():\n",
    "            if v.getGrau() % 2 != 0:\n",
    "                pares = False\n",
    "                impares.append(v)\n",
    "        return pares or len(impares) == 2\n",
    "    \n",
    "    def removerAresta(self, origem, destino, peso = 1): # remove uma aresta do grafo\n",
    "        try:\n",
    "            verticeOrigem  = self.getVerticeByValor(origem)\n",
    "            verticeDestino = self.getVerticeByValor(destino)\n",
    "            if (verticeOrigem or verticeDestino) is None:  # existem os vertices de origem e destino?\n",
    "                pass\n",
    "            else:\n",
    "                arestas_a_remover = []\n",
    "                for aresta in self.getArestas():\n",
    "                    if aresta.getVerticeOrigem() == verticeOrigem and aresta.getVerticeDestino() == verticeDestino and aresta.getPeso() == peso:\n",
    "                        arestas_a_remover.append(aresta)\n",
    "                [self.getArestas().remove(aresta) for aresta in arestas_a_remover]\n",
    "        except AttributeError as error:\n",
    "            print(\"Exceção: Nao ha no grafo, vertices de origem ou de destino com os valores informado!.\")\n",
    "            \n",
    "    def removerVertice(self, valor):# remove um vertice do grafo\n",
    "        try:\n",
    "            vertice  = self.getVerticeByValor(valor)\n",
    "            if vertice is None:  # existem os vertices de origem e destino?\n",
    "                pass\n",
    "            else:\n",
    "                arestas_a_remover = []\n",
    "                # arestas conectadas ao vertice precisam ser removidas antes\n",
    "                for a in vertice.getArestasSaida():\n",
    "                    arestas_a_remover.append(a)\n",
    "                for a in vertice.getArestasEntrada():\n",
    "                    arestas_a_remover.append(a)\n",
    "                [self.removerAresta(a.getVerticeOrigem(), a.getVerticeDestino(), a.getPeso()) for a in arestas_a_remover]    \n",
    "                self.__vertices.remove(vertice)\n",
    "        except AttributeError as error:\n",
    "            print(repr(error))\n",
    "            print(\"Exceção: Nao ha no grafo, vertices de origem ou de destino com os valores informado.\")\n",
    "            \n",
    "            \n",
    "    def getMatrizAdjacencia(self):# retorna uma matriz de adjacencia como dataframe pandas\n",
    "        import numpy as np\n",
    "        import pandas as pd\n",
    "        V = self.getVertices()\n",
    "        E = self.getArestas()\n",
    "        matriz = np.zeros((len(V), len(V)), dtype=object)\n",
    "        columns = []\n",
    "        [columns.append(v.getValor()) for v in V]\n",
    "        index =[]\n",
    "        [index.append(v.getValor()) for v in V]\n",
    "        matrizDeAdjacencias = pd.DataFrame(matriz, columns = columns, index = index)\n",
    "        for index, row in matrizDeAdjacencias.iterrows():\n",
    "            for e in E:\n",
    "                matrizDeAdjacencias.loc[e.getVerticeOrigem().getValor(), e.getVerticeDestino().getValor()] = e.getPeso()\n",
    "        return matrizDeAdjacencias\n",
    "    \n",
    "    def getMatrizAdjacenciaAsArray(self):# converte a matriz de adjacencia pandas.dataframe para array\n",
    "        return self.getMatrizAdjacencia().to_numpy()\n",
    "    \n",
    "    def getMatrizAdjacenciaAsDict(self):# converte a matriz de adjacencia pandas.dataframe para dicionario (lista de adjacencia)\n",
    "        return self.getMatrizAdjacencia().to_dict('dict')\n",
    "    \n",
    "    \n",
    "        "
   ]
  },
  {
   "cell_type": "code",
   "execution_count": 57,
   "metadata": {},
   "outputs": [
    {
     "name": "stdout",
     "output_type": "stream",
     "text": [
      "[0, 0.8, 0.3, 1.0, 2.3, 0.2]\n"
     ]
    }
   ],
   "source": [
    "import heapq\n",
    "\n",
    "\n",
    "class Grafo():\n",
    "    \"\"\"Define um grafo utilizando matriz de adjacências.\n",
    "        Args:\n",
    "            arestas (list): uma lista de listas onde o indice é o \n",
    "                            vértice e cada elemento da lista é o vizinho\n",
    "    \"\"\"\n",
    "\n",
    "    def __init__(self, arestas: list):\n",
    "        self.adj = [[] for _ in range(len(arestas))]\n",
    "        self.dist = [99999 for _ in range(len(arestas))]\n",
    "        self.adiciona_arestas(arestas)\n",
    "\n",
    "    def adiciona_arestas(self, arestas: list) -> None:\n",
    "        \"\"\"Adiciona todas as arestas ao grafo\n",
    "        Args:\n",
    "            arestas (list): a lista contendo todas as definições de arestas do grafo\n",
    "        \"\"\"\n",
    "        for i in range(len(arestas)):\n",
    "            for j in range(len(arestas[i])):\n",
    "                self.__adiciona_aresta(i, arestas[i][j])\n",
    "\n",
    "    def __adiciona_aresta(self, u: int, v: int) -> None:\n",
    "        \"\"\"Adiciona a aresta na matriz de adjacência\n",
    "        Args:\n",
    "            u (int): vértice u\n",
    "            v (int): vértice v\n",
    "        \"\"\"\n",
    "        if v[0] not in self.adj[u]:\n",
    "            self.adj[u].append([v[1], v[0]])\n",
    "\n",
    "    def _peso_entre_u_e_v(self, u: int, v: int) -> float:\n",
    "        \"\"\"Retorna o peso entre os vértices u e v\n",
    "        Args:\n",
    "            u (int): vértice u \n",
    "            v (int): vértice v\n",
    "        Returns:\n",
    "            float: peso entre u e v \n",
    "        \"\"\"\n",
    "        for vertice in self.adj[v[1]]:\n",
    "            if vertice[1] == u:\n",
    "                return vertice[0]\n",
    "\n",
    "    def dijkstra(self, start: int) -> list:\n",
    "        \"\"\"Retorna a lista de distância do vértice start até todos os vértices\n",
    "        Args:\n",
    "            start (int): vértice inicial\n",
    "        Returns:\n",
    "            list: lista de distâncias\n",
    "        \"\"\"\n",
    "        distancia = self.dist.copy()\n",
    "        S = set()  # Conjunto de vértices explorados\n",
    "        distancia[start] = 0\n",
    "\n",
    "        while True:\n",
    "            V = set([(i, distancia[i]) for i in range(len(self.adj))])\n",
    "            diferenca_de_conjuntos = list(V.difference(S))\n",
    "            if not diferenca_de_conjuntos:\n",
    "                break\n",
    "\n",
    "            heapq.heapify(diferenca_de_conjuntos)\n",
    "            u, distancia_u = heapq.heappop(diferenca_de_conjuntos)\n",
    "\n",
    "            S.add((u, distancia[u]))\n",
    "            for v in self.adj[u]:\n",
    "                if distancia[v[1]] > distancia_u + self._peso_entre_u_e_v(u, v):\n",
    "                    distancia[v[1]] = distancia_u + \\\n",
    "                        self._peso_entre_u_e_v(u, v)\n",
    "\n",
    "        return distancia\n",
    "\n",
    "\n",
    "arestas = [[[1, 1], [2, 0.3], [5, 0.2]],            # Vizinhos do vértice 0.\n",
    "           [[0, 1], [2, 0.5]],                      # Vizinhos do vértice 1.\n",
    "           [[0, 0.3], [1, 0.5], [3, 1.5], [4, 2]],  # Vizinhos do vértice 2.\n",
    "           [[2, 1.5], [4, 1.3], [5, 0.8]],          # Vizinhos do vértice 3.\n",
    "           [[2, 2], [3, 1.3]],                      # Vizinhos do vértice 4.\n",
    "           [[0, 0.2], [3, 0.8]]                     # Vizinhos do vértice 5.\n",
    "           ]\n",
    "\n",
    "grafo = Grafo(arestas)\n",
    "print(grafo.dijkstra(0))"
   ]
  },
  {
   "cell_type": "code",
   "execution_count": 42,
   "metadata": {},
   "outputs": [],
   "source": [
    "v1 = Vertice(1)\n",
    "v2 = Vertice(2)\n",
    "v3 = Vertice(3)\n",
    "v4 = Vertice(4)\n",
    "v5 = Vertice(5)\n",
    "a1 = Aresta( v1, v2, 10, True )\n",
    "a2 = Aresta( v2, v3, 20, True )\n",
    "a3 = Aresta( v3, v4, 30, True )\n",
    "a4 = Aresta( v4, v1, 40, True )\n",
    "a5 = Aresta( v4, v5, 50, True )"
   ]
  },
  {
   "cell_type": "code",
   "execution_count": 43,
   "metadata": {},
   "outputs": [],
   "source": [
    "G = Grafo()\n",
    "G.setVertices({v1, v2, v3, v4, v5})\n",
    "G.setArestas({a1, a2, a3, a4, a5})"
   ]
  },
  {
   "cell_type": "code",
   "execution_count": 44,
   "metadata": {},
   "outputs": [
    {
     "name": "stdout",
     "output_type": "stream",
     "text": [
      "1\t2\t3\t4\t5\t"
     ]
    }
   ],
   "source": [
    "for v in G.getVertices():\n",
    "    print(v.getValor(), end=\"\\t\")"
   ]
  },
  {
   "cell_type": "code",
   "execution_count": 45,
   "metadata": {},
   "outputs": [
    {
     "name": "stdout",
     "output_type": "stream",
     "text": [
      "2 -- 20 --> 3\n",
      "1 -- 10 --> 2\n",
      "4 -- 50 --> 5\n",
      "3 -- 30 --> 4\n",
      "4 -- 40 --> 1\n"
     ]
    }
   ],
   "source": [
    "for a in G.getArestas():\n",
    "    print(a.getVerticeOrigem().getValor(), end=\"\")\n",
    "    print(\" --\", a.getPeso(), \"--> \", end=\"\")\n",
    "    print(a.getVerticeDestino().getValor())"
   ]
  },
  {
   "cell_type": "code",
   "execution_count": 46,
   "metadata": {},
   "outputs": [
    {
     "data": {
      "text/html": [
       "<div>\n",
       "<style scoped>\n",
       "    .dataframe tbody tr th:only-of-type {\n",
       "        vertical-align: middle;\n",
       "    }\n",
       "\n",
       "    .dataframe tbody tr th {\n",
       "        vertical-align: top;\n",
       "    }\n",
       "\n",
       "    .dataframe thead th {\n",
       "        text-align: right;\n",
       "    }\n",
       "</style>\n",
       "<table border=\"1\" class=\"dataframe\">\n",
       "  <thead>\n",
       "    <tr style=\"text-align: right;\">\n",
       "      <th></th>\n",
       "      <th>1</th>\n",
       "      <th>2</th>\n",
       "      <th>3</th>\n",
       "      <th>4</th>\n",
       "      <th>5</th>\n",
       "    </tr>\n",
       "  </thead>\n",
       "  <tbody>\n",
       "    <tr>\n",
       "      <th>1</th>\n",
       "      <td>0</td>\n",
       "      <td>10</td>\n",
       "      <td>0</td>\n",
       "      <td>0</td>\n",
       "      <td>0</td>\n",
       "    </tr>\n",
       "    <tr>\n",
       "      <th>2</th>\n",
       "      <td>0</td>\n",
       "      <td>0</td>\n",
       "      <td>20</td>\n",
       "      <td>0</td>\n",
       "      <td>0</td>\n",
       "    </tr>\n",
       "    <tr>\n",
       "      <th>3</th>\n",
       "      <td>0</td>\n",
       "      <td>0</td>\n",
       "      <td>0</td>\n",
       "      <td>30</td>\n",
       "      <td>0</td>\n",
       "    </tr>\n",
       "    <tr>\n",
       "      <th>4</th>\n",
       "      <td>40</td>\n",
       "      <td>0</td>\n",
       "      <td>0</td>\n",
       "      <td>0</td>\n",
       "      <td>50</td>\n",
       "    </tr>\n",
       "    <tr>\n",
       "      <th>5</th>\n",
       "      <td>0</td>\n",
       "      <td>0</td>\n",
       "      <td>0</td>\n",
       "      <td>0</td>\n",
       "      <td>0</td>\n",
       "    </tr>\n",
       "  </tbody>\n",
       "</table>\n",
       "</div>"
      ],
      "text/plain": [
       "    1   2   3   4   5\n",
       "1   0  10   0   0   0\n",
       "2   0   0  20   0   0\n",
       "3   0   0   0  30   0\n",
       "4  40   0   0   0  50\n",
       "5   0   0   0   0   0"
      ]
     },
     "execution_count": 46,
     "metadata": {},
     "output_type": "execute_result"
    }
   ],
   "source": [
    "G.getMatrizAdjacencia()"
   ]
  },
  {
   "cell_type": "code",
   "execution_count": 47,
   "metadata": {},
   "outputs": [
    {
     "ename": "AttributeError",
     "evalue": "'DataFrame' object has no attribute 'to_numpy'",
     "output_type": "error",
     "traceback": [
      "\u001b[1;31m---------------------------------------------------------------------------\u001b[0m",
      "\u001b[1;31mAttributeError\u001b[0m                            Traceback (most recent call last)",
      "\u001b[1;32m<ipython-input-47-99fe379e94bb>\u001b[0m in \u001b[0;36m<module>\u001b[1;34m()\u001b[0m\n\u001b[1;32m----> 1\u001b[1;33m \u001b[0mG\u001b[0m\u001b[1;33m.\u001b[0m\u001b[0mgetMatrizAdjacenciaAsArray\u001b[0m\u001b[1;33m(\u001b[0m\u001b[1;33m)\u001b[0m\u001b[1;33m\u001b[0m\u001b[0m\n\u001b[0m",
      "\u001b[1;32m<ipython-input-41-f6ccdc31bba5>\u001b[0m in \u001b[0;36mgetMatrizAdjacenciaAsArray\u001b[1;34m(self)\u001b[0m\n\u001b[0;32m    148\u001b[0m \u001b[1;33m\u001b[0m\u001b[0m\n\u001b[0;32m    149\u001b[0m     \u001b[1;32mdef\u001b[0m \u001b[0mgetMatrizAdjacenciaAsArray\u001b[0m\u001b[1;33m(\u001b[0m\u001b[0mself\u001b[0m\u001b[1;33m)\u001b[0m\u001b[1;33m:\u001b[0m\u001b[1;31m# converte a matriz de adjacencia pandas.dataframe para array\u001b[0m\u001b[1;33m\u001b[0m\u001b[0m\n\u001b[1;32m--> 150\u001b[1;33m         \u001b[1;32mreturn\u001b[0m \u001b[0mself\u001b[0m\u001b[1;33m.\u001b[0m\u001b[0mgetMatrizAdjacencia\u001b[0m\u001b[1;33m(\u001b[0m\u001b[1;33m)\u001b[0m\u001b[1;33m.\u001b[0m\u001b[0mto_numpy\u001b[0m\u001b[1;33m(\u001b[0m\u001b[1;33m)\u001b[0m\u001b[1;33m\u001b[0m\u001b[0m\n\u001b[0m\u001b[0;32m    151\u001b[0m \u001b[1;33m\u001b[0m\u001b[0m\n\u001b[0;32m    152\u001b[0m     \u001b[1;32mdef\u001b[0m \u001b[0mgetMatrizAdjacenciaAsDict\u001b[0m\u001b[1;33m(\u001b[0m\u001b[0mself\u001b[0m\u001b[1;33m)\u001b[0m\u001b[1;33m:\u001b[0m\u001b[1;31m# converte a matriz de adjacencia pandas.dataframe para dicionario (lista de adjacencia)\u001b[0m\u001b[1;33m\u001b[0m\u001b[0m\n",
      "\u001b[1;32m~\\Anaconda3\\lib\\site-packages\\pandas\\core\\generic.py\u001b[0m in \u001b[0;36m__getattr__\u001b[1;34m(self, name)\u001b[0m\n\u001b[0;32m   4370\u001b[0m             \u001b[1;32mif\u001b[0m \u001b[0mself\u001b[0m\u001b[1;33m.\u001b[0m\u001b[0m_info_axis\u001b[0m\u001b[1;33m.\u001b[0m\u001b[0m_can_hold_identifiers_and_holds_name\u001b[0m\u001b[1;33m(\u001b[0m\u001b[0mname\u001b[0m\u001b[1;33m)\u001b[0m\u001b[1;33m:\u001b[0m\u001b[1;33m\u001b[0m\u001b[0m\n\u001b[0;32m   4371\u001b[0m                 \u001b[1;32mreturn\u001b[0m \u001b[0mself\u001b[0m\u001b[1;33m[\u001b[0m\u001b[0mname\u001b[0m\u001b[1;33m]\u001b[0m\u001b[1;33m\u001b[0m\u001b[0m\n\u001b[1;32m-> 4372\u001b[1;33m             \u001b[1;32mreturn\u001b[0m \u001b[0mobject\u001b[0m\u001b[1;33m.\u001b[0m\u001b[0m__getattribute__\u001b[0m\u001b[1;33m(\u001b[0m\u001b[0mself\u001b[0m\u001b[1;33m,\u001b[0m \u001b[0mname\u001b[0m\u001b[1;33m)\u001b[0m\u001b[1;33m\u001b[0m\u001b[0m\n\u001b[0m\u001b[0;32m   4373\u001b[0m \u001b[1;33m\u001b[0m\u001b[0m\n\u001b[0;32m   4374\u001b[0m     \u001b[1;32mdef\u001b[0m \u001b[0m__setattr__\u001b[0m\u001b[1;33m(\u001b[0m\u001b[0mself\u001b[0m\u001b[1;33m,\u001b[0m \u001b[0mname\u001b[0m\u001b[1;33m,\u001b[0m \u001b[0mvalue\u001b[0m\u001b[1;33m)\u001b[0m\u001b[1;33m:\u001b[0m\u001b[1;33m\u001b[0m\u001b[0m\n",
      "\u001b[1;31mAttributeError\u001b[0m: 'DataFrame' object has no attribute 'to_numpy'"
     ]
    }
   ],
   "source": [
    "G.getMatrizAdjacenciaAsArray()"
   ]
  },
  {
   "cell_type": "code",
   "execution_count": 48,
   "metadata": {},
   "outputs": [
    {
     "data": {
      "text/plain": [
       "{1: {1: 0, 2: 0, 3: 0, 4: 40, 5: 0},\n",
       " 2: {1: 10, 2: 0, 3: 0, 4: 0, 5: 0},\n",
       " 3: {1: 0, 2: 20, 3: 0, 4: 0, 5: 0},\n",
       " 4: {1: 0, 2: 0, 3: 30, 4: 0, 5: 0},\n",
       " 5: {1: 0, 2: 0, 3: 0, 4: 50, 5: 0}}"
      ]
     },
     "execution_count": 48,
     "metadata": {},
     "output_type": "execute_result"
    }
   ],
   "source": [
    "G.getMatrizAdjacenciaAsDict()"
   ]
  },
  {
   "cell_type": "code",
   "execution_count": 49,
   "metadata": {},
   "outputs": [
    {
     "data": {
      "text/plain": [
       "2"
      ]
     },
     "execution_count": 49,
     "metadata": {},
     "output_type": "execute_result"
    }
   ],
   "source": [
    "v1.getGrau()"
   ]
  },
  {
   "cell_type": "code",
   "execution_count": 50,
   "metadata": {},
   "outputs": [
    {
     "data": {
      "text/plain": [
       "True"
      ]
     },
     "execution_count": 50,
     "metadata": {},
     "output_type": "execute_result"
    }
   ],
   "source": [
    "G.checkHandShakingLemma()"
   ]
  },
  {
   "cell_type": "code",
   "execution_count": 51,
   "metadata": {},
   "outputs": [
    {
     "name": "stdout",
     "output_type": "stream",
     "text": [
      "2 -- 20 --> 3\n",
      "4 -- 50 --> 5\n",
      "3 -- 30 --> 4\n",
      "4 -- 40 --> 1\n"
     ]
    }
   ],
   "source": [
    "G.removerAresta(1, 2, peso = 10)\n",
    "for a in G.getArestas():\n",
    "    print(a.getVerticeOrigem().getValor(), end=\"\")\n",
    "    print(\" --\", a.getPeso(), \"--> \", end=\"\")\n",
    "    print(a.getVerticeDestino().getValor())"
   ]
  },
  {
   "cell_type": "code",
   "execution_count": 52,
   "metadata": {},
   "outputs": [
    {
     "name": "stdout",
     "output_type": "stream",
     "text": [
      "Antes de remover\n",
      "1\t2\t3\t4\t5\t\n",
      "Depois de remover\n",
      "2\t3\t4\t5\t"
     ]
    }
   ],
   "source": [
    "# Remocao de vertice\n",
    "print(\"Antes de remover\")\n",
    "for v in G.getVertices():\n",
    "    print(v.getValor(), end=\"\\t\")\n",
    "    \n",
    "G.removerVertice(1)\n",
    "print(\"\\nDepois de remover\")\n",
    "for v in G.getVertices():\n",
    "    print(v.getValor(), end=\"\\t\")"
   ]
  },
  {
   "cell_type": "markdown",
   "metadata": {},
   "source": [
    "#### Testando busca em profundidade"
   ]
  },
  {
   "cell_type": "code",
   "execution_count": 53,
   "metadata": {},
   "outputs": [
    {
     "name": "stdout",
     "output_type": "stream",
     "text": [
      "Busca em profundidade, iniciando com o vértice 2:\n",
      "2\t3\t4\t1\t5\t6\t\n",
      ".................................................\n",
      "Busca em profundidade, iniciando com o vértice 1:\n",
      "1\t2\t3\t4\t5\t6\t\n",
      ".................................................\n",
      "Busca em profundidade, iniciando com o vértice 3:\n",
      "3\t4\t1\t2\t5\t6\t\n",
      ".................................................\n",
      "Busca em profundidade, iniciando com o vértice 4:\n",
      "4\t1\t2\t3\t5\t6\t\n",
      ".................................................\n",
      "Busca em profundidade, iniciando com o vértice 5:\n",
      "5\t2\t3\t4\t1\t6\t\n",
      ".................................................\n",
      "Busca em profundidade, iniciando com o vértice 6:\n",
      "6\t2\t3\t4\t1\t5\t\n",
      ".................................................\n"
     ]
    }
   ],
   "source": [
    "v1 = Vertice(1)\n",
    "v2 = Vertice(2)\n",
    "v3 = Vertice(3)\n",
    "v4 = Vertice(4)\n",
    "v5 = Vertice(5)\n",
    "v6 = Vertice(6)\n",
    "a1 = Aresta( v1, v2, 10, True )\n",
    "a2 = Aresta( v2, v3, 20, True )\n",
    "a3 = Aresta( v3, v4, 30, True )\n",
    "a4 = Aresta( v4, v1, 40, True )\n",
    "a5 = Aresta( v4, v5, 50, True ) \n",
    "a6 = Aresta( v4, v6, 60, True ) \n",
    "G = Grafo()\n",
    "G.setVertices({v1, v2, v3, v4, v5,v6})\n",
    "G.setArestas({a1, a2, a3, a4, a5, a6})\n",
    "for vertice in G.getVertices():\n",
    "    print(f\"Busca em profundidade, iniciando com o vértice {vertice.getValor()}:\")\n",
    "    for v in G.dfs(G, vertice, visitados=[]):\n",
    "        print(str(v.getValor())+\"\\t\", end=\"\")\n",
    "    print(\"\\n.................................................\")  "
   ]
  },
  {
   "cell_type": "code",
   "execution_count": 54,
   "metadata": {},
   "outputs": [
    {
     "name": "stdout",
     "output_type": "stream",
     "text": [
      "Busca em largura, iniciando com o vértice 1:\n",
      "1\t2\t3\t4\t5\t6\t\n",
      "............................................\n",
      "Busca em largura, iniciando com o vértice 3:\n",
      "3\t4\t1\t2\t5\t6\t\n",
      "............................................\n",
      "Busca em largura, iniciando com o vértice 4:\n",
      "4\t1\t2\t3\t5\t6\t\n",
      "............................................\n",
      "Busca em largura, iniciando com o vértice 5:\n",
      "5\t1\t2\t3\t4\t6\t\n",
      "............................................\n",
      "Busca em largura, iniciando com o vértice 6:\n",
      "6\t1\t2\t3\t4\t5\t\n",
      "............................................\n",
      "Busca em largura, iniciando com o vértice 2:\n",
      "2\t3\t4\t1\t5\t6\t\n",
      "............................................\n"
     ]
    }
   ],
   "source": [
    "v1 = Vertice(1)\n",
    "v2 = Vertice(2)\n",
    "v3 = Vertice(3)\n",
    "v4 = Vertice(4)\n",
    "v5 = Vertice(5)\n",
    "v6 = Vertice(6)\n",
    "a1 = Aresta( v1, v2, 10, True )\n",
    "a2 = Aresta( v2, v3, 20, True )\n",
    "a3 = Aresta( v3, v4, 30, True )\n",
    "a4 = Aresta( v4, v1, 40, True )\n",
    "a5 = Aresta( v4, v5, 50, True ) \n",
    "a6 = Aresta( v4, v6, 60, True ) \n",
    "G = Grafo()\n",
    "G.setVertices({v1, v2, v3, v4, v5,v6})\n",
    "G.setArestas({a1, a2, a3, a4, a5, a6})\n",
    "for vertice in G.getVertices():\n",
    "    print(f\"Busca em largura, iniciando com o vértice {vertice.getValor()}:\")\n",
    "    for v in  G.bfs(vertice, visitados = [], fila = deque([])):\n",
    "        print(str(v.getValor())+\"\\t\", end=\"\")\n",
    "    print(\"\\n............................................\")   "
   ]
  },
  {
   "cell_type": "code",
   "execution_count": 55,
   "metadata": {},
   "outputs": [
    {
     "name": "stdout",
     "output_type": "stream",
     "text": [
      "Valor procurado: 2\n",
      "2 encontrado no grafo\n"
     ]
    }
   ],
   "source": [
    "valor = int(input(\"Valor procurado: \"))\n",
    "if G.buscarPorValor(valor) == None:\n",
    "    print(f\"{valor} não encontrado no grafo\")\n",
    "else:\n",
    "    print(f\"{valor} encontrado no grafo\")\n",
    "# [print(f\"{v.getValor()} encontrado no grafo.\") for v in  G.bfs(v1, visitados = [], fila = deque([])) if n == v.getValor() ]"
   ]
  },
  {
   "cell_type": "code",
   "execution_count": 56,
   "metadata": {},
   "outputs": [
    {
     "name": "stdout",
     "output_type": "stream",
     "text": [
      "Grafo contém um caminho Euleriano\n"
     ]
    }
   ],
   "source": [
    "if G.existeCaminhoEuler():\n",
    "    print(\"Grafo contém um caminho Euleriano\")\n",
    "else:\n",
    "    print(\"Grafo NÃO contém um caminho Euleriano\")"
   ]
  },
  {
   "cell_type": "code",
   "execution_count": null,
   "metadata": {},
   "outputs": [],
   "source": []
  }
 ],
 "metadata": {
  "kernelspec": {
   "display_name": "Python 3",
   "language": "python",
   "name": "python3"
  }
 },
 "nbformat": 4,
 "nbformat_minor": 5
}
