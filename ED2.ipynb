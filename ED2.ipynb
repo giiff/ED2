{
  "nbformat": 4,
  "nbformat_minor": 0,
  "metadata": {
    "colab": {
      "name": "ED2_github.com/giiff.ipynb",
      "provenance": [],
      "collapsed_sections": [],
      "include_colab_link": true
    },
    "kernelspec": {
      "name": "python3",
      "display_name": "Python 3"
    },
    "language_info": {
      "name": "python"
    }
  },
  "cells": [
    {
      "cell_type": "markdown",
      "metadata": {
        "id": "view-in-github",
        "colab_type": "text"
      },
      "source": [
        "<a href=\"https://colab.research.google.com/github/JoaoVitttt/ED2_JJoaoVictor/blob/main/ED2_github_com_giiff.ipynb\" target=\"_parent\"><img src=\"https://colab.research.google.com/assets/colab-badge.svg\" alt=\"Open In Colab\"/></a>"
      ]
    },
    {
      "cell_type": "code",
      "source": [
        "class Vertice:\n",
        "    '''\n",
        "    Classe que representa um vertice tendo como atributos:\n",
        "        - o valor do vertice que pode ser outro objeto qualquer (um número, uma string, etc...)\n",
        "        - um conjunto de arestas incidentes ao vertice\n",
        "    Criacao do objeto: v = Vertice(valor)\n",
        "    '''\n",
        "    def __init__(self, valor, arestas = set(), direcionado=True):\n",
        "        '''\n",
        "        Metodo construtor da classe\n",
        "        '''\n",
        "        self.__valor = valor\n",
        "        self.__arestas = arestas\n",
        "        self.__direcionado = direcionado\n",
        "    \n",
        "    def getValor(self):# retorna o valor do vertice\n",
        "        return self.__valor\n",
        "    \n",
        "    def setValor(self, valor):# prove um valor ao vertice\n",
        "        self.__valor = valor\n",
        "        \n",
        "    def getArestas(self): # retorna as arestas do vertice\n",
        "        return self.__arestas\n",
        "    \n",
        "    def setAresta(self, aresta):# prove uma aresta ao vertice\n",
        "        self.__arestas.add(aresta)\n",
        "        \n",
        "    def getArestasSaida(self): # retorna uma lista com as arestas que saem do vertice\n",
        "        try:\n",
        "            if self.__direcionado == False:\n",
        "                return self.__arestas\n",
        "            arestasDeSaida = []\n",
        "            for aresta in self.__arestas:\n",
        "                if aresta.getVerticeOrigem() == self:\n",
        "                    arestasDeSaida.append(aresta)\n",
        "            return arestasDeSaida\n",
        "        except AttributeError: \n",
        "            return []\n",
        "    \n",
        "    def getArestasEntrada(self):# retorna uma lista com as arestas que entram do vertice\n",
        "        try:\n",
        "            if self.__direcionado == False:\n",
        "                return self.__arestas\n",
        "            arestasSaida = []\n",
        "            for aresta in self.__arestas:\n",
        "                if aresta.getVerticeDestino() == self:\n",
        "                    arestasSaida.append(aresta)\n",
        "            return arestasSaida\n",
        "        except AttributeError: \n",
        "            return []\n",
        "    \n",
        "    def getGrau(self):# retorna o grau do vertice\n",
        "        return len(self.getArestasSaida()) + len(self.getArestasEntrada())\n",
        "    \n",
        "    def getAdjacentes(self): # retorna uma lista com os vertices adjacentes ao vertice v\n",
        "        listaVerticesAdjacentes = []\n",
        "        for arestas_de_saida in self.getArestasSaida():\n",
        "            listaVerticesAdjacentes.append(arestas_de_saida.getVerticeDestino())\n",
        "        return listaVerticesAdjacentes"
      ],
      "metadata": {
        "id": "6l6Z9H7LJfsz"
      },
      "execution_count": 73,
      "outputs": []
    },
    {
      "cell_type": "code",
      "source": [
        "class Aresta:\n",
        "    '''\n",
        "    Classe que representa uma aresta tendo como atributos:\n",
        "        - vertice_origem: o vertice de origem (v:Vertice)\n",
        "        - vertice_destino: o vertice de destino (v:vertice)\n",
        "        - peso: o peso da aresta que pode ser um objeto qualquer (int, str, etc...)\n",
        "        - direcionada: flag indicando de a aresta e direcionado ou não (padrao True)\n",
        "    '''\n",
        "    def __init__(self, vertice_origem:Vertice, vertice_destino:Vertice, peso = 1, direcionada = True):\n",
        "        '''\n",
        "        Metodo construtor da classe: preenche os atributos\n",
        "        '''\n",
        "        self.__vertice_origem = vertice_origem\n",
        "        self.__vertice_destino = vertice_destino\n",
        "        self.__peso = peso\n",
        "        self.__direcionada = direcionada\n",
        "        self.__vertice_origem.setAresta(self)\n",
        "        self.__vertice_destino.setAresta(self)\n",
        "        \n",
        "    def getVerticeOrigem(self):\n",
        "        return self.__vertice_origem\n",
        "    def getVerticeDestino(self):\n",
        "        return self.__vertice_destino\n",
        "    def getPeso(self):\n",
        "        return self.__peso\n",
        "    "
      ],
      "metadata": {
        "id": "yrTtODw9JjZx"
      },
      "execution_count": 74,
      "outputs": []
    },
    {
      "cell_type": "code",
      "source": [
        "from collections import deque\n",
        "import sys\n",
        "\n",
        "class Grafo:\n",
        "    '''\n",
        "    Classe que representa o grafo tendo como atributos:\n",
        "        - um conjunto de vertices nao vazio\n",
        "        - um conjunto de arestas (vazio ou nao)\n",
        "    '''\n",
        "    def __init__(self, x):\n",
        "    #def __init__(self, x, i, f):\n",
        "        '''\n",
        "        Metodo construtor da classe: Tarefas\n",
        "        '''\n",
        "        #self.Vertices = x\n",
        "        #self.inicio = i\n",
        "        #self.fim = f\n",
        "        #self.peso = f - i\n",
        "        '''\n",
        "        Metodo construtor da classe: Dijkstra, BellmanFord, Prim e Kruskal\n",
        "        '''\n",
        "        self.Vertices = x\n",
        "        self.Grafo = [] #[[0 for column in range(x)]for row in range(x)]\n",
        "        '''\n",
        "        Metodo construtor da classe: preenche os atributos\n",
        "        '''\n",
        "        self.__vertices = set()\n",
        "        self.__arestas  = set()\n",
        "        \n",
        "    def setVertices(self, vertices):# prove o conjunto de vertices do grafo\n",
        "        self.__vertices = vertices\n",
        "\n",
        "    def getVertices(self):# retorna o conjunto de vertices do grafo\n",
        "        return self.__vertices\n",
        "        \n",
        "    def setArestas(self, arestas):# prove o conjunto de arestas do grafo\n",
        "        self.__arestas = arestas\n",
        "        \n",
        "    def getArestas(self):# retorna o conjunto de arestas do grafo\n",
        "        return self.__arestas\n",
        "    \n",
        "    def getVerticeByValor(self, valor):# retorna um objeto da classe Vertice contendo um valor informado, se existir\n",
        "        for v in self.__vertices:\n",
        "            if v.getValor() == valor:\n",
        "                return v\n",
        "        return None\n",
        "\n",
        "    def adicionarVertice(self, valor):# Adiciona um vertice ao grafo, caso nao exista vertice com o mesmo valor\n",
        "        if self.buscarPorValor(valor) != valor:# valor nao esta no grafo\n",
        "            self.__vertices.add(Vertice(valor))\n",
        "            return True\n",
        "        return False\n",
        "    \n",
        "    def adicionarAresta(self, origem, destino, peso = 1, direcionada = True):# adicionado uma aresta ao grafo ligando 2 vertices\n",
        "        try:\n",
        "            verticeOrigem = self.getVerticeByValor(origem)\n",
        "            verticeDestino = self.getVerticeByValor(destino)\n",
        "            if (verticeOrigem or verticeDestino) is None:  # existem os vertices de origem e destino?\n",
        "                print(\"Nao ha no grafo, vertices de origem ou de destino com os valores informados.\")\n",
        "            self.getArestas().add(Aresta(verticeOrigem, verticeDestino, peso, direcionada))\n",
        "        except AttributeError as error:\n",
        "            print(\"Exceção: Nao ha no grafo, vertices de origem ou de destino com os valores informados.\")\n",
        "    \n",
        "    def checkHandShakingLemma(self):# checa o lema do \"aperto de mao\"\n",
        "        somaGraus = 0\n",
        "        for v in self.getVertices():\n",
        "            somaGraus+= v.getGrau()\n",
        "        if somaGraus == len(self.getArestas())*2:\n",
        "            return True\n",
        "        else:\n",
        "            return False\n",
        "        \n",
        "    def dfs(self, graph, v, visitados=[]):# busca em profundidade recursiva\n",
        "        if v not in visitados: # se v nao foi visitado\n",
        "            visitados.append(v) # marca vertice como visitado\n",
        "        if len(v.getAdjacentes()) == 0: # vertice escolhido nao tem adjacentes\n",
        "            self.dfs(graph, next(iter(graph.getVertices())), visitados) # chamada recursiva pegando o proximo vertice do set\n",
        "        else: # vertice escolhido tem adjacentes\n",
        "            for adjacente in v.getAdjacentes(): #percorre todos os adjacentes a ele\n",
        "                if adjacente not in visitados: # se um dos adjacentes nao foi visitado\n",
        "                    self.dfs(graph, adjacente, visitados) # chamada recursiva para cada adjacente\n",
        "        return visitados\n",
        "    \n",
        "    def bfs(self, v, visitados = [], fila = deque([])):# busca em largura recursiva\n",
        "        fila.append(v)  # adiciona o vertice v a fila\n",
        "        if v not in visitados:  # se vertice v nao esta em visitados\n",
        "            visitados.append(v)  # adiciona vertice v a visitados\n",
        "        while fila:  # enquanto houver vertices na fila\n",
        "            vertice = fila.popleft()  # tira vertice ja visitado da fila\n",
        "            if len(vertice.getArestasSaida()) == 0: # vertice escolhido nao tem adjacentes\n",
        "                self.bfs(next(iter(self.getVertices())), visitados, fila) # chamada recursiva pegando o proximo vertice do set   \n",
        "            else:\n",
        "                for adjacente in vertice.getAdjacentes(): #percorre todos os adjacentes a ele\n",
        "                    if adjacente not in visitados: # se um dos adjacentes nao foi visitado\n",
        "                        visitados.append(adjacente)  # insere o adjacente em visitados\n",
        "                        self.bfs(adjacente, visitados, fila) # chamada recursiva pegando o proximo vertice do set\n",
        "        return visitados  # retorna a lista de visitados  \n",
        "    \n",
        "    def buscarPorValor(self, valor):# busca um valor no grafo usando a busca em profundidade O(|V|+|E|)\n",
        "        for v in self.bfs(next(iter(self.getVertices())), visitados = [], fila = deque([])):\n",
        "            if valor == v.getValor():\n",
        "                return valor\n",
        "        return None\n",
        "    \n",
        "    def existeCaminhoEuler(self):# checa a existencia de um caminho Euleriano no grafo\n",
        "        pares = True\n",
        "        impares = []\n",
        "        for v in self.getVertices():\n",
        "            if v.getGrau() % 2 != 0:\n",
        "                pares = False\n",
        "                impares.append(v)\n",
        "        return pares or len(impares) == 2\n",
        "    \n",
        "    def removerAresta(self, origem, destino, peso = 1): # remove uma aresta do grafo\n",
        "        try:\n",
        "            verticeOrigem  = self.getVerticeByValor(origem)\n",
        "            verticeDestino = self.getVerticeByValor(destino)\n",
        "            if (verticeOrigem or verticeDestino) is None:  # existem os vertices de origem e destino?\n",
        "                pass\n",
        "            else:\n",
        "                arestas_a_remover = []\n",
        "                for aresta in self.getArestas():\n",
        "                    if aresta.getVerticeOrigem() == verticeOrigem and aresta.getVerticeDestino() == verticeDestino and aresta.getPeso() == peso:\n",
        "                        arestas_a_remover.append(aresta)\n",
        "                [self.getArestas().remove(aresta) for aresta in arestas_a_remover]\n",
        "        except AttributeError as error:\n",
        "            print(\"Exceção: Nao ha no grafo, vertices de origem ou de destino com os valores informado!.\")\n",
        "            \n",
        "    def removerVertice(self, valor):# remove um vertice do grafo\n",
        "        try:\n",
        "            vertice  = self.getVerticeByValor(valor)\n",
        "            if vertice is None:  # existem os vertices de origem e destino?\n",
        "                pass\n",
        "            else:\n",
        "                arestas_a_remover = []\n",
        "                # arestas conectadas ao vertice precisam ser removidas antes\n",
        "                for a in vertice.getArestasSaida():\n",
        "                    arestas_a_remover.append(a)\n",
        "                for a in vertice.getArestasEntrada():\n",
        "                    arestas_a_remover.append(a)\n",
        "                [self.removerAresta(a.getVerticeOrigem(), a.getVerticeDestino(), a.getPeso()) for a in arestas_a_remover]    \n",
        "                self.__vertices.remove(vertice)\n",
        "        except AttributeError as error:\n",
        "            print(repr(error))\n",
        "            print(\"Exceção: Nao ha no grafo, vertices de origem ou de destino com os valores informado.\")\n",
        "            \n",
        "            \n",
        "    def getMatrizAdjacencia(self):# retorna uma matriz de adjacencia como dataframe pandas\n",
        "        import numpy as np\n",
        "        import pandas as pd\n",
        "        V = self.getVertices()\n",
        "        E = self.getArestas()\n",
        "        matriz = np.zeros((len(V), len(V)), dtype=object)\n",
        "        columns = []\n",
        "        [columns.append(v.getValor()) for v in V]\n",
        "        index =[]\n",
        "        [index.append(v.getValor()) for v in V]\n",
        "        matrizDeAdjacencias = pd.DataFrame(matriz, columns = columns, index = index)\n",
        "        for index, row in matrizDeAdjacencias.iterrows():\n",
        "            for e in E:\n",
        "                matrizDeAdjacencias.loc[e.getVerticeOrigem().getValor(), e.getVerticeDestino().getValor()] = e.getPeso()\n",
        "        return matrizDeAdjacencias\n",
        "    \n",
        "    def getMatrizAdjacenciaAsArray(self):# converte a matriz de adjacencia pandas.dataframe para array\n",
        "        return self.getMatrizAdjacencia().to_numpy()\n",
        "    \n",
        "    def getMatrizAdjacenciaAsDict(self):# converte a matriz de adjacencia pandas.dataframe para dicionario (lista de adjacencia)\n",
        "        return self.getMatrizAdjacencia().to_dict('dict')\n",
        "    \n",
        "    def WD40(self, distancia):\n",
        "        print(\"Distância do vértice (Dijkstra):\")\n",
        "        for n in range(self.Vertices):\n",
        "            print(n, \"-->\", distancia[n])\n",
        "\n",
        "    def minDistancia(self, distancia, swDij):\n",
        "        min = sys.maxsize\n",
        "        for v in range(self.Vertices):\n",
        "            if distancia[v] < min and swDij[v] == False:\n",
        "                min = distancia[v]\n",
        "                min_index = v\n",
        "        return min_index\n",
        " \n",
        "    def Dijkstra(self, value):\n",
        "        distancia = [sys.maxsize] * self.Vertices\n",
        "        distancia[value] = 0\n",
        "        swDij = [False] * self.Vertices\n",
        "        for cout in range(self.Vertices):\n",
        "            a = self.minDistancia(distancia, swDij)\n",
        "            swDij[a] = True\n",
        "            for v in range(self.Vertices):\n",
        "                if self.grafo[a][v] > 0 and swDij[v] == False and distancia[v] > distancia[a] + self.grafo[a][v]: distancia[v] = distancia[a] + self.grafo[a][v]\n",
        "\n",
        "        self.WD40(distancia)\n",
        "\n",
        "    def add(self, a, b, c):\n",
        "        self.Grafo.append([a, b, c])\n",
        "\n",
        "    def solucao(self, distancia):\n",
        "        print(\"Distância do vértice (BellmanFord):\")\n",
        "        for a in range(self.Vertices):\n",
        "            print(\"{0} --> {1}\".format(a, distancia[a]))\n",
        "\n",
        "    def BellmanFord(self, value):\n",
        "        distancia = [float(\"Inf\")] * self.Vertices\n",
        "        distancia[value] = 0\n",
        "        for _ in range(self.Vertices - 1):\n",
        "            for a, b, c in self.Grafo:\n",
        "                if distancia[a] != float(\"Inf\") and distancia[a] + c < distancia[b]:\n",
        "                    distancia[b] = distancia[a] + c\n",
        "        for a, b, c in self.Grafo:\n",
        "            if distancia[a] != float(\"Inf\") and distancia[a] + c < distancia[b]:\n",
        "                print(\"Grafo negativo\")\n",
        "                return\n",
        "\n",
        "        self.solucao(distancia)\n",
        "    \n",
        "    def printMSG(self, parent):\n",
        "        print(\"Árvore geradora mínima (Prim):\")\n",
        "        for i in range(1, self.Vertices):\n",
        "            print(parent[i], \"-\", i, \"-->\", self.grafo[i][parent[i]])\n",
        "\n",
        "    def minKey(self, key, primSet):\n",
        "        min = sys.maxsize\n",
        "        for v in range(self.Vertices):\n",
        "            if key[v] < min and primSet[v] == False:\n",
        "                min = key[v]\n",
        "                min_index = v\n",
        "        return min_index\n",
        "\n",
        "    def Prim(self):\n",
        "        key = [sys.maxsize] * self.Vertices\n",
        "        parent = [None] * self.Vertices \n",
        "        key[0] = 0\n",
        "        primSet = [False] * self.Vertices\n",
        "        parent[0] = -1 \n",
        "        for cout in range(self.Vertices):\n",
        "            u = self.minKey(key, primSet)\n",
        "            primSet[u] = True\n",
        "            for v in range(self.Vertices):\n",
        "                if self.grafo[u][v] > 0 and primSet[v] == False and key[v] > self.grafo[u][v]:\n",
        "                        key[v] = self.grafo[u][v]\n",
        "                        parent[v] = u\n",
        " \n",
        "        self.printMSG(parent)\n",
        "    \n",
        "    def search(self, parent, i):\n",
        "        if parent[i] == i:\n",
        "            return i\n",
        "        return self.search(parent, parent[i])\n",
        " \n",
        "    def union(self, parent, rank, x, y):\n",
        "        x = self.search(parent, x)\n",
        "        y = self.search(parent, y)\n",
        "        if rank[x] < rank[y]:\n",
        "            parent[x] = y\n",
        "        elif rank[x] > rank[y]:\n",
        "            parent[y] = x\n",
        "        else:\n",
        "            parent[y] = x\n",
        "            rank[x] += 1\n",
        " \n",
        "    def kruskal(self):\n",
        "        resto = []\n",
        "        i, e = 0, 0\n",
        "        self.Grafo = sorted(self.Grafo, key=lambda item: item[2])\n",
        "        parent = []\n",
        "        rank = []\n",
        "        for node in range(self.Vertices):\n",
        "            parent.append(node)\n",
        "            rank.append(0)\n",
        "        while e < self.Vertices - 1:\n",
        "            a, b, c = self.Grafo[i]\n",
        "            i = i + 1\n",
        "            x = self.search(parent, a)\n",
        "            y = self.search(parent, b)\n",
        "            if x != y:\n",
        "                e = e + 1\n",
        "                resto.append([a, b, c])\n",
        "                self.union(parent, rank, x, y)\n",
        "        for a, b, weight in resto:\n",
        "            print(a,\"-\", b, end = \" \")\n",
        "            print(\"-->\",weight)\n",
        "            "
      ],
      "metadata": {
        "id": "GLnGHgehJnR5"
      },
      "execution_count": 75,
      "outputs": []
    },
    {
      "cell_type": "code",
      "source": [
        "# Algoritmo guloso - Número Máximo de Tarefas:\n",
        "\n",
        "from collections import deque\n",
        "\n",
        "class Grafo:\n",
        "\n",
        "  def __init__(self, x, i ,f):\n",
        "    '''\n",
        "    Metodo construtor da classe: Tarefas\n",
        "    '''\n",
        "    self.Vertices = x\n",
        "    self.inicio = i\n",
        "    self.fim = f\n",
        "    self.peso = f - i\n",
        "\n",
        "#Esclher o que termina primeiro:\n",
        "o1 = Grafo(\"T1\", 0, 2)\n",
        "o2 = Grafo(\"T2\", 1, 3)\n",
        "o3 = Grafo(\"T3\", 2, 6)\n",
        "o4 = Grafo(\"T4\", 4, 6)\n",
        "o5 = Grafo(\"T5\", 4, 7)\n",
        "o6 = Grafo(\"T6\", 7, 8)\n",
        "o7 = Grafo(\"T7\", 6, 10)\n",
        "o8 = Grafo(\"T8\", 8, 11)\n",
        "\n",
        "lista=[o1, o2, o3, o4, o5, o6, o7, o8]\n",
        "\n",
        "lista.sort(key=lambda t: t.fim)\n",
        "for item in lista:\n",
        "  print(item.fim, \"-->\", item.Vertices)\n",
        "solucao=[]\n",
        "solucao.append(lista[0])\n",
        "posicao = 0\n",
        "\n",
        "for i in range(1, len(lista), +1):\n",
        "  if lista[i].inicio >= lista[posicao].fim:\n",
        "    solucao.append(lista[i])\n",
        "    pos = i\n",
        "print(\"A quantidade máxima de tarefas é: \", len(solucao))\n",
        "\n"
      ],
      "metadata": {
        "colab": {
          "base_uri": "https://localhost:8080/"
        },
        "id": "WedGtKYspe3s",
        "outputId": "e8ea3b6d-ac95-4b97-c1ad-d5b060f70a65"
      },
      "execution_count": 76,
      "outputs": [
        {
          "output_type": "stream",
          "name": "stdout",
          "text": [
            "2 --> T1\n",
            "3 --> T2\n",
            "6 --> T3\n",
            "6 --> T4\n",
            "7 --> T5\n",
            "8 --> T6\n",
            "10 --> T7\n",
            "11 --> T8\n",
            "A quantidade máxima de tarefas é:  7\n"
          ]
        }
      ]
    },
    {
      "cell_type": "code",
      "source": [
        "#Esclher o que começa primeiro:\n",
        "o1 = Grafo(\"T1\", 0, 2)\n",
        "o2 = Grafo(\"T2\", 1, 3)\n",
        "o3 = Grafo(\"T3\", 2, 6)\n",
        "o4 = Grafo(\"T4\", 4, 6)\n",
        "o5 = Grafo(\"T5\", 4, 7)\n",
        "o6 = Grafo(\"T6\", 7, 8)\n",
        "o7 = Grafo(\"T7\", 6, 10)\n",
        "o8 = Grafo(\"T8\", 8, 11)\n",
        "\n",
        "lista=[o1, o2, o3, o4, o5, o6, o7, o8]\n",
        "\n",
        "lista.sort(key=lambda t: t.inicio)\n",
        "for item in lista:\n",
        "  print(item.fim, \"-->\", item.Vertices)\n",
        "solucao=[]\n",
        "solucao.append(lista[0])\n",
        "posicao = 0\n",
        "\n",
        "for i in range(1, len(lista), +1):\n",
        "  if lista[i].inicio >= lista[posicao].fim:\n",
        "    solucao.append(lista[i])\n",
        "    pos = i\n",
        "print(\"A quantidade máxima de tarefas é: \", len(solucao))"
      ],
      "metadata": {
        "colab": {
          "base_uri": "https://localhost:8080/"
        },
        "id": "zvZISxOwuHoo",
        "outputId": "19ea2f44-324a-4567-ba17-7d60258fea18"
      },
      "execution_count": 77,
      "outputs": [
        {
          "output_type": "stream",
          "name": "stdout",
          "text": [
            "2 --> T1\n",
            "3 --> T2\n",
            "6 --> T3\n",
            "6 --> T4\n",
            "7 --> T5\n",
            "10 --> T7\n",
            "8 --> T6\n",
            "11 --> T8\n",
            "A quantidade máxima de tarefas é:  7\n"
          ]
        }
      ]
    },
    {
      "cell_type": "code",
      "source": [
        "#Esclher o de menor duração:\n",
        "o1 = Grafo(\"T1\", 0, 2)\n",
        "o2 = Grafo(\"T2\", 1, 3)\n",
        "o3 = Grafo(\"T3\", 2, 6)\n",
        "o4 = Grafo(\"T4\", 4, 6)\n",
        "o5 = Grafo(\"T5\", 4, 7)\n",
        "o6 = Grafo(\"T6\", 7, 8)\n",
        "o7 = Grafo(\"T7\", 6, 10)\n",
        "o8 = Grafo(\"T8\", 8, 11)\n",
        "\n",
        "lista=[o1, o2, o3, o4, o5, o6, o7, o8]\n",
        "\n",
        "lista.sort(key=lambda t: t.peso)\n",
        "for item in lista:\n",
        "  print(item.fim, \"-->\", item.Vertices)\n",
        "solucao=[]\n",
        "solucao.append(lista[0])\n",
        "posicao = 0\n",
        "\n",
        "for i in range(1, len(lista), +1):\n",
        "  if lista[i].inicio >= lista[posicao].fim:\n",
        "    solucao.append(lista[i])\n",
        "    pos = i\n",
        "print(\"A quantidade máxima de tarefas é: \", len(solucao))"
      ],
      "metadata": {
        "colab": {
          "base_uri": "https://localhost:8080/"
        },
        "id": "8xRGcZoIx1W5",
        "outputId": "21e87d34-d69c-41c6-d080-cb54fde56167"
      },
      "execution_count": 78,
      "outputs": [
        {
          "output_type": "stream",
          "name": "stdout",
          "text": [
            "8 --> T6\n",
            "2 --> T1\n",
            "3 --> T2\n",
            "6 --> T4\n",
            "7 --> T5\n",
            "11 --> T8\n",
            "6 --> T3\n",
            "10 --> T7\n",
            "A quantidade máxima de tarefas é:  2\n"
          ]
        }
      ]
    },
    {
      "cell_type": "code",
      "source": [
        "# Problema da Mochila\n",
        "from typing import List\n",
        "\n",
        "class Grafo:\n",
        "  def __init__(self, x, p ,v):\n",
        "    self.Vertices = x\n",
        "    self.valor = v\n",
        "    self.peso = p\n",
        "\n",
        "o1 = Grafo(\"Ouro\", 2, 100)\n",
        "o2 = Grafo(\"Prata\", 3, 50)\n",
        "o3 = Grafo(\"Bronze\", 2, 30)\n",
        "o4 = Grafo(\"Cobre\", 6, 120)\n",
        "o5 = Grafo(\"Platina\", 1, 20)\n",
        "\n",
        "lista=[o1, o2, o3, o4, o5]\n",
        "\n",
        "  def Mochila(self, n, item, cap, lista = []):\n",
        "    lista.append(item)\n",
        "    if len(n or cap) == 0:\n",
        "      return 0\n",
        "    if len(item(n-1), self.peso() > cap):\n",
        "      return item(n-1)\n",
        "    else:\n",
        "      usa = self.Mochila(item(n-1), lista, cap-self.peso())\n",
        "      nusa = self.Mochila(item(n-1), lista, cap)\n",
        "  print(Mochila(usa, \"-->\", nusa))\n",
        "  print(\"O melhor lucro é de: \", len(self.Vertices))\n",
        "\n",
        "'''\n",
        "public static int mochila(int n, List<Item> itens, int cap){\n",
        "    if(n==0 || cap==0){\n",
        "        return 0;\n",
        "    }\n",
        "    if(itens.get(n-1).getPeso() > cap){\n",
        "        return mochila(n-1, itens, cap);\n",
        "    }\n",
        "    else{\n",
        "        return Math.max(itens.get(n-1).getValor() + mochila(n-1, itens, cap-itens.get(n-1).getPeso()),\n",
        "                        mochila(n-1, itens, cap));\n",
        "    }\n",
        "}\n",
        "'''"
      ],
      "metadata": {
        "id": "QBa3WV1U0f-A"
      },
      "execution_count": 60,
      "outputs": []
    },
    {
      "cell_type": "code",
      "source": [
        "def recursivoMenorValor(listaNotas, valor):\n",
        "  menorValor = valor\n",
        "  if valor in listaNotas:\n",
        "    return 1\n",
        "  else:\n",
        "    for i in [c for c in listaNotas if c <= valor]:\n",
        "      quantNotas = 1 + recursivoMenorValor(listaNotas, valor-1)\n",
        "      if quantNotas < menorValor:\n",
        "        menorValor =  quantNotas\n",
        "  return menorValor\n",
        "\n",
        "print(recursivoMenorValor([1, 2, 5], 35))"
      ],
      "metadata": {
        "id": "-_caObmBQN8Z"
      },
      "execution_count": null,
      "outputs": []
    },
    {
      "cell_type": "code",
      "source": [
        "print(\"Árvore geradora mínima (Kruskal):\")\n",
        "G = Grafo(5)\n",
        "G.add(0, 1, 8)\n",
        "G.add(0, 2, 5)\n",
        "G.add(1, 2, 9)\n",
        "G.add(1, 3, 11)\n",
        "G.add(2, 3, 15)\n",
        "G.add(2, 4, 10)\n",
        "G.add(3, 4, 7)\n",
        "G.kruskal()"
      ],
      "metadata": {
        "id": "ry3BG_T_xr3O",
        "colab": {
          "base_uri": "https://localhost:8080/"
        },
        "outputId": "ec006639-8277-4f28-b315-c7d3b196c2cb"
      },
      "execution_count": 21,
      "outputs": [
        {
          "output_type": "stream",
          "name": "stdout",
          "text": [
            "Árvore geradora mínima (Kruskal):\n",
            "0 - 2 --> 5\n",
            "3 - 4 --> 7\n",
            "0 - 1 --> 8\n",
            "2 - 4 --> 10\n"
          ]
        }
      ]
    },
    {
      "cell_type": "code",
      "source": [
        "#(\"Árvore geradora mínima (Prim):\")\n",
        "G = Grafo(5)\n",
        "G.grafo = [ [0, 2, 0, 6, 0],\n",
        "            [2, 0, 3, 8, 5],\n",
        "            [0, 3, 0, 0, 7],\n",
        "            [6, 8, 0, 0, 9],\n",
        "            [0, 5, 7, 9, 0]]\n",
        " \n",
        "G.Prim();"
      ],
      "metadata": {
        "id": "0mYWiO-Dxr_z",
        "colab": {
          "base_uri": "https://localhost:8080/"
        },
        "outputId": "31cdf440-81d9-4fa8-8fc1-0ed37fa3fa4f"
      },
      "execution_count": 45,
      "outputs": [
        {
          "output_type": "stream",
          "name": "stdout",
          "text": [
            "Árvore geradora mínima (Prim):\n",
            "0 - 1 --> 2\n",
            "1 - 2 --> 3\n",
            "0 - 3 --> 6\n",
            "1 - 4 --> 5\n"
          ]
        }
      ]
    },
    {
      "cell_type": "code",
      "source": [
        "# Distância do vértice (Dijkstra):\n",
        "G = Grafo(9)\n",
        "G.grafo = [[0, 4, 0, 0, 0, 0, 0, 8, 0],\n",
        "           [4, 0, 8, 0, 0, 0, 0, 11, 0],\n",
        "           [0, 8, 0, 7, 0, 4, 0, 0, 2],\n",
        "           [0, 0, 7, 0, 9, 14, 0, 0, 0],\n",
        "           [0, 0, 0, 9, 0, 10, 0, 0, 0],\n",
        "           [0, 0, 4, 14, 10, 0, 2, 0, 0],\n",
        "           [0, 0, 0, 0, 0, 2, 0, 1, 6],\n",
        "           [8, 11, 0, 0, 0, 0, 1, 0, 7],\n",
        "           [0, 0, 2, 0, 0, 0, 6, 7, 0]\n",
        "           ]\n",
        "\n",
        "G.Dijkstra(0)"
      ],
      "metadata": {
        "colab": {
          "base_uri": "https://localhost:8080/"
        },
        "id": "lyJMKT0uVu5s",
        "outputId": "3af74ead-90cf-4ad2-8b03-669ec69f97f1"
      },
      "execution_count": 58,
      "outputs": [
        {
          "output_type": "stream",
          "name": "stdout",
          "text": [
            "Distância do vértice (Dijkstra):\n",
            "0 --> 0\n",
            "1 --> 4\n",
            "2 --> 12\n",
            "3 --> 19\n",
            "4 --> 21\n",
            "5 --> 11\n",
            "6 --> 9\n",
            "7 --> 8\n",
            "8 --> 14\n"
          ]
        }
      ]
    },
    {
      "cell_type": "code",
      "source": [
        "#Distância do vértice (BellmanFord):\n",
        "G = Grafo(5)\n",
        "G.add(0, 1, 2)\n",
        "G.add(0, 2, 4)\n",
        "G.add(1, 3, 2)\n",
        "G.add(2, 4, 3)\n",
        "G.add(2, 3, 4)\n",
        "G.add(4, 3, -5)\n",
        "\n",
        "G.BellmanFord(0)"
      ],
      "metadata": {
        "colab": {
          "base_uri": "https://localhost:8080/"
        },
        "id": "K5cFXnJr8UJp",
        "outputId": "ae6dadfd-fc38-4a3d-841c-7edb8b28485d"
      },
      "execution_count": null,
      "outputs": [
        {
          "output_type": "stream",
          "name": "stdout",
          "text": [
            "Distância do vértice (BellmanFord):\n",
            "0 --> 0\n",
            "1 --> 2\n",
            "2 --> 4\n",
            "3 --> 2\n",
            "4 --> 7\n"
          ]
        }
      ]
    },
    {
      "cell_type": "code",
      "source": [
        "v1 = Vertice(1)\n",
        "v2 = Vertice(2)\n",
        "v3 = Vertice(3)\n",
        "v4 = Vertice(4)\n",
        "v5 = Vertice(5)\n",
        "a1 = Aresta( v1, v2, 10, True )\n",
        "a2 = Aresta( v2, v3, 20, True )\n",
        "a3 = Aresta( v3, v4, 30, True )\n",
        "a4 = Aresta( v4, v1, 40, True )\n",
        "a5 = Aresta( v4, v5, 50, True )"
      ],
      "metadata": {
        "id": "0yHXHL4EJnWM"
      },
      "execution_count": null,
      "outputs": []
    },
    {
      "cell_type": "code",
      "source": [
        "G = Grafo(5)\n",
        "G.setVertices({v1, v2, v3, v4, v5})\n",
        "G.setArestas({a1, a2, a3, a4, a5})"
      ],
      "metadata": {
        "id": "C1TzXjWjJsG5"
      },
      "execution_count": null,
      "outputs": []
    },
    {
      "cell_type": "code",
      "source": [
        "for v in G.getVertices():\n",
        "    print(v.getValor(), end=\"\\t\")"
      ],
      "metadata": {
        "colab": {
          "base_uri": "https://localhost:8080/"
        },
        "id": "ILrAJgPqJsJg",
        "outputId": "37809c0b-b29c-41f9-a32a-8be8c42b1d7a"
      },
      "execution_count": null,
      "outputs": [
        {
          "output_type": "stream",
          "name": "stdout",
          "text": [
            "2\t3\t5\t4\t1\t"
          ]
        }
      ]
    },
    {
      "cell_type": "code",
      "source": [
        "for a in G.getArestas():\n",
        "    print(a.getVerticeOrigem().getValor(), end=\"\")\n",
        "    print(\" --\", a.getPeso(), \"--> \", end=\"\")\n",
        "    print(a.getVerticeDestino().getValor())"
      ],
      "metadata": {
        "colab": {
          "base_uri": "https://localhost:8080/"
        },
        "id": "M45UHDRPJsME",
        "outputId": "e76b4d12-4729-42a5-879c-7c521b9644bc"
      },
      "execution_count": null,
      "outputs": [
        {
          "output_type": "stream",
          "name": "stdout",
          "text": [
            "1 -- 10 --> 2\n",
            "2 -- 20 --> 3\n",
            "3 -- 30 --> 4\n",
            "4 -- 40 --> 1\n",
            "4 -- 50 --> 5\n"
          ]
        }
      ]
    },
    {
      "cell_type": "code",
      "source": [
        "G.getMatrizAdjacencia()"
      ],
      "metadata": {
        "colab": {
          "base_uri": "https://localhost:8080/",
          "height": 206
        },
        "id": "_meoltBgJxmO",
        "outputId": "4cf0df04-9ba8-4366-d7c5-3bb23f3f37cd"
      },
      "execution_count": null,
      "outputs": [
        {
          "output_type": "execute_result",
          "data": {
            "text/plain": [
              "    2   3   5   4   1\n",
              "2   0  20   0   0   0\n",
              "3   0   0   0  30   0\n",
              "5   0   0   0   0   0\n",
              "4   0   0  50   0  40\n",
              "1  10   0   0   0   0"
            ],
            "text/html": [
              "\n",
              "  <div id=\"df-ea689a8a-41d5-457d-b295-966e9e344a96\">\n",
              "    <div class=\"colab-df-container\">\n",
              "      <div>\n",
              "<style scoped>\n",
              "    .dataframe tbody tr th:only-of-type {\n",
              "        vertical-align: middle;\n",
              "    }\n",
              "\n",
              "    .dataframe tbody tr th {\n",
              "        vertical-align: top;\n",
              "    }\n",
              "\n",
              "    .dataframe thead th {\n",
              "        text-align: right;\n",
              "    }\n",
              "</style>\n",
              "<table border=\"1\" class=\"dataframe\">\n",
              "  <thead>\n",
              "    <tr style=\"text-align: right;\">\n",
              "      <th></th>\n",
              "      <th>2</th>\n",
              "      <th>3</th>\n",
              "      <th>5</th>\n",
              "      <th>4</th>\n",
              "      <th>1</th>\n",
              "    </tr>\n",
              "  </thead>\n",
              "  <tbody>\n",
              "    <tr>\n",
              "      <th>2</th>\n",
              "      <td>0</td>\n",
              "      <td>20</td>\n",
              "      <td>0</td>\n",
              "      <td>0</td>\n",
              "      <td>0</td>\n",
              "    </tr>\n",
              "    <tr>\n",
              "      <th>3</th>\n",
              "      <td>0</td>\n",
              "      <td>0</td>\n",
              "      <td>0</td>\n",
              "      <td>30</td>\n",
              "      <td>0</td>\n",
              "    </tr>\n",
              "    <tr>\n",
              "      <th>5</th>\n",
              "      <td>0</td>\n",
              "      <td>0</td>\n",
              "      <td>0</td>\n",
              "      <td>0</td>\n",
              "      <td>0</td>\n",
              "    </tr>\n",
              "    <tr>\n",
              "      <th>4</th>\n",
              "      <td>0</td>\n",
              "      <td>0</td>\n",
              "      <td>50</td>\n",
              "      <td>0</td>\n",
              "      <td>40</td>\n",
              "    </tr>\n",
              "    <tr>\n",
              "      <th>1</th>\n",
              "      <td>10</td>\n",
              "      <td>0</td>\n",
              "      <td>0</td>\n",
              "      <td>0</td>\n",
              "      <td>0</td>\n",
              "    </tr>\n",
              "  </tbody>\n",
              "</table>\n",
              "</div>\n",
              "      <button class=\"colab-df-convert\" onclick=\"convertToInteractive('df-ea689a8a-41d5-457d-b295-966e9e344a96')\"\n",
              "              title=\"Convert this dataframe to an interactive table.\"\n",
              "              style=\"display:none;\">\n",
              "        \n",
              "  <svg xmlns=\"http://www.w3.org/2000/svg\" height=\"24px\"viewBox=\"0 0 24 24\"\n",
              "       width=\"24px\">\n",
              "    <path d=\"M0 0h24v24H0V0z\" fill=\"none\"/>\n",
              "    <path d=\"M18.56 5.44l.94 2.06.94-2.06 2.06-.94-2.06-.94-.94-2.06-.94 2.06-2.06.94zm-11 1L8.5 8.5l.94-2.06 2.06-.94-2.06-.94L8.5 2.5l-.94 2.06-2.06.94zm10 10l.94 2.06.94-2.06 2.06-.94-2.06-.94-.94-2.06-.94 2.06-2.06.94z\"/><path d=\"M17.41 7.96l-1.37-1.37c-.4-.4-.92-.59-1.43-.59-.52 0-1.04.2-1.43.59L10.3 9.45l-7.72 7.72c-.78.78-.78 2.05 0 2.83L4 21.41c.39.39.9.59 1.41.59.51 0 1.02-.2 1.41-.59l7.78-7.78 2.81-2.81c.8-.78.8-2.07 0-2.86zM5.41 20L4 18.59l7.72-7.72 1.47 1.35L5.41 20z\"/>\n",
              "  </svg>\n",
              "      </button>\n",
              "      \n",
              "  <style>\n",
              "    .colab-df-container {\n",
              "      display:flex;\n",
              "      flex-wrap:wrap;\n",
              "      gap: 12px;\n",
              "    }\n",
              "\n",
              "    .colab-df-convert {\n",
              "      background-color: #E8F0FE;\n",
              "      border: none;\n",
              "      border-radius: 50%;\n",
              "      cursor: pointer;\n",
              "      display: none;\n",
              "      fill: #1967D2;\n",
              "      height: 32px;\n",
              "      padding: 0 0 0 0;\n",
              "      width: 32px;\n",
              "    }\n",
              "\n",
              "    .colab-df-convert:hover {\n",
              "      background-color: #E2EBFA;\n",
              "      box-shadow: 0px 1px 2px rgba(60, 64, 67, 0.3), 0px 1px 3px 1px rgba(60, 64, 67, 0.15);\n",
              "      fill: #174EA6;\n",
              "    }\n",
              "\n",
              "    [theme=dark] .colab-df-convert {\n",
              "      background-color: #3B4455;\n",
              "      fill: #D2E3FC;\n",
              "    }\n",
              "\n",
              "    [theme=dark] .colab-df-convert:hover {\n",
              "      background-color: #434B5C;\n",
              "      box-shadow: 0px 1px 3px 1px rgba(0, 0, 0, 0.15);\n",
              "      filter: drop-shadow(0px 1px 2px rgba(0, 0, 0, 0.3));\n",
              "      fill: #FFFFFF;\n",
              "    }\n",
              "  </style>\n",
              "\n",
              "      <script>\n",
              "        const buttonEl =\n",
              "          document.querySelector('#df-ea689a8a-41d5-457d-b295-966e9e344a96 button.colab-df-convert');\n",
              "        buttonEl.style.display =\n",
              "          google.colab.kernel.accessAllowed ? 'block' : 'none';\n",
              "\n",
              "        async function convertToInteractive(key) {\n",
              "          const element = document.querySelector('#df-ea689a8a-41d5-457d-b295-966e9e344a96');\n",
              "          const dataTable =\n",
              "            await google.colab.kernel.invokeFunction('convertToInteractive',\n",
              "                                                     [key], {});\n",
              "          if (!dataTable) return;\n",
              "\n",
              "          const docLinkHtml = 'Like what you see? Visit the ' +\n",
              "            '<a target=\"_blank\" href=https://colab.research.google.com/notebooks/data_table.ipynb>data table notebook</a>'\n",
              "            + ' to learn more about interactive tables.';\n",
              "          element.innerHTML = '';\n",
              "          dataTable['output_type'] = 'display_data';\n",
              "          await google.colab.output.renderOutput(dataTable, element);\n",
              "          const docLink = document.createElement('div');\n",
              "          docLink.innerHTML = docLinkHtml;\n",
              "          element.appendChild(docLink);\n",
              "        }\n",
              "      </script>\n",
              "    </div>\n",
              "  </div>\n",
              "  "
            ]
          },
          "metadata": {},
          "execution_count": 8
        }
      ]
    },
    {
      "cell_type": "code",
      "source": [
        "G.getMatrizAdjacenciaAsArray()"
      ],
      "metadata": {
        "colab": {
          "base_uri": "https://localhost:8080/"
        },
        "id": "O2ph6mfMJxos",
        "outputId": "1e5b22fb-3ef6-47cc-dadb-98c399c0919b"
      },
      "execution_count": null,
      "outputs": [
        {
          "output_type": "execute_result",
          "data": {
            "text/plain": [
              "array([[0, 20, 0, 0, 0],\n",
              "       [0, 0, 0, 30, 0],\n",
              "       [0, 0, 0, 0, 0],\n",
              "       [0, 0, 50, 0, 40],\n",
              "       [10, 0, 0, 0, 0]], dtype=object)"
            ]
          },
          "metadata": {},
          "execution_count": 9
        }
      ]
    },
    {
      "cell_type": "code",
      "source": [
        "G.getMatrizAdjacenciaAsDict()"
      ],
      "metadata": {
        "colab": {
          "base_uri": "https://localhost:8080/"
        },
        "id": "nCu0HZiQJsN4",
        "outputId": "9f7a4450-7eca-4a1b-e902-648990bd05db"
      },
      "execution_count": null,
      "outputs": [
        {
          "output_type": "execute_result",
          "data": {
            "text/plain": [
              "{1: {1: 0, 2: 0, 3: 0, 4: 40, 5: 0},\n",
              " 2: {1: 10, 2: 0, 3: 0, 4: 0, 5: 0},\n",
              " 3: {1: 0, 2: 20, 3: 0, 4: 0, 5: 0},\n",
              " 4: {1: 0, 2: 0, 3: 30, 4: 0, 5: 0},\n",
              " 5: {1: 0, 2: 0, 3: 0, 4: 50, 5: 0}}"
            ]
          },
          "metadata": {},
          "execution_count": 10
        }
      ]
    },
    {
      "cell_type": "code",
      "source": [
        "v1.getGrau()"
      ],
      "metadata": {
        "colab": {
          "base_uri": "https://localhost:8080/"
        },
        "id": "bDsnWIb1J4zY",
        "outputId": "1a5aed78-054c-4ff2-f1d8-8e0fc87a6446"
      },
      "execution_count": null,
      "outputs": [
        {
          "output_type": "execute_result",
          "data": {
            "text/plain": [
              "2"
            ]
          },
          "metadata": {},
          "execution_count": 11
        }
      ]
    },
    {
      "cell_type": "code",
      "source": [
        "G.checkHandShakingLemma()"
      ],
      "metadata": {
        "colab": {
          "base_uri": "https://localhost:8080/"
        },
        "id": "NEYpq5svJ416",
        "outputId": "f9dbb2e1-e832-4aac-d542-8859794dfffd"
      },
      "execution_count": null,
      "outputs": [
        {
          "output_type": "execute_result",
          "data": {
            "text/plain": [
              "True"
            ]
          },
          "metadata": {},
          "execution_count": 12
        }
      ]
    },
    {
      "cell_type": "code",
      "source": [
        "G.removerAresta(1, 2, peso = 10)\n",
        "for a in G.getArestas():\n",
        "    print(a.getVerticeOrigem().getValor(), end=\"\")\n",
        "    print(\" --\", a.getPeso(), \"--> \", end=\"\")\n",
        "    print(a.getVerticeDestino().getValor())"
      ],
      "metadata": {
        "colab": {
          "base_uri": "https://localhost:8080/"
        },
        "id": "MuJbNheiJ44X",
        "outputId": "270b2586-3513-4dd1-dcba-a7fd61adf51f"
      },
      "execution_count": null,
      "outputs": [
        {
          "output_type": "stream",
          "name": "stdout",
          "text": [
            "2 -- 20 --> 3\n",
            "3 -- 30 --> 4\n",
            "4 -- 40 --> 1\n",
            "4 -- 50 --> 5\n"
          ]
        }
      ]
    },
    {
      "cell_type": "code",
      "source": [
        "# Remocao de vertice\n",
        "print(\"Antes de remover\")\n",
        "for v in G.getVertices():\n",
        "    print(v.getValor(), end=\"\\t\")\n",
        "    \n",
        "G.removerVertice(1)\n",
        "print(\"\\nDepois de remover\")\n",
        "for v in G.getVertices():\n",
        "    print(v.getValor(), end=\"\\t\")"
      ],
      "metadata": {
        "colab": {
          "base_uri": "https://localhost:8080/"
        },
        "id": "rDJ7zzbXJ46k",
        "outputId": "4e0c6709-2825-4215-d33f-1c8e74bc0098"
      },
      "execution_count": null,
      "outputs": [
        {
          "output_type": "stream",
          "name": "stdout",
          "text": [
            "Antes de remover\n",
            "2\t3\t5\t4\t1\t\n",
            "Depois de remover\n",
            "2\t3\t5\t4\t"
          ]
        }
      ]
    },
    {
      "cell_type": "code",
      "source": [
        "#Busca em profundidade:\n",
        "v1 = Vertice(1)\n",
        "v2 = Vertice(2)\n",
        "v3 = Vertice(3)\n",
        "v4 = Vertice(4)\n",
        "v5 = Vertice(5)\n",
        "v6 = Vertice(6)\n",
        "a1 = Aresta( v1, v2, 10, True )\n",
        "a2 = Aresta( v2, v3, 20, True )\n",
        "a3 = Aresta( v3, v4, 30, True )\n",
        "a4 = Aresta( v4, v1, 40, True )\n",
        "a5 = Aresta( v4, v5, 50, True ) \n",
        "a6 = Aresta( v4, v6, 60, True ) \n",
        "G = Grafo(6)\n",
        "G.setVertices({v1, v2, v3, v4, v5,v6})\n",
        "G.setArestas({a1, a2, a3, a4, a5, a6})\n",
        "for vertice in G.getVertices():\n",
        "    print(f\"Busca em profundidade, iniciando com o vértice {vertice.getValor()}:\")\n",
        "    for v in G.dfs(G, vertice, visitados=[]):\n",
        "        print(str(v.getValor())+\"\\t\", end=\"\")\n",
        "    print(\"\\n.................................................\") "
      ],
      "metadata": {
        "colab": {
          "base_uri": "https://localhost:8080/"
        },
        "id": "tgeHrYL-J-hM",
        "outputId": "7fc7d5eb-c68c-4ac8-80ad-3aaeecf8e6aa"
      },
      "execution_count": null,
      "outputs": [
        {
          "output_type": "stream",
          "name": "stdout",
          "text": [
            "Busca em profundidade, iniciando com o vértice 2:\n",
            "2\t3\t4\t6\t5\t1\t\n",
            ".................................................\n",
            "Busca em profundidade, iniciando com o vértice 1:\n",
            "1\t2\t3\t4\t6\t5\t\n",
            ".................................................\n",
            "Busca em profundidade, iniciando com o vértice 3:\n",
            "3\t4\t6\t2\t5\t1\t\n",
            ".................................................\n",
            "Busca em profundidade, iniciando com o vértice 4:\n",
            "4\t6\t2\t3\t5\t1\t\n",
            ".................................................\n",
            "Busca em profundidade, iniciando com o vértice 5:\n",
            "5\t2\t3\t4\t6\t1\t\n",
            ".................................................\n",
            "Busca em profundidade, iniciando com o vértice 6:\n",
            "6\t2\t3\t4\t5\t1\t\n",
            ".................................................\n"
          ]
        }
      ]
    },
    {
      "cell_type": "code",
      "source": [
        "#Busca em largura:\n",
        "v1 = Vertice(1)\n",
        "v2 = Vertice(2)\n",
        "v3 = Vertice(3)\n",
        "v4 = Vertice(4)\n",
        "v5 = Vertice(5)\n",
        "v6 = Vertice(6)\n",
        "a1 = Aresta( v1, v2, 10, True )\n",
        "a2 = Aresta( v2, v3, 20, True )\n",
        "a3 = Aresta( v3, v4, 30, True )\n",
        "a4 = Aresta( v4, v1, 40, True )\n",
        "a5 = Aresta( v4, v5, 50, True ) \n",
        "a6 = Aresta( v4, v6, 60, True ) \n",
        "G = Grafo(6)\n",
        "G.setVertices({v1, v2, v3, v4, v5,v6})\n",
        "G.setArestas({a1, a2, a3, a4, a5, a6})\n",
        "for vertice in G.getVertices():\n",
        "    print(f\"Busca em largura, iniciando com o vértice {vertice.getValor()}:\")\n",
        "    for v in  G.bfs(vertice, visitados = [], fila = deque([])):\n",
        "        print(str(v.getValor())+\"\\t\", end=\"\")\n",
        "    print(\"\\n............................................\")   "
      ],
      "metadata": {
        "colab": {
          "base_uri": "https://localhost:8080/"
        },
        "id": "rws3MteKJ-jz",
        "outputId": "10468a0d-b4f4-4e00-df07-a67327f5faef"
      },
      "execution_count": null,
      "outputs": [
        {
          "output_type": "stream",
          "name": "stdout",
          "text": [
            "Busca em largura, iniciando com o vértice 1:\n",
            "1\t2\t3\t4\t5\t6\t\n",
            "............................................\n",
            "Busca em largura, iniciando com o vértice 3:\n",
            "3\t4\t5\t1\t2\t6\t\n",
            "............................................\n",
            "Busca em largura, iniciando com o vértice 4:\n",
            "4\t5\t1\t2\t3\t6\t\n",
            "............................................\n",
            "Busca em largura, iniciando com o vértice 5:\n",
            "5\t1\t2\t3\t4\t6\t\n",
            "............................................\n",
            "Busca em largura, iniciando com o vértice 6:\n",
            "6\t1\t2\t3\t4\t5\t\n",
            "............................................\n",
            "Busca em largura, iniciando com o vértice 2:\n",
            "2\t3\t4\t5\t1\t6\t\n",
            "............................................\n"
          ]
        }
      ]
    },
    {
      "cell_type": "code",
      "source": [
        "valor = int(input(\"Valor procurado: \"))\n",
        "if G.buscarPorValor(valor) == None:\n",
        "    print(f\"{valor} não encontrado no grafo\")\n",
        "else:\n",
        "    print(f\"{valor} encontrado no grafo\")\n",
        "# [print(f\"{v.getValor()} encontrado no grafo.\") for v in  G.bfs(v1, visitados = [], fila = deque([])) if n == v.getValor() ]"
      ],
      "metadata": {
        "colab": {
          "base_uri": "https://localhost:8080/"
        },
        "id": "bITbqxCLKJeQ",
        "outputId": "bd4ceac9-a744-48ea-c743-116e91ba23c5"
      },
      "execution_count": null,
      "outputs": [
        {
          "output_type": "stream",
          "name": "stdout",
          "text": [
            "Valor procurado: 144\n",
            "144 não encontrado no grafo\n"
          ]
        }
      ]
    },
    {
      "cell_type": "code",
      "source": [
        "if G.existeCaminhoEuler():\n",
        "    print(\"Grafo contém um caminho Euleriano\")\n",
        "else:\n",
        "    print(\"Grafo NÃO contém um caminho Euleriano\")"
      ],
      "metadata": {
        "colab": {
          "base_uri": "https://localhost:8080/"
        },
        "id": "tN20jv_LKJhA",
        "outputId": "5b1fcd07-a7cb-4d38-d53f-33a2fae4e808"
      },
      "execution_count": null,
      "outputs": [
        {
          "output_type": "stream",
          "name": "stdout",
          "text": [
            "Grafo contém um caminho Euleriano\n"
          ]
        }
      ]
    }
  ]
}
