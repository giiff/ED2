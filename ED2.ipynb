{
 "cells": [{{
"nbformat": 4,
"nbformat_minor": 0,
"metadata": {
"colab": {
"name": "ED2_github.com/giiff.ipynb",
"provenance": [],
"collapsed_sections": [] ,
"authorship_tag": "ABX9TyNvx3if7bfp887HQDOi6HKI",
"include_colab_link": true
},
"kernelspec": {
"name": "python3",
"display_name": "Python 3"
},
"language_info": {
"name": "python "
}
},
"cells": [
{
"cell_type": "markdown",
"metadata": {
"id": "view-in-github",
"colab_type": "texto"
},
"source": [
"<a href="https://colab.research.google.com/github/JoaoVitttt/ED2_JJoaoVictor/blob/main/ED2_github_com_giiff.ipynb" target="_parent"><img src="https://colab.research .google.com/assets/colab-badge.svg" alt="Abrir no Colab"/>"
]
},
{
"cell_type": "code",
"source": [
"class Vertice:\n",
" ' ''\n",
" Classe que representa um vértice tendo como atributo:\n",
" - valor do vértice que pode ser outro objeto qualquer (um número, uma string, etc...)\n",
" - um conjunto de arestas incidentes ao vértice\n",
" Criação do objeto:v = Vertice(valor)\n",
" '''\n",
" def init (self, valor, arestas = set(), direcionado=True):\n",
" '''\n",
" Método construtor da classe\n",
" '''\n",
" self.__valor = valor\n",
" self.__arestas = arestas\n",
" self.__direcionado = direcionado\n",
" \n",
" def getValor(self):# retorna valor do vértice\n",
" return self.__valor\n",
" \n",
" def setValor(self, valor): # prove um valor ao vértice\n",
" self.__valor = valor\n",
" \n",
" def getArestas(self): # retorna as arestas do vértice\n",
" return self.__arestas\n" ,
" \n",
" def setAresta(self, aresta):# prove uma aresta ao vértice\n",
" self.__arestas.add(aresta)\n",
" \n",
" def getArestasSaida(self): # retorna uma lista com as arestas que saem do vértice\n",
" try:\n",
" if self .__direcionado == False:\n",
" return self.__arestas\n",
" arestasDeSaida = []\n",
" para aresta em self.__arestas:\n",
" if aresta.getVerticeOrigem() == self :\n",
" arestasDeSaida.append(aresta)\n",
" return arestasDeSaida\n",
" exceto AttributeError: \n",
" return []\n",
" \n",
" def getArestasEntrada(self):# retorna uma lista com as arestas que entram do vértice\n",
" try:\n",
" if self.__direcionado == False:\n",
" return self.__arestas\n",
" arestasSaida = []\n",
" for aresta in self.__arestas:\n",
" if aresta.getVerticeDestino() == self:\n",
" arestasSaida.append(aresta)\n",
" return arestasSaida\n",
" exceto AttributeError: \n",
" return []\n",
" \n",
" def getGrau(self):# retorna o grau do vértice\n",
" return len(self.getArestasSaida()) + len(self.getArestasEntrada())\n",
" \n",
" def getAdjacentes(self): # retorna uma lista com os vértices adjacentes ao vértice v\n",
"listaVerticesAdjacentes = []\n",
" para arestas_de_saida em self.getArestaSaida():\n",
" listaVerticesAdjacentes.append(arestas_de_saida.getVerticeDestino())\n",
" return listaVerticesAdjacentes"
],
"metadata": {
" id": "6l6Z9H7LJfsz"
},
"execution_count": 1,
"outputs": []
},
{
"cell_type": "code",
"source": [
"class Aresta:\n",
" '''\n ",
" Classe que representa uma área tendo como atributos:\n",
" - vertice_origem:o vértice de origem (v:Vertice)\n",
" - vertice_destino: o vértice de destino (v:vertice)\n",
" qualquer peso: o peso da aresta que pode ser um objeto (int, str, etc...)\n",
" - direcionado: sinalizador indicando a aresta e direcionado ou não (padrao True)\n",
" '''\n",
" def init (self, vertice_origem:Vertice, vertice_destino:Vertice, peso = 1, direcionado = True):\n",
" '''\n",
" Método construtor da classe: preenche os atributos\n",
" '''\n",
" self.__vertice_origem = vértice_origem\n",
" self.__vertice_destino = vértice_destino\n",
" self.__peso = peso\n",
" self.__direcionada = direcionada\n",
" self.__vertice_origem.setAresta(self)\n",
" self.__vertice_destino.setAresta(self)\n",
" \n",
" def getVerticeOrigem(self):\n",
" return self.__vertice_origem\n",
" def getVerticeDestino(self):\n",
" return self.__vertice_destino\n",
" def getPeso(self):\n",
" return self.__peso\n",
" \n",
" \n",
"# v1 = Vertice(1)\n",
"# v2 = Vertice(2)\n",
"# a = Aresta(v1, v2, 10 )\n",
"# print(a.getVerticeOrigem().getValor())\n",
"# print( a.getVerticeDestino().getValor())\n",
"# print(v1.getGrau())\n",
"# v.getArestasSaida()\n",
"# v.getArestasEntrada()\n",
"# v.getAdjacentes() "
],
"metadata": {
"id": "yrTtODw9JjZx"
},
"execution_count": 2,
"outputs": []
},
{
"cell_type": "code",
"source": [
"from collections import deque\n" ,
"import sys\n",
"\n",
"class Grafo:\n",
" '''\n",
" Classe que representa o grafo tendo como atributos:\n",
" - um conjunto de vértices nao vazio\n",
" - um conjunto de arestas (vazio ou nao)\n",
" '''\n",
" def init (self, x):\n",
" self.Vertices = x\n",
" self.Grafo = [] #[[0 for column in range(x)]for row in range(x)]\n",
" '''\n",
" Metodo construtor da classe: preenchimento dos atributos\n",
" '''\n",
" self.__vertices = set()\n",
" self.__arestas = set()\n",
" \n",
" def setVertices(self, vertices):# prove o conjunto de vértices do grafo\n",
" self.__vertices = vertices\n",
"\n",
" def getVertices(self):# retorna o conjunto de vértices do grafo\n",
" return self.__vertices\n",
" \n",
" def setArestas(self, arestas):# prova o conjunto de arestas do grafo\n",
" self.__arestas = arestas\n",
"\n",
" def getArestas(self):# retorna o conjunto de arestas do grafo\n",
" return self.__arestas\n",
" \n",
" def getVerticeByValor(self, valor):# retorna um objeto da classe Vertice contendo um valor informado, se existir\n",
" for v in self.__vertices:\ n",
" if v.getValor() == valor:\n",
" return v\n",
" return None\n",
"\n",
" def adicionarVertice(self, valor):# Adiciona um vértice ao grafo, caso não exista vertice com o mesmo valor\n",
" if self.buscarPorValor(valor) != valor:# valor nao esta no grafo\n",
" self.__vertices.add(Vertice(valor))\ n",
" retorna Verdadeiro\n",
"return False\n",
"\n",
" def adicionarAresta(self, origem, destino, peso = 1, direcionado = True):# adicionado uma aresta ao grafo ligando 2 vértices\n",
" try:\n",
" verticeOrigem = self.getVerticeByValor(origem)\n ",
" verticeDestino = self.getVerticeByValor(destino)\n",
" if (verticeOrigem or verticeDestino) is None: # existem os vértices de origem e destino?\n",
" print("Nao ha no grafo, vertices de origem ou de destino com os valores informados.")\n",
" self.getAresta().add(Aresta(verticeOrigem, verticeDestino, peso, direcionado))\n",
"exceto AttributeError as error:\n",
" print("Exceção: Nao ha no grafo, vertices de origem ou de destino com os valores informados.")\n",
" \n",
" def checkHandShakingLemma(self):# checa o lema do "aperto de mao" \n",
" somaGraus = 0\n",
" for v in self.getVertices():\n",
" somaGraus+= v.getGrau()\n",
" if somaGraus == len(self.getArestas() )*2:\n",
" return True\n",
" else:\n",
" return False\n",
" \n",
" def dfs(self, graph, v, visitados=[]): # busca em profundidade recursiva\n",
" if v not in visitados:# se v nao foi visitado\n",
" visitados.append(v) # marca vertice como visitado\n",
" if len(v.getAdjacentes()) == 0: # vértice escolhido nao tem adjacentes\n",
" self.dfs(graph, next(iter(graph.getVertices())), visitados) # chamada recursiva pegando o proximo vértice do set\n",
" else: # vértice escolhido tem adjacentes\n",
" para adjacente em v.getAdjacentes(): #percorre todos os adjacentes a ele\n",
" se adjacente não em visitados: # se um dos adjacentes não foi visitado\n",
" self.dfs(graph, adjacente, visitados) # chamada recursiva para cada adjacente\n",
" return visitados\n",
" \n",
" def bfs(self, v , visitados = [], fila = deque([])):# busca em largura recursiva\n",
" fila.append(v) # adiciona o vértice va fila\n",
" if v not in visitados: # se vertice v nao esta em visitados\n",
" visitados.append(v) # adiciona vertice va visitados\n ",
" while fila: # enquanto houver vertices na fila\n",
" vertice = fila.popleft() # tira vertice ja visitado da fila\n",
" if len(vertice.getArestasSaida()) == 0: # vértice escolhido não tem adjacentes\n",
" self.bfs(next(iter(self.getVertices())), visitados, fila) # chamada recursiva pegando o proximo vértice do set \n",
" else:\n",
" para adjacente em vertice.getAdjacentes():#percorre todos os adjacentes a ele\n",
" if adjacente não adjacente em visitados: # se um dos visitantes nao foi visitado\n",
" visitados.append(adjacente) # insere o adjacente em visitados\n",
" self.bfs(adjacente, visitados, fila) # chamada recursiva pegando o proximo vertice do set\n",
" return visitados # retorna a lista de visitados \n",
" \n",
" def buscarPorValor(self, valor):# busca um valor no grafo usando a busca em profundidade O( |V|+|E|)\n",
" para v em self.bfs(next(iter(self.getVertices())), visitados = [], fila = deque([])):\n",
" if valor == v.getValor():\n",
" return valor\n",
" return Nenhum\n",
"\n",
" def existeCaminhoEuler(self):# checa a existência de um caminho Euleriano no grafo\n",
" pares = True\n",
" impares = []\n",
" for v in self.getVertices():\n ",
" if v.getGrau() % 2 != 0:\n",
" pares = False\n",
" impares.append(v)\n",
" return pares ou len(impares) == 2\ n",
" \n",
" def removedorAresta(self, origem, destino, peso = 1): # remove uma aresta do grafo\n",
" try:\n",
" verticeOrigem = self.getVerticeByValor(origem)\ n",
" vérticeDestino = self.getVerticeByValor(destino)\n",
" if (verticeOrigem or verticeDestino) is None: # existem os vértices de origem e destino?\n",
" pass\n",
" else:\n",
" arestas_a_remover = []\n",
" for aresta in self .getArestas():\n",
" if aresta.getVerticeOrigem() == verticeOrigem e aresta.getVerticeDestino() == verticeDestino e aresta.getPeso() == peso:\n",
" arestas_a_remover.append(aresta)\ n",
" [self.getArestas().remove(aresta) para aresta em arestas_a_remover]\n",
" exceto AttributeError como erro:\n",
" print("Exceção: Nao ha no grafo,vértices de origem ou de destino com os valores informados!.")\n",
" \n",
" def removeVertice(self, valor):# remove um vértice do grafo\n",
" try:\n",
" vertice = self.getVerticeByValor(valor)\n",
" if vertice is None: # existem os vértices de origem e destino?\n"
,
" else:\n
" arestas_a = []\n",
" # arestas conectadas ao vértice", " # arestas conectadas ao vértice precisam ser "acessíveis antes\n",
" para a em vertice.getArestasSaida():\n",
" arestas_a_remover.append(a)\n",
" para a em vertice.getArestasEntrada():\n",
"arestas_a_remover.append(a)\n",
" [self.removerAresta(a.getVerticeOrigem(), a.getVerticeDestino(), a.getPeso()) para um em arestas_a_remover] \n",
" self.__vertices.remove(vertice)\n",
" exceto AttributeError como error:\n",
" print(repr(error))\n",
" print("Exceção: Não ha no grafo, vertices de origem ou de destino com os valores informados.")\n",
" \n" ,
" \n",
" def getMatrizAdjacencia(self):# retorna uma matriz de adjacencia como dataframe pandas\n",
" import numpy as np\n",
" import pandas as pd\n",
" V ​​= self.getVertices ()\n",
" E = self.getArestas()\n",
" matriz = np.zeros((len(V), len(V)), dtype=objeto)\n",
" colunas = []\n",
" [columns.append(v.getValor()) for v em V]\n",
" index =[]\n",
" [index.append(v.getValor()) para v em V]\n",
"matrizDeAdjacencias = pd.DataFrame(matriz, colunas = colunas, index = index)\n",
" for index, row in matrizDeAdjacencias.iterrows():\n",
" for e in E:\n",
"matrizDeAdjacencias.loc[e.getVerticeOrigem().getValor(), e .getVerticeDestino().getValor()] = e.getPeso()\n",
" return matrizDeAdjacências\n",
" \n",
"def getMatrizAdjacenciaAsArray(self):# converte uma matriz de adjacência pandas.dataframe para array\n",
" return self.getMatrizAdjacencia().to_numpy()\n",
" \n",
" def getMatrizAdjacenciaAsDict(self):# converte uma matriz de adjacência pandas.dataframe para dicionário (lista de adjacencia)\n",
" return self .getMatrizAdjacencia().to_dict('dict')\n",
" \n",
" def WD40(self, distancia):\n",
" print("Distância do vértice (Dijkstra):")\n",
" for n in range(self.Vertices):\n",
" print(n, "-->", distancia[n])\n",
"\n",
" def minDistancia(self, distancia, swDij) :\n",
" min = sys.maxsize\n",
"for v in range(self.Vertices):\n",
" if distancia[v] < min e swDij[v] == False:\n",
" min = distancia[v]\n",
" min_index = v\n",
" return min_index\n",
" \n",
" def Dijkstra(self, value):\n",
" distancia = [sys. maxsize] * self.Vertices\n",
" distancia[value] = 0\n",
" swDij = [False] * self.Vertices\n",
" for cout in range(self.Vertices):\n",
" a = self.minDistancia(distancia, swDij)\n",
" swDij[a] = True\n",
" for v in range(self.Vertices):\n",
" if self.grafo[a][ v] > 0 e swDij[v] == False e distancia[v] > distancia[a] + self.grafo[a][v]:distancia[v] = distancia[a] + self.grafo[a][v]\n",
"\n",
" self.WD40(distancia)\n",
"\n",
" def add(self, a, b, c):\n",
" self.Grafo.append([a, b, c])\n",
"\n",
" def solucao(self, distancia): \n",
" print("Distância do vértice (BellmanFord):")\n",
" for a in range(self.Vertices):\n",
" print("{0} --> {1}" .format(a, distancia[a]))\n",
"\n",
" def BellmanFord(self, value):\n",
" distancia = [float("Inf")] * self.Vertices\n ",
" distancia[valor] = 0\n",
" for _ in range(self.Vertices - 1):\n",
" for a, b, c in self.Grafo:\n",
" if distancia[ a] != float("Inf") e distancia[a] + c < distancia[b]:\n",
" distancia[b] = distancia[a] + c\n",
" for a, b, c in self.Grafo:\n",
" if distancia[a] != float("Inf") e distancia[a] + c < distancia[b]:\n",
" print( "Gráfico negativo")\n",
" return\n",
"\n",
" self.solucao(distancia) \n",
" \n"
],
"metadata": {
"id": "GLnGHgehJnR5"
} ,
"execution_count": 33,
"outputs": []
},
{
"cell_type": "code",
"source": [
"G = Grafo(9)\n",
"G.grafo = [[0, 4 , 0, 0, 0, 0, 0, 8, 0],\n",
" [4, 0, 8,0, 0, 0, 0, 11, 0],\n",
" [0, 8, 0, 7, 0, 4, 0, 0, 2],\n",
" [0, 0, 7, 0, 9, 14, 0, 0, 0],\n",
" [0, 0, 0, 9, 0, 10, 0, 0, 0],\n",
"[0, 0, 4, 14, 10, 0, 2, 0, 0],\n",
" [0, 0, 0, 0, 0, 2, 0, 1, 6],\n",
" [8, 11, 0, 0, 0, 0, 1, 0, 7],\n",
" [0, 0, 2, 0, 0, 0, 6, 7, 0]\n",
" ]\n",
" \n",
"G.Dijkstra(0)"
],
"metadados": {
"colab": {
"base_uri": "https://localhost:8080/"
},
"id": "lyJMKT0uVu5s",
"outputId": "6316970b-5c37-4b25-8063-60fd2e317f6e"
},
"execution_count": 34,
"saídas":[
{
"output_type": "stream",
"name": "stdout",
"text": [
"Distância do vértice (Dijkstra):\n",
"0 --> 0\n",
"1 --> 4\n",
"2 --> 12\n",
"3 --> 19\n",
"4 --> 21\n",
"5 --> 11\n",
"6 --> 9\n",
"7 --> 8\n",
"8 --> 14\n"
]
}
]
},
{
"cell_type": " code",
"source": [
"G = Grafo(5)\n",
"G.add(0, 1, 2)\n",
"G.add(0, 2, 4)\n",
" G.add(1, 3, 2)\n",
"G.add(2, 4, 3)\n",
"G.add(2, 3, 4)\n",
"G.add(4) , 3, -5)\n",
"\n",
"G.BellmanFord(0)"
],
"metadata": {
"colab": {
"base_uri": "https://localhost:8080/"
},
"id": "K5cFXnJr8UJp",
"outputId": "ae6dadfd-fc38-4a3d-841c-7edb8b28485d"
},
"execution_count": 32,
"outputs": [
{
"output_type": "stream",
"name": "stdout",
"text": [
"Distância do vértice (BellmanFord):\n",
"0 --> 0\n",
"1 --> 2\n",
"2 --> 4\n",
"3 --> 2\n ",
"4 --> 7\n"
]
}
]
},
{
"cell_type": "code",
"source": [
"G.BellmanFord(0)"
],
"metadata": {
"id": "KyE1Os5s8UQ-"
},
"execution_count": null,
"outputs": []
},
{
"cell_type": "code",
"source": [
"v1 = Vértice(1)\n",
"v2 = Vértice(2)\n",
"v3 = Vértice(3)\n",
"v4 = Vértice(4)\n",
"v5 = Vértice(5) )\n",
"a1 = Aresta( v1, v2, 10, True )\n",
"a2 = Aresta( v2, v3, 20, True )\n",
"a3 = Aresta( v3, v4, 30, True )\n",
"a4 = Aresta( v4, v1, 40, True )\n",
"a5 = Aresta( v4, v5, 50, True )"
],
"metadata": {
"id": "0yHXHL4EJnWM "
},
"execution_count": 4,
"outputs": []
},
{
"cell_type": "code",
"source": [
"G = Grafo()\n",
"G.setVertices({v1, v2, v3, v4, v5})\n",
"G.setArestas({a1, a2, a3, a4, a5})"
],
"metadados": {
"id": "C1TzXjWjJsG5"
},
"execution_count": 5,
"outputs": []
},
{
"cell_type": "code",
"source": [
"for v in G.getVertices():\n" ,
" print(v.getValor(), end="\t")"
],
"metadata": {
"colab": {
"base_uri": "https://localhost:8080/"
},
"id": "ILrAJgPqJsJg",
"outputId": "37809c0b-b29c-41f9-a32a-8be8c42b1d7a"
},
"execution_count": 6,
"outputs": [
{
"output_type": "stream",
"name": "stdout",
"text": [
"2\t3\t5\t4\t1\t"
]
}
]
},
{
"cell_type": "code",
"source": [
"para a em G.getArestas():\n",
" print(a.getVerticeOrigem().getValor(), end="")\n",
" print(" --", a .getPeso(), "--> ", end="")\n",
" print(a.getVerticeDestino().getValor())"
],
"metadata": {
"colab": {
"base_uri": "https://localhost:8080/"
},
"id": "M45UHDRPJsME",
"outputId": "e76b4d12-4729-42a5-879c-7c521b9644bc"
},
"execution_count": 7,
"outputs": [
{
" output_type": "stream",
"name": "stdout",
"texto": [
"1 -- 10 --> 2\n",
"2 -- 20 --> 3\n",
"3 -- 30 --> 4\n",
"4 -- 40 - -> 1\n",
"4 -- 50 --> 5\n"
]
}
]
},
{
"cell_type": "code",
"source": [
"G.getMatrizAdjacencia()"
],
"metadata": {
"colab": {
"base_uri": "https://localhost:8080/ ",
"altura": 206
},
"id": "_meoltBgJxmO",
"outputId": "4cf0df04-9ba8-4366-d7c5-3bb23f3f37cd"
},
"execution_count": 8,
"outputs": [
{
"output_type": "execute_result",
"data": {
"texto/simples": [
" 2 3 5 4 1\n",
"2 0 20 0 0 0\n",
"3 0 0 0 30 0\n",
"5 0 0 0 0 0\n",
"4 0 0 50 0 40\n",
"1 10 0 0 0 0 "
],
"text/html": [
"\n",
" <div id="df-ea689a8a-41d5-457d-b295-966e9e344a96">\n",
" <div class="colab-df-container"> \n",
"

\n",
"<style scoped>\n",
" .dataframe tbody tr th:only-of-type {\n",
" vertical-align: middle;\n",
" }\n",
"\n ",
" .dataframe tbody tr th {\n",
" vertical-align: top;\n",
" }\n",
"\n",
" .dataframe thead th {\n",
" text-align: right;\n",
" }\n",
"</style>\n",
"<table border="1" class="dataframe">\n",
" \n",
" <tr style=" text-align: right;">\n",
" \n",
"2\n",
" 3\n",
" 5\n",
" 4\n",
" 1\n",
" \n",
" \n",
" \n",
" \n",
" 2\n",
" 0\n",
" 20\n",
" 0\n",
" 0\n",
" 0\n",
" \n",
" \n",
" 3\n ",
" 0\n",
" 0\n",
" 0\n",
" 30\n",
" 0\n",
" \n",
" \n",
" 5\n",
" 0 \n",
" 0\n",
" 0\n",
" 0\n",
" 0\n",
" \n",
" \n",
" 4\n",
" 0\n",
" 0\n",
" 50\n",
" 0\n",
" 40\n",
" \n",
" \n",
" 1\n",
" 10\n",
" 0\n",
" 0\n",
" 0\n",
" 0\n",
" \n",
" \n",
"\n",
"
\n",
" <button class="colab-df-convert" onclick="convertToInteractive('df-ea689a8a-41d5-457d-b295-966e9e344a96')"\n",
" title="Converter este dataframe em um table."\n",
" style="display:none;">\n",
" \n",
" <svg xmlns="http://www.w3.org/2000/svg" height="24px "viewBox="0 0 24 24"\n",
" width="24px">\n",
" <path d="M0 0h24v24H0V0z" fill="none"/>\n",
" <caminho d="M18.56 5.44l.94 2.06.94-2.06 2.06-.94-2.06-.94-.94-2.06-.94 2.06-2.06.94zm-11 1L8.5 8.5l.94- 2.06 2.06-.94-2.06-.94L8.5 2.5l-.94 2.06-2.06.94zm10 10l.94 2.06.94-2.06 2.06-.94-2.06-.94-.94-2.06-.94 2.06-2.06 .94z"/><path d="M17.41 7.96l-1.37-1.37c-.4-.4-.92-.59-1.43-.59-.52 0-1.04.2-1.43.59L10. 3 9.45l-7.72 7.72c-.78.78-.78 2.05 0 2.83L4 21.41c.39.39.9.59 1.41.59.51 0 1.02-.2 1.41-.59l7.78-7.78 2.81-2.81c.8-.78.8-2.07 0-2,86zM5,41 20L4 18,59l7,72-7,72 1,47 1,35L5,41 20z"/>\n",
" \n",
" \n",
" \n",
" <style>\n",
" .colab-df-container {\n",
" display:flex;\n",
" flex-wrap:wrap;\n",
" gap: 12px;\n",
" }\n",
"\n",
" .colab-df-convert {\n",
" cor de fundo: #E8F0FE;\n",
" borda: nenhuma;\n",
" raio da borda: 50%;\n",
" cursor: ponteiro;\n",
" display: nenhum;\n" ,
" preenchimento: #1967D2;\n",
" altura: 32px;\n",
" preenchimento: 0 0 0 0;\n",
" largura: 32px;\n",
" }\n",
"\n ",
" .colab-df-convert:hover {\n",
" background-color: #E2EBFA;\n",
" box-shadow: 0px 1px 2px rgba(60, 64, 67, 0.3), 0px 1px 3px 1px rgba(60, 64, 67, 0,15);\n",
" preenchimento: #174EA6;\n",
" }\n",
"\n",
" [tema=escuro] .colab-df-convert {\n",
" cor de fundo: #3B4455;\n",
" preenchimento: #D2E3FC;\n",
acessoPermitido? 'block' : 'none';\n", "\n", " função assíncrona convertToInteractive(key) {\n",
















" const element = document.querySelector('#df-ea689a8a-41d5-457d-b295-966e9e344a96');\n",
" const dataTable =\n",
" await google.colab.kernel.invokeFunction('convertToInteractive', \n",
" [chave], {});\n",
" if (!dataTable) return;\n",
"\n",
" const docLinkHtml = 'Gostou do que viu? Visite o ' +\n ",
" '<a target="_blank" href=https://colab.research.google.com/notebooks/data_table.ipynb>caderno de tabela de dados'\n",
" + ' para saber mais sobre tabelas interativas.' ;\n",
"element.innerHTML = '';\n",
" dataTable['output_type'] = 'display_data';\n",
" await google.colab.output.renderOutput(dataTable, element);\n",
" const docLink = document.createElement('div');\n",
" docLink.innerHTML = docLinkHtml;\n",
" element. appendChild(docLink);\n",
" }\n",
" </script>\n",
" \n",
" \n",
" "
]
},
"metadados": {},
"execution_count": 8
}
]
},
{
"cell_type": "code",
"source": [
"G.getMatrizAdjacenciaAsArray()"
],
"metadata":{
"colab": {
"base_uri": "https://localhost:8080/"
},
"id": "O2ph6mfMJxos",
"outputId": "1e5b22fb-3ef6-47cc-dadb-98c399c0919b"
},
"execution_count": 9,
"outputs": [
{
"output_type": "execute_result",
"data": {
"text/plain": [
" array([[0, 20, 0, 0, 0],\n",
" [0, 0, 0, 30, 0],\n",
" [0, 0, 0, 0, 0],\ n",
" [0, 0, 50, 0, 40],\n",
" [10, 0, 0, 0, 0]], dtype=object)"
]
},
"metadados": {},
" execution_count": 9
}
]
},
{
"cell_type": "code",
"source": [
"G.getMatrizAdjacenciaAsDict()"
],
"metadata": {
"colab": {
"base_uri": "https://localhost:8080/"
},
"id": "nCu0HZiQJsN4",
"outputId": "9f7a4450-7eca-4a1b-e902-648990bd05db"
},
"execution_count": 10,
"outputs": [
{
"output_type": "execute_result",
"data" : {
"texto/simples": [
"{1: {1: 0, 2: 0, 3: 0, 4: 40, 5: 0},\n",
" 2: {1: 10, 2: 0 , 3: 0, 4: 0, 5: 0},\n",
" 3: {1: 0, 2: 20, 3: 0, 4: 0, 5: 0},\n",
" 4: {1: 0, 2: 0, 3: 30, 4: 0, 5: 0},\n",
" 5: {1: 0, 2: 0, 3: 0, 4: 50, 5: 0} }"
]
},
"metadados": {},
"execution_count": 10
}
]
},
{
"cell_type": "code",
"source": [
"v1.getGrau()"
],
"metadata": {
"colab": {
"base_uri": "https://localhost:8080/"
},
"id": "bDsnWIb1J4zY",
"outputId": "1a5aed78-054c-4ff2-f1d8-8e0fc87a6446"
} ,
"execution_count": 11,
"outputs": [
{
"output_type": "execution_result",
"data": {
"text/plain": [
"2"
]
},
"metadata": {},
"execution_count": 11
}
]
},
{
"cell_type": "code",
"source": [
"G.checkHandShakingLemma()"
],
"metadados": {
"colab": {
"base_uri": "https://localhost:8080/"
},
"id": "NEYpq5svJ416",
"outputId": "f9dbb2e1-e832-4aac-d542-8859794dfffd"
},
"execution_count": 12,
"outputs": [
{
"output_type": "execute_result",
"data": {
"text/plain": [
" True"
]
},
"metadata": {},
"execution_count": 12
}
]
},
{
"cell_type": "code",
"source": [
"G.removerAresta(1, 2, peso = 10)\n ",
"para a em G.getArestas():\n",
" print(a.getVerticeOrigem().getValor(), end="")\n",
" print(" --", a.getPeso( ),"--> ", end="")\n",
" print(a.getVerticeDestino().getValor())"
],
"metadata": {
"colab": {
"base_uri": "https://localhost:8080/"
},
"id": "MuJbNheiJ44X",
"outputId": "270b2586-3513-4dd1-dcba-a7fd61adf51f"
},
"execution_count": 13,
"outputs" : [
{
"output_type": "stream",
"name": "stdout",
"text": [
"2 -- 20 --> 3\n",
"3 -- 30 --> 4\n",
"4 -- 40 --> 1\n",
"4 -- 50 --> 5\n"
]
}
]
},
{
"cell_type": "code",
"source": [
"# Remoção de vértice\ n",
"print("Antes de remover")\n",
"for v in G.getVertices():\n",
" print(v.getValor(), end="\t")\n",
" \n" ,
"G.removerVertice(1)\n",
"print("\nDepois de removedor")\n",
"for v in G.getVertices():\n",
" print(v.getValor(), end="\t")"
],
"metadata" : {
"colab": {
"base_uri": "https://localhost:8080/"
},
"id": "rDJ7zzbXJ46k",
"outputId": "4e0c6709-2825-4215-d33f-1c8e74bc0098"
},
"execution_count ": 14,
"outputs": [
{
"output_type": "stream",
"name": "stdout",
"text": [
"Antes de remover\n",
"2\t3\t5\t4\t1\ t\n",
"Depósitos de remoção\n",
"2\t3\t5\t4\t"
]
}
]
},
{
"cell_type": "markdown",
"source": [
"#Testando a busca em profundidade "
],
"metadata": {
"id": "aVzDGWeAKAqX"
}
},
{
"cell_type": "code",
"source": [
"v1 = Vertice(1)\n",
"v2 = Vértice(2)\n",
"v3 = Vértice(3)\n",
"v4 = Vértice(4)\n",
"v5 = Vértice(5)\n",
"v6 = Vértice(6)\n " ",
"a1 = Aresta( v1, v2, 10, True )\n",
"a2 = Aresta( v2, v3, 20, True )\n",
"a3 = Aresta( v3, v4, 30, True )\ n",
"a4 = Aresta( v4, v1, 40, Verdadeiro )\n",
"a5 = Aresta( v4, v5, 50, Verdadeiro ) \n",
"a6 = Aresta( v4, v6, 60, True ) \n",
"G = Grafo()\n",
"G.setVertices({v1, v2, v3, v4, v5,v6})\n",
"G.setArestas({a1, a2, a3, a4, a5, a6})\n",
"for vertice in G.getVertices():\n",
" print(f"Busca em profundidade, iniciando com o vértice {vertice.getValor()}:")\n",
" for v in G.dfs(G, vertice, visitados=[]):\n",
" print(str(v.getValor())+"\ t", end="")\n",
" print("\n................................ .................") "
],
"metadados": {
"colab": {
"base_uri": "https://localhost:8080/"
},
"id ": "tgeHrYL-J-hM",
"outputId": "7fc7d5eb-c68c-4ac8-80ad-3aaeecf8e6aa"
},
"execution_count":16,
"saídas": [
{
"output_type": "stream",
"name": "stdout",
"texto": [
"Busca em profundidade, iniciando com o vértice 2:\n",
"2\t3\t4\t6\t5\t1\t\n",
"................ .................................\n",
"Busca em profundidade, iniciando com o vértice 1:\n ",
"1\t2\t3\t4\t6\t5\t\n",
".............................. ...................\n",
"Busca em profundidade, iniciando com o vértice 3:\n",
"3\t4\t6\t2\t5\ t1\t\n",
".............................................. .......\n",
"Busca em profundidade, iniciando com o vértice 4:\n",
"4\t6\t2\t3\t5\t1\t\n",
"..... .........................................\n",
"Busca em profundidade, iniciando com o vértice 5:\n",
"5\t2\t3\t4\t6\t1\t\n",
".................................................. \n",
"Busca em profundidade, iniciando com o vértice 6:\n",
"6\t2\t3\t4\t5\t1\t\n",
"............ .........................\n"
]
}
]
},
{
"cell_type": "código",
"fonte": [
"v1 = Vértice(1)\n",
"v2 = Vértice(2)\n",
"v3 = Vértice(3)\n",
"v4 = Vértice(4)\ n",
"v5 = Vértice(5)\n",
"v6 = Vértice(6)\n",
"a1 = Aresta( v1, v2, 10, True )\n",
"a2 = Aresta( v2, v3 , 20, Verdadeiro )\n",
"a3 = Aresta( v3, v4, 30, Verdadeiro )\n",
"a4 = Aresta( v4, v1, 40, True )\n",
"a5 = Aresta( v4, v5, 50, True ) \n",
"a6 = Aresta( v4, v6, 60, True ) \n",
"G = Grafo()\n",
"G.setVertices({v1, v2, v3, v4, v5,v6})\n",
"G.setArestas({a1, a2, a3, a4, a5, a6})\n",
"for vertice in G.getVertices():\n",
" print(f"Busca em largura, iniciando com o vértice {vertice.getValor()}:")\n",
" for v in G.bfs(vertice, visitados = [], fila = deque([])):\n",
" print(str(v.getValor) ())+"\t", end="")\n",
" print("\n.......................... ..................") "
],
"metadados": {
"colab": {
"base_uri": "https://localhost:8080/"
},
"id": "rws3MteKJ-jz",
"outputId": "10468a0d-b4f4-4e00-df07-a67327f5faef"
},
"execution_count": 17,
"outputs": [
{
"output_type": "stream",
"name": "stdout",
"text": [
"Busca em extensão, iniciando com o vértice 1:\n",
"1\t2\t3\t4 \t5\t6\t\n",
"........................................ .....\n",
"Busca em largura, iniciando com o vértice 3:\n",
"3\t4\t5\t1\t2\t6\t\n",
"....... .....................................\n",
"Busca em largura, iniciando com o vértice 4:\n",
"4\t5\t1\t2\t3\t6\t\n",
"....................... ...................\n",
"Busca em largura, iniciando com o vértice 5:\n",
"5\t1\t2\t3\t4\t6\t\n",
"................................ ............\n",
"Busca em largura, iniciando com o vértice 6:\n",
"6\t1\t2\t3\t4\t5\t\n",
".............................. .............\n",
"Busca em largura, iniciando com o vértice 2:\n",
"2\t3\t4\t5\t1\t6\t\n",
"........................................\n"
]
}
]
},
{
"cell_type": "code",
"source": [
"valor = int(input("Valor procurado: "))\n",
"if G.buscarPorValor(valor) == Nenhum:\n" ,
" print(f"{valor} não encontrado no grafo")\n",
"else:\n",
" print(f"{valor} encontrado no grafo")\n",
"# [print(f" {v.getValor()} encontrado no grafo.") para v em G.bfs(v1, visitados = [], fila = deque([])) if n == v.getValor() ]"
],
"metadata": {
"colab": {
"base_uri": "https://localhost:8080/"
},
"id": "bITbqxCLKJeQ",
"outputId": "bd4ceac9-a744-48ea-c743-116e91ba23c5"
},
"execution_count": 18,
"outputs": [
{
"output_type": "stream",
"name": "stdout",
"text": [
"Valor procurado: 144\n",
"144 não encontrado no grafo\n"
]
}
]
},
{
"cell_type": "code",
"source": [
"if G.existeCaminhoEuler():\n",
" print("Grafo contém um caminho Euleriano")\n",
"else:\n",
" print("Grafo NÃO contém um caminho Euleriano")"
],
"metadata": {
"colab": {
"base_uri": "https://localhost:8080/"
},
"id": "tN20jv_LKJhA",
"outputId": "5b1fcd07-a7cb-4d38-d53f-33a2fae4e808"
},
"execution_count": 19,
"outputs": [
{
"output_type": "stream",
"name": "stdout",
"text": [
"Grafo contém um caminho Euleriano\n"
]
}
]
}
]
}
  "nbformat": 4,
  "nbformat_minor": 0,
  "metadata": {
    "colab": {
      "name": "ED2_github.com/giiff.ipynb",
      "provenance": [],
      "collapsed_sections": [],
      "authorship_tag": "ABX9TyNvx3if7bfp887HQDOi6HKI",
      "include_colab_link": true
    },
    "kernelspec": {
      "name": "python3",
      "display_name": "Python 3"
    },
    "language_info": {
      "name": "python"
    }
  },
  "cells": [
    {
      "cell_type": "markdown",
      "metadata": {
        "id": "view-in-github",
        "colab_type": "text"
      },
      "source": [
        "<a href=\"https://colab.research.google.com/github/JoaoVitttt/ED2_JJoaoVictor/blob/main/ED2_github_com_giiff.ipynb\" target=\"_parent\"><img src=\"https://colab.research.google.com/assets/colab-badge.svg\" alt=\"Open In Colab\"/></a>"
      ]
    },
    {
      "cell_type": "code",
      "source": [
        "class Vertice:\n",
        "    '''\n",
        "    Classe que representa um vertice tendo como atributos:\n",
        "        - o valor do vertice que pode ser outro objeto qualquer (um número, uma string, etc...)\n",
        "        - um conjunto de arestas incidentes ao vertice\n",
        "    Criacao do objeto: v = Vertice(valor)\n",
        "    '''\n",
        "    def __init__(self, valor, arestas = set(), direcionado=True):\n",
        "        '''\n",
        "        Metodo construtor da classe\n",
        "        '''\n",
        "        self.__valor = valor\n",
        "        self.__arestas = arestas\n",
        "        self.__direcionado = direcionado\n",
        "    \n",
        "    def getValor(self):# retorna o valor do vertice\n",
        "        return self.__valor\n",
        "    \n",
        "    def setValor(self, valor):# prove um valor ao vertice\n",
        "        self.__valor = valor\n",
        "        \n",
        "    def getArestas(self): # retorna as arestas do vertice\n",
        "        return self.__arestas\n",
        "    \n",
        "    def setAresta(self, aresta):# prove uma aresta ao vertice\n",
        "        self.__arestas.add(aresta)\n",
        "        \n",
        "    def getArestasSaida(self): # retorna uma lista com as arestas que saem do vertice\n",
        "        try:\n",
        "            if self.__direcionado == False:\n",
        "                return self.__arestas\n",
        "            arestasDeSaida = []\n",
        "            for aresta in self.__arestas:\n",
        "                if aresta.getVerticeOrigem() == self:\n",
        "                    arestasDeSaida.append(aresta)\n",
        "            return arestasDeSaida\n",
        "        except AttributeError: \n",
        "            return []\n",
        "    \n",
        "    def getArestasEntrada(self):# retorna uma lista com as arestas que entram do vertice\n",
        "        try:\n",
        "            if self.__direcionado == False:\n",
        "                return self.__arestas\n",
        "            arestasSaida = []\n",
        "            for aresta in self.__arestas:\n",
        "                if aresta.getVerticeDestino() == self:\n",
        "                    arestasSaida.append(aresta)\n",
        "            return arestasSaida\n",
        "        except AttributeError: \n",
        "            return []\n",
        "    \n",
        "    def getGrau(self):# retorna o grau do vertice\n",
        "        return len(self.getArestasSaida()) + len(self.getArestasEntrada())\n",
        "    \n",
        "    def getAdjacentes(self): # retorna uma lista com os vertices adjacentes ao vertice v\n",
        "        listaVerticesAdjacentes = []\n",
        "        for arestas_de_saida in self.getArestasSaida():\n",
        "            listaVerticesAdjacentes.append(arestas_de_saida.getVerticeDestino())\n",
        "        return listaVerticesAdjacentes"
      ],
      "metadata": {
        "id": "6l6Z9H7LJfsz"
      },
      "execution_count": 1,
      "outputs": []
    },
    {
      "cell_type": "code",
      "source": [
        "class Aresta:\n",
        "    '''\n",
        "    Classe que representa uma aresta tendo como atributos:\n",
        "        - vertice_origem: o vertice de origem (v:Vertice)\n",
        "        - vertice_destino: o vertice de destino (v:vertice)\n",
        "        - peso: o peso da aresta que pode ser um objeto qualquer (int, str, etc...)\n",
        "        - direcionada: flag indicando de a aresta e direcionado ou não (padrao True)\n",
        "    '''\n",
        "    def __init__(self, vertice_origem:Vertice, vertice_destino:Vertice, peso = 1, direcionada = True):\n",
        "        '''\n",
        "        Metodo construtor da classe: preenche os atributos\n",
        "        '''\n",
        "        self.__vertice_origem = vertice_origem\n",
        "        self.__vertice_destino = vertice_destino\n",
        "        self.__peso = peso\n",
        "        self.__direcionada = direcionada\n",
        "        self.__vertice_origem.setAresta(self)\n",
        "        self.__vertice_destino.setAresta(self)\n",
        "        \n",
        "    def getVerticeOrigem(self):\n",
        "        return self.__vertice_origem\n",
        "    def getVerticeDestino(self):\n",
        "        return self.__vertice_destino\n",
        "    def getPeso(self):\n",
        "        return self.__peso\n",
        "    \n",
        "    \n",
        "# v1 = Vertice(1)\n",
        "# v2 = Vertice(2)\n",
        "# a = Aresta(v1, v2, 10 )\n",
        "# print(a.getVerticeOrigem().getValor())\n",
        "# print(a.getVerticeDestino().getValor())\n",
        "# print(v1.getGrau())\n",
        "# v.getArestasSaida()\n",
        "# v.getArestasEntrada()\n",
        "# v.getAdjacentes() "
      ],
      "metadata": {
        "id": "yrTtODw9JjZx"
      },
      "execution_count": 2,
      "outputs": []
    },
    {
      "cell_type": "code",
      "source": [
        "from collections import deque\n",
        "import sys\n",
        "\n",
        "class Grafo:\n",
        "    '''\n",
        "    Classe que representa o grafo tendo como atributos:\n",
        "        - um conjunto de vertices nao vazio\n",
        "        - um conjunto de arestas (vazio ou nao)\n",
        "    '''\n",
        "    def __init__(self, x):\n",
        "        self.Vertices = x\n",
        "        self.Grafo = [] #[[0 for column in range(x)]for row in range(x)]\n",
        "        '''\n",
        "        Metodo construtor da classe: preenche os atributos\n",
        "        '''\n",
        "        self.__vertices = set()\n",
        "        self.__arestas  = set()\n",
        "        \n",
        "    def setVertices(self, vertices):# prove o conjunto de vertices do grafo\n",
        "        self.__vertices = vertices\n",
        "\n",
        "    def getVertices(self):# retorna o conjunto de vertices do grafo\n",
        "        return self.__vertices\n",
        "        \n",
        "    def setArestas(self, arestas):# prove o conjunto de arestas do grafo\n",
        "        self.__arestas = arestas\n",
        "        \n",
        "    def getArestas(self):# retorna o conjunto de arestas do grafo\n",
        "        return self.__arestas\n",
        "    \n",
        "    def getVerticeByValor(self, valor):# retorna um objeto da classe Vertice contendo um valor informado, se existir\n",
        "        for v in self.__vertices:\n",
        "            if v.getValor() == valor:\n",
        "                return v\n",
        "        return None\n",
        "\n",
        "    def adicionarVertice(self, valor):# Adiciona um vertice ao grafo, caso nao exista vertice com o mesmo valor\n",
        "        if self.buscarPorValor(valor) != valor:# valor nao esta no grafo\n",
        "            self.__vertices.add(Vertice(valor))\n",
        "            return True\n",
        "        return False\n",
        "    \n",
        "    def adicionarAresta(self, origem, destino, peso = 1, direcionada = True):# adicionado uma aresta ao grafo ligando 2 vertices\n",
        "        try:\n",
        "            verticeOrigem = self.getVerticeByValor(origem)\n",
        "            verticeDestino = self.getVerticeByValor(destino)\n",
        "            if (verticeOrigem or verticeDestino) is None:  # existem os vertices de origem e destino?\n",
        "                print(\"Nao ha no grafo, vertices de origem ou de destino com os valores informados.\")\n",
        "            self.getArestas().add(Aresta(verticeOrigem, verticeDestino, peso, direcionada))\n",
        "        except AttributeError as error:\n",
        "            print(\"Exceção: Nao ha no grafo, vertices de origem ou de destino com os valores informados.\")\n",
        "    \n",
        "    def checkHandShakingLemma(self):# checa o lema do \"aperto de mao\"\n",
        "        somaGraus = 0\n",
        "        for v in self.getVertices():\n",
        "            somaGraus+= v.getGrau()\n",
        "        if somaGraus == len(self.getArestas())*2:\n",
        "            return True\n",
        "        else:\n",
        "            return False\n",
        "        \n",
        "    def dfs(self, graph, v, visitados=[]):# busca em profundidade recursiva\n",
        "        if v not in visitados: # se v nao foi visitado\n",
        "            visitados.append(v) # marca vertice como visitado\n",
        "        if len(v.getAdjacentes()) == 0: # vertice escolhido nao tem adjacentes\n",
        "            self.dfs(graph, next(iter(graph.getVertices())), visitados) # chamada recursiva pegando o proximo vertice do set\n",
        "        else: # vertice escolhido tem adjacentes\n",
        "            for adjacente in v.getAdjacentes(): #percorre todos os adjacentes a ele\n",
        "                if adjacente not in visitados: # se um dos adjacentes nao foi visitado\n",
        "                    self.dfs(graph, adjacente, visitados) # chamada recursiva para cada adjacente\n",
        "        return visitados\n",
        "    \n",
        "    def bfs(self, v, visitados = [], fila = deque([])):# busca em largura recursiva\n",
        "        fila.append(v)  # adiciona o vertice v a fila\n",
        "        if v not in visitados:  # se vertice v nao esta em visitados\n",
        "            visitados.append(v)  # adiciona vertice v a visitados\n",
        "        while fila:  # enquanto houver vertices na fila\n",
        "            vertice = fila.popleft()  # tira vertice ja visitado da fila\n",
        "            if len(vertice.getArestasSaida()) == 0: # vertice escolhido nao tem adjacentes\n",
        "                self.bfs(next(iter(self.getVertices())), visitados, fila) # chamada recursiva pegando o proximo vertice do set   \n",
        "            else:\n",
        "                for adjacente in vertice.getAdjacentes(): #percorre todos os adjacentes a ele\n",
        "                    if adjacente not in visitados: # se um dos adjacentes nao foi visitado\n",
        "                        visitados.append(adjacente)  # insere o adjacente em visitados\n",
        "                        self.bfs(adjacente, visitados, fila) # chamada recursiva pegando o proximo vertice do set\n",
        "        return visitados  # retorna a lista de visitados  \n",
        "    \n",
        "    def buscarPorValor(self, valor):# busca um valor no grafo usando a busca em profundidade O(|V|+|E|)\n",
        "        for v in self.bfs(next(iter(self.getVertices())), visitados = [], fila = deque([])):\n",
        "            if valor == v.getValor():\n",
        "                return valor\n",
        "        return None\n",
        "    \n",
        "    def existeCaminhoEuler(self):# checa a existencia de um caminho Euleriano no grafo\n",
        "        pares = True\n",
        "        impares = []\n",
        "        for v in self.getVertices():\n",
        "            if v.getGrau() % 2 != 0:\n",
        "                pares = False\n",
        "                impares.append(v)\n",
        "        return pares or len(impares) == 2\n",
        "    \n",
        "    def removerAresta(self, origem, destino, peso = 1): # remove uma aresta do grafo\n",
        "        try:\n",
        "            verticeOrigem  = self.getVerticeByValor(origem)\n",
        "            verticeDestino = self.getVerticeByValor(destino)\n",
        "            if (verticeOrigem or verticeDestino) is None:  # existem os vertices de origem e destino?\n",
        "                pass\n",
        "            else:\n",
        "                arestas_a_remover = []\n",
        "                for aresta in self.getArestas():\n",
        "                    if aresta.getVerticeOrigem() == verticeOrigem and aresta.getVerticeDestino() == verticeDestino and aresta.getPeso() == peso:\n",
        "                        arestas_a_remover.append(aresta)\n",
        "                [self.getArestas().remove(aresta) for aresta in arestas_a_remover]\n",
        "        except AttributeError as error:\n",
        "            print(\"Exceção: Nao ha no grafo, vertices de origem ou de destino com os valores informado!.\")\n",
        "            \n",
        "    def removerVertice(self, valor):# remove um vertice do grafo\n",
        "        try:\n",
        "            vertice  = self.getVerticeByValor(valor)\n",
        "            if vertice is None:  # existem os vertices de origem e destino?\n",
        "                pass\n",
        "            else:\n",
        "                arestas_a_remover = []\n",
        "                # arestas conectadas ao vertice precisam ser removidas antes\n",
        "                for a in vertice.getArestasSaida():\n",
        "                    arestas_a_remover.append(a)\n",
        "                for a in vertice.getArestasEntrada():\n",
        "                    arestas_a_remover.append(a)\n",
        "                [self.removerAresta(a.getVerticeOrigem(), a.getVerticeDestino(), a.getPeso()) for a in arestas_a_remover]    \n",
        "                self.__vertices.remove(vertice)\n",
        "        except AttributeError as error:\n",
        "            print(repr(error))\n",
        "            print(\"Exceção: Nao ha no grafo, vertices de origem ou de destino com os valores informado.\")\n",
        "            \n",
        "            \n",
        "    def getMatrizAdjacencia(self):# retorna uma matriz de adjacencia como dataframe pandas\n",
        "        import numpy as np\n",
        "        import pandas as pd\n",
        "        V = self.getVertices()\n",
        "        E = self.getArestas()\n",
        "        matriz = np.zeros((len(V), len(V)), dtype=object)\n",
        "        columns = []\n",
        "        [columns.append(v.getValor()) for v in V]\n",
        "        index =[]\n",
        "        [index.append(v.getValor()) for v in V]\n",
        "        matrizDeAdjacencias = pd.DataFrame(matriz, columns = columns, index = index)\n",
        "        for index, row in matrizDeAdjacencias.iterrows():\n",
        "            for e in E:\n",
        "                matrizDeAdjacencias.loc[e.getVerticeOrigem().getValor(), e.getVerticeDestino().getValor()] = e.getPeso()\n",
        "        return matrizDeAdjacencias\n",
        "    \n",
        "    def getMatrizAdjacenciaAsArray(self):# converte a matriz de adjacencia pandas.dataframe para array\n",
        "        return self.getMatrizAdjacencia().to_numpy()\n",
        "    \n",
        "    def getMatrizAdjacenciaAsDict(self):# converte a matriz de adjacencia pandas.dataframe para dicionario (lista de adjacencia)\n",
        "        return self.getMatrizAdjacencia().to_dict('dict')\n",
        "    \n",
        "    def WD40(self, distancia):\n",
        "      print(\"Distância do vértice (Dijkstra):\")\n",
        "      for n in range(self.Vertices):\n",
        "          print(n, \"-->\", distancia[n])\n",
        "\n",
        "    def minDistancia(self, distancia, swDij):\n",
        "      min = sys.maxsize\n",
        "      for v in range(self.Vertices):\n",
        "          if distancia[v] < min and swDij[v] == False:\n",
        "              min = distancia[v]\n",
        "              min_index = v\n",
        "      return min_index\n",
        " \n",
        "    def Dijkstra(self, value):\n",
        "      distancia = [sys.maxsize] * self.Vertices\n",
        "      distancia[value] = 0\n",
        "      swDij = [False] * self.Vertices\n",
        "      for cout in range(self.Vertices):\n",
        "        a = self.minDistancia(distancia, swDij)\n",
        "        swDij[a] = True\n",
        "        for v in range(self.Vertices):\n",
        "            if self.grafo[a][v] > 0 and swDij[v] == False and distancia[v] > distancia[a] + self.grafo[a][v]: distancia[v] = distancia[a] + self.grafo[a][v]\n",
        "\n",
        "      self.WD40(distancia)\n",
        "\n",
        "    def add(self, a, b, c):\n",
        "      self.Grafo.append([a, b, c])\n",
        "\n",
        "    def solucao(self, distancia):\n",
        "      print(\"Distância do vértice (BellmanFord):\")\n",
        "      for a in range(self.Vertices):\n",
        "        print(\"{0} --> {1}\".format(a, distancia[a]))\n",
        "\n",
        "    def BellmanFord(self, value):\n",
        "      distancia = [float(\"Inf\")] * self.Vertices\n",
        "      distancia[value] = 0\n",
        "      for _ in range(self.Vertices - 1):\n",
        "        for a, b, c in self.Grafo:\n",
        "          if distancia[a] != float(\"Inf\") and distancia[a] + c < distancia[b]:\n",
        "            distancia[b] = distancia[a] + c\n",
        "      for a, b, c in self.Grafo:\n",
        "        if distancia[a] != float(\"Inf\") and distancia[a] + c < distancia[b]:\n",
        "          print(\"Grafo negativo\")\n",
        "          return\n",
        "\n",
        "      self.solucao(distancia) \n",
        "      \n"
      ],
      "metadata": {
        "id": "GLnGHgehJnR5"
      },
      "execution_count": 33,
      "outputs": []
    },
    {
      "cell_type": "code",
      "source": [
        "G = Grafo(9)\n",
        "G.grafo = [[0, 4, 0, 0, 0, 0, 0, 8, 0],\n",
        "           [4, 0, 8, 0, 0, 0, 0, 11, 0],\n",
        "           [0, 8, 0, 7, 0, 4, 0, 0, 2],\n",
        "           [0, 0, 7, 0, 9, 14, 0, 0, 0],\n",
        "           [0, 0, 0, 9, 0, 10, 0, 0, 0],\n",
        "           [0, 0, 4, 14, 10, 0, 2, 0, 0],\n",
        "           [0, 0, 0, 0, 0, 2, 0, 1, 6],\n",
        "           [8, 11, 0, 0, 0, 0, 1, 0, 7],\n",
        "           [0, 0, 2, 0, 0, 0, 6, 7, 0]\n",
        "           ]\n",
        " \n",
        "G.Dijkstra(0)"
      ],
      "metadata": {
        "colab": {
          "base_uri": "https://localhost:8080/"
        },
        "id": "lyJMKT0uVu5s",
        "outputId": "6316970b-5c37-4b25-8063-60fd2e317f6e"
      },
      "execution_count": 34,
      "outputs": [
        {
          "output_type": "stream",
          "name": "stdout",
          "text": [
            "Distância do vértice (Dijkstra):\n",
            "0 --> 0\n",
            "1 --> 4\n",
            "2 --> 12\n",
            "3 --> 19\n",
            "4 --> 21\n",
            "5 --> 11\n",
            "6 --> 9\n",
            "7 --> 8\n",
            "8 --> 14\n"
          ]
        }
      ]
    },
    {
      "cell_type": "code",
      "source": [
        "G = Grafo(5)\n",
        "G.add(0, 1, 2)\n",
        "G.add(0, 2, 4)\n",
        "G.add(1, 3, 2)\n",
        "G.add(2, 4, 3)\n",
        "G.add(2, 3, 4)\n",
        "G.add(4, 3, -5)\n",
        "\n",
        "G.BellmanFord(0)"
      ],
      "metadata": {
        "colab": {
          "base_uri": "https://localhost:8080/"
        },
        "id": "K5cFXnJr8UJp",
        "outputId": "ae6dadfd-fc38-4a3d-841c-7edb8b28485d"
      },
      "execution_count": 32,
      "outputs": [
        {
          "output_type": "stream",
          "name": "stdout",
          "text": [
            "Distância do vértice (BellmanFord):\n",
            "0 --> 0\n",
            "1 --> 2\n",
            "2 --> 4\n",
            "3 --> 2\n",
            "4 --> 7\n"
          ]
        }
      ]
    },
    {
      "cell_type": "code",
      "source": [
        "G.BellmanFord(0)"
      ],
      "metadata": {
        "id": "KyE1Os5s8UQ-"
      },
      "execution_count": null,
      "outputs": []
    },
    {
      "cell_type": "code",
      "source": [
        "v1 = Vertice(1)\n",
        "v2 = Vertice(2)\n",
        "v3 = Vertice(3)\n",
        "v4 = Vertice(4)\n",
        "v5 = Vertice(5)\n",
        "a1 = Aresta( v1, v2, 10, True )\n",
        "a2 = Aresta( v2, v3, 20, True )\n",
        "a3 = Aresta( v3, v4, 30, True )\n",
        "a4 = Aresta( v4, v1, 40, True )\n",
        "a5 = Aresta( v4, v5, 50, True )"
      ],
      "metadata": {
        "id": "0yHXHL4EJnWM"
      },
      "execution_count": 4,
      "outputs": []
    },
    {
      "cell_type": "code",
      "source": [
        "G = Grafo()\n",
        "G.setVertices({v1, v2, v3, v4, v5})\n",
        "G.setArestas({a1, a2, a3, a4, a5})"
      ],
      "metadata": {
        "id": "C1TzXjWjJsG5"
      },
      "execution_count": 5,
      "outputs": []
    },
    {
      "cell_type": "code",
      "source": [
        "for v in G.getVertices():\n",
        "    print(v.getValor(), end=\"\\t\")"
      ],
      "metadata": {
        "colab": {
          "base_uri": "https://localhost:8080/"
        },
        "id": "ILrAJgPqJsJg",
        "outputId": "37809c0b-b29c-41f9-a32a-8be8c42b1d7a"
      },
      "execution_count": 6,
      "outputs": [
        {
          "output_type": "stream",
          "name": "stdout",
          "text": [
            "2\t3\t5\t4\t1\t"
          ]
        }
      ]
    },
    {
      "cell_type": "code",
      "source": [
        "for a in G.getArestas():\n",
        "    print(a.getVerticeOrigem().getValor(), end=\"\")\n",
        "    print(\" --\", a.getPeso(), \"--> \", end=\"\")\n",
        "    print(a.getVerticeDestino().getValor())"
      ],
      "metadata": {
        "colab": {
          "base_uri": "https://localhost:8080/"
        },
        "id": "M45UHDRPJsME",
        "outputId": "e76b4d12-4729-42a5-879c-7c521b9644bc"
      },
      "execution_count": 7,
      "outputs": [
        {
          "output_type": "stream",
          "name": "stdout",
          "text": [
            "1 -- 10 --> 2\n",
            "2 -- 20 --> 3\n",
            "3 -- 30 --> 4\n",
            "4 -- 40 --> 1\n",
            "4 -- 50 --> 5\n"
          ]
        }
      ]
    },
    {
      "cell_type": "code",
      "source": [
        "G.getMatrizAdjacencia()"
      ],
      "metadata": {
        "colab": {
          "base_uri": "https://localhost:8080/",
          "height": 206
        },
        "id": "_meoltBgJxmO",
        "outputId": "4cf0df04-9ba8-4366-d7c5-3bb23f3f37cd"
      },
      "execution_count": 8,
      "outputs": [
        {
          "output_type": "execute_result",
          "data": {
            "text/plain": [
              "    2   3   5   4   1\n",
              "2   0  20   0   0   0\n",
              "3   0   0   0  30   0\n",
              "5   0   0   0   0   0\n",
              "4   0   0  50   0  40\n",
              "1  10   0   0   0   0"
            ],
            "text/html": [
              "\n",
              "  <div id=\"df-ea689a8a-41d5-457d-b295-966e9e344a96\">\n",
              "    <div class=\"colab-df-container\">\n",
              "      <div>\n",
              "<style scoped>\n",
              "    .dataframe tbody tr th:only-of-type {\n",
              "        vertical-align: middle;\n",
              "    }\n",
              "\n",
              "    .dataframe tbody tr th {\n",
              "        vertical-align: top;\n",
              "    }\n",
              "\n",
              "    .dataframe thead th {\n",
              "        text-align: right;\n",
              "    }\n",
              "</style>\n",
              "<table border=\"1\" class=\"dataframe\">\n",
              "  <thead>\n",
              "    <tr style=\"text-align: right;\">\n",
              "      <th></th>\n",
              "      <th>2</th>\n",
              "      <th>3</th>\n",
              "      <th>5</th>\n",
              "      <th>4</th>\n",
              "      <th>1</th>\n",
              "    </tr>\n",
              "  </thead>\n",
              "  <tbody>\n",
              "    <tr>\n",
              "      <th>2</th>\n",
              "      <td>0</td>\n",
              "      <td>20</td>\n",
              "      <td>0</td>\n",
              "      <td>0</td>\n",
              "      <td>0</td>\n",
              "    </tr>\n",
              "    <tr>\n",
              "      <th>3</th>\n",
              "      <td>0</td>\n",
              "      <td>0</td>\n",
              "      <td>0</td>\n",
              "      <td>30</td>\n",
              "      <td>0</td>\n",
              "    </tr>\n",
              "    <tr>\n",
              "      <th>5</th>\n",
              "      <td>0</td>\n",
              "      <td>0</td>\n",
              "      <td>0</td>\n",
              "      <td>0</td>\n",
              "      <td>0</td>\n",
              "    </tr>\n",
              "    <tr>\n",
              "      <th>4</th>\n",
              "      <td>0</td>\n",
              "      <td>0</td>\n",
              "      <td>50</td>\n",
              "      <td>0</td>\n",
              "      <td>40</td>\n",
              "    </tr>\n",
              "    <tr>\n",
              "      <th>1</th>\n",
              "      <td>10</td>\n",
              "      <td>0</td>\n",
              "      <td>0</td>\n",
              "      <td>0</td>\n",
              "      <td>0</td>\n",
              "    </tr>\n",
              "  </tbody>\n",
              "</table>\n",
              "</div>\n",
              "      <button class=\"colab-df-convert\" onclick=\"convertToInteractive('df-ea689a8a-41d5-457d-b295-966e9e344a96')\"\n",
              "              title=\"Convert this dataframe to an interactive table.\"\n",
              "              style=\"display:none;\">\n",
              "        \n",
              "  <svg xmlns=\"http://www.w3.org/2000/svg\" height=\"24px\"viewBox=\"0 0 24 24\"\n",
              "       width=\"24px\">\n",
              "    <path d=\"M0 0h24v24H0V0z\" fill=\"none\"/>\n",
              "    <path d=\"M18.56 5.44l.94 2.06.94-2.06 2.06-.94-2.06-.94-.94-2.06-.94 2.06-2.06.94zm-11 1L8.5 8.5l.94-2.06 2.06-.94-2.06-.94L8.5 2.5l-.94 2.06-2.06.94zm10 10l.94 2.06.94-2.06 2.06-.94-2.06-.94-.94-2.06-.94 2.06-2.06.94z\"/><path d=\"M17.41 7.96l-1.37-1.37c-.4-.4-.92-.59-1.43-.59-.52 0-1.04.2-1.43.59L10.3 9.45l-7.72 7.72c-.78.78-.78 2.05 0 2.83L4 21.41c.39.39.9.59 1.41.59.51 0 1.02-.2 1.41-.59l7.78-7.78 2.81-2.81c.8-.78.8-2.07 0-2.86zM5.41 20L4 18.59l7.72-7.72 1.47 1.35L5.41 20z\"/>\n",
              "  </svg>\n",
              "      </button>\n",
              "      \n",
              "  <style>\n",
              "    .colab-df-container {\n",
              "      display:flex;\n",
              "      flex-wrap:wrap;\n",
              "      gap: 12px;\n",
              "    }\n",
              "\n",
              "    .colab-df-convert {\n",
              "      background-color: #E8F0FE;\n",
              "      border: none;\n",
              "      border-radius: 50%;\n",
              "      cursor: pointer;\n",
              "      display: none;\n",
              "      fill: #1967D2;\n",
              "      height: 32px;\n",
              "      padding: 0 0 0 0;\n",
              "      width: 32px;\n",
              "    }\n",
              "\n",
              "    .colab-df-convert:hover {\n",
              "      background-color: #E2EBFA;\n",
              "      box-shadow: 0px 1px 2px rgba(60, 64, 67, 0.3), 0px 1px 3px 1px rgba(60, 64, 67, 0.15);\n",
              "      fill: #174EA6;\n",
              "    }\n",
              "\n",
              "    [theme=dark] .colab-df-convert {\n",
              "      background-color: #3B4455;\n",
              "      fill: #D2E3FC;\n",
              "    }\n",
              "\n",
              "    [theme=dark] .colab-df-convert:hover {\n",
              "      background-color: #434B5C;\n",
              "      box-shadow: 0px 1px 3px 1px rgba(0, 0, 0, 0.15);\n",
              "      filter: drop-shadow(0px 1px 2px rgba(0, 0, 0, 0.3));\n",
              "      fill: #FFFFFF;\n",
              "    }\n",
              "  </style>\n",
              "\n",
              "      <script>\n",
              "        const buttonEl =\n",
              "          document.querySelector('#df-ea689a8a-41d5-457d-b295-966e9e344a96 button.colab-df-convert');\n",
              "        buttonEl.style.display =\n",
              "          google.colab.kernel.accessAllowed ? 'block' : 'none';\n",
              "\n",
              "        async function convertToInteractive(key) {\n",
              "          const element = document.querySelector('#df-ea689a8a-41d5-457d-b295-966e9e344a96');\n",
              "          const dataTable =\n",
              "            await google.colab.kernel.invokeFunction('convertToInteractive',\n",
              "                                                     [key], {});\n",
              "          if (!dataTable) return;\n",
              "\n",
              "          const docLinkHtml = 'Like what you see? Visit the ' +\n",
              "            '<a target=\"_blank\" href=https://colab.research.google.com/notebooks/data_table.ipynb>data table notebook</a>'\n",
              "            + ' to learn more about interactive tables.';\n",
              "          element.innerHTML = '';\n",
              "          dataTable['output_type'] = 'display_data';\n",
              "          await google.colab.output.renderOutput(dataTable, element);\n",
              "          const docLink = document.createElement('div');\n",
              "          docLink.innerHTML = docLinkHtml;\n",
              "          element.appendChild(docLink);\n",
              "        }\n",
              "      </script>\n",
              "    </div>\n",
              "  </div>\n",
              "  "
            ]
          },
          "metadata": {},
          "execution_count": 8
        }
      ]
    },
    {
      "cell_type": "code",
      "source": [
        "G.getMatrizAdjacenciaAsArray()"
      ],
      "metadata": {
        "colab": {
          "base_uri": "https://localhost:8080/"
        },
        "id": "O2ph6mfMJxos",
        "outputId": "1e5b22fb-3ef6-47cc-dadb-98c399c0919b"
      },
      "execution_count": 9,
      "outputs": [
        {
          "output_type": "execute_result",
          "data": {
            "text/plain": [
              "array([[0, 20, 0, 0, 0],\n",
              "       [0, 0, 0, 30, 0],\n",
              "       [0, 0, 0, 0, 0],\n",
              "       [0, 0, 50, 0, 40],\n",
              "       [10, 0, 0, 0, 0]], dtype=object)"
            ]
          },
          "metadata": {},
          "execution_count": 9
        }
      ]
    },
    {
      "cell_type": "code",
      "source": [
        "G.getMatrizAdjacenciaAsDict()"
      ],
      "metadata": {
        "colab": {
          "base_uri": "https://localhost:8080/"
        },
        "id": "nCu0HZiQJsN4",
        "outputId": "9f7a4450-7eca-4a1b-e902-648990bd05db"
      },
      "execution_count": 10,
      "outputs": [
        {
          "output_type": "execute_result",
          "data": {
            "text/plain": [
              "{1: {1: 0, 2: 0, 3: 0, 4: 40, 5: 0},\n",
              " 2: {1: 10, 2: 0, 3: 0, 4: 0, 5: 0},\n",
              " 3: {1: 0, 2: 20, 3: 0, 4: 0, 5: 0},\n",
              " 4: {1: 0, 2: 0, 3: 30, 4: 0, 5: 0},\n",
              " 5: {1: 0, 2: 0, 3: 0, 4: 50, 5: 0}}"
            ]
          },
          "metadata": {},
          "execution_count": 10
        }
      ]
    },
    {
      "cell_type": "code",
      "source": [
        "v1.getGrau()"
      ],
      "metadata": {
        "colab": {
          "base_uri": "https://localhost:8080/"
        },
        "id": "bDsnWIb1J4zY",
        "outputId": "1a5aed78-054c-4ff2-f1d8-8e0fc87a6446"
      },
      "execution_count": 11,
      "outputs": [
        {
          "output_type": "execute_result",
          "data": {
            "text/plain": [
              "2"
            ]
          },
          "metadata": {},
          "execution_count": 11
        }
      ]
    },
    {
      "cell_type": "code",
      "source": [
        "G.checkHandShakingLemma()"
      ],
      "metadata": {
        "colab": {
          "base_uri": "https://localhost:8080/"
        },
        "id": "NEYpq5svJ416",
        "outputId": "f9dbb2e1-e832-4aac-d542-8859794dfffd"
      },
      "execution_count": 12,
      "outputs": [
        {
          "output_type": "execute_result",
          "data": {
            "text/plain": [
              "True"
            ]
          },
          "metadata": {},
          "execution_count": 12
        }
      ]
    },
    {
      "cell_type": "code",
      "source": [
        "G.removerAresta(1, 2, peso = 10)\n",
        "for a in G.getArestas():\n",
        "    print(a.getVerticeOrigem().getValor(), end=\"\")\n",
        "    print(\" --\", a.getPeso(), \"--> \", end=\"\")\n",
        "    print(a.getVerticeDestino().getValor())"
      ],
      "metadata": {
        "colab": {
          "base_uri": "https://localhost:8080/"
        },
        "id": "MuJbNheiJ44X",
        "outputId": "270b2586-3513-4dd1-dcba-a7fd61adf51f"
      },
      "execution_count": 13,
      "outputs": [
        {
          "output_type": "stream",
          "name": "stdout",
          "text": [
            "2 -- 20 --> 3\n",
            "3 -- 30 --> 4\n",
            "4 -- 40 --> 1\n",
            "4 -- 50 --> 5\n"
          ]
        }
      ]
    },
    {
      "cell_type": "code",
      "source": [
        "# Remocao de vertice\n",
        "print(\"Antes de remover\")\n",
        "for v in G.getVertices():\n",
        "    print(v.getValor(), end=\"\\t\")\n",
        "    \n",
        "G.removerVertice(1)\n",
        "print(\"\\nDepois de remover\")\n",
        "for v in G.getVertices():\n",
        "    print(v.getValor(), end=\"\\t\")"
      ],
      "metadata": {
        "colab": {
          "base_uri": "https://localhost:8080/"
        },
        "id": "rDJ7zzbXJ46k",
        "outputId": "4e0c6709-2825-4215-d33f-1c8e74bc0098"
      },
      "execution_count": 14,
      "outputs": [
        {
          "output_type": "stream",
          "name": "stdout",
          "text": [
            "Antes de remover\n",
            "2\t3\t5\t4\t1\t\n",
            "Depois de remover\n",
            "2\t3\t5\t4\t"
          ]
        }
      ]
    },
    {
      "cell_type": "markdown",
      "source": [
        "# **Testando busca em profundidade**"
      ],
      "metadata": {
        "id": "aVzDGWeAKAqX"
      }
    },
    {
      "cell_type": "code",
      "source": [
        "v1 = Vertice(1)\n",
        "v2 = Vertice(2)\n",
        "v3 = Vertice(3)\n",
        "v4 = Vertice(4)\n",
        "v5 = Vertice(5)\n",
        "v6 = Vertice(6)\n",
        "a1 = Aresta( v1, v2, 10, True )\n",
        "a2 = Aresta( v2, v3, 20, True )\n",
        "a3 = Aresta( v3, v4, 30, True )\n",
        "a4 = Aresta( v4, v1, 40, True )\n",
        "a5 = Aresta( v4, v5, 50, True ) \n",
        "a6 = Aresta( v4, v6, 60, True ) \n",
        "G = Grafo()\n",
        "G.setVertices({v1, v2, v3, v4, v5,v6})\n",
        "G.setArestas({a1, a2, a3, a4, a5, a6})\n",
        "for vertice in G.getVertices():\n",
        "    print(f\"Busca em profundidade, iniciando com o vértice {vertice.getValor()}:\")\n",
        "    for v in G.dfs(G, vertice, visitados=[]):\n",
        "        print(str(v.getValor())+\"\\t\", end=\"\")\n",
        "    print(\"\\n.................................................\") "
      ],
      "metadata": {
        "colab": {
          "base_uri": "https://localhost:8080/"
        },
        "id": "tgeHrYL-J-hM",
        "outputId": "7fc7d5eb-c68c-4ac8-80ad-3aaeecf8e6aa"
      },
      "execution_count": 16,
      "outputs": [
        {
          "output_type": "stream",
          "name": "stdout",
          "text": [
            "Busca em profundidade, iniciando com o vértice 2:\n",
            "2\t3\t4\t6\t5\t1\t\n",
            ".................................................\n",
            "Busca em profundidade, iniciando com o vértice 1:\n",
            "1\t2\t3\t4\t6\t5\t\n",
            ".................................................\n",
            "Busca em profundidade, iniciando com o vértice 3:\n",
            "3\t4\t6\t2\t5\t1\t\n",
            ".................................................\n",
            "Busca em profundidade, iniciando com o vértice 4:\n",
            "4\t6\t2\t3\t5\t1\t\n",
            ".................................................\n",
            "Busca em profundidade, iniciando com o vértice 5:\n",
            "5\t2\t3\t4\t6\t1\t\n",
            ".................................................\n",
            "Busca em profundidade, iniciando com o vértice 6:\n",
            "6\t2\t3\t4\t5\t1\t\n",
            ".................................................\n"
          ]
        }
      ]
    },
    {
      "cell_type": "code",
      "source": [
        "v1 = Vertice(1)\n",
        "v2 = Vertice(2)\n",
        "v3 = Vertice(3)\n",
        "v4 = Vertice(4)\n",
        "v5 = Vertice(5)\n",
        "v6 = Vertice(6)\n",
        "a1 = Aresta( v1, v2, 10, True )\n",
        "a2 = Aresta( v2, v3, 20, True )\n",
        "a3 = Aresta( v3, v4, 30, True )\n",
        "a4 = Aresta( v4, v1, 40, True )\n",
        "a5 = Aresta( v4, v5, 50, True ) \n",
        "a6 = Aresta( v4, v6, 60, True ) \n",
        "G = Grafo()\n",
        "G.setVertices({v1, v2, v3, v4, v5,v6})\n",
        "G.setArestas({a1, a2, a3, a4, a5, a6})\n",
        "for vertice in G.getVertices():\n",
        "    print(f\"Busca em largura, iniciando com o vértice {vertice.getValor()}:\")\n",
        "    for v in  G.bfs(vertice, visitados = [], fila = deque([])):\n",
        "        print(str(v.getValor())+\"\\t\", end=\"\")\n",
        "    print(\"\\n............................................\")   "
      ],
      "metadata": {
        "colab": {
          "base_uri": "https://localhost:8080/"
        },
        "id": "rws3MteKJ-jz",
        "outputId": "10468a0d-b4f4-4e00-df07-a67327f5faef"
      },
      "execution_count": 17,
      "outputs": [
        {
          "output_type": "stream",
          "name": "stdout",
          "text": [
            "Busca em largura, iniciando com o vértice 1:\n",
            "1\t2\t3\t4\t5\t6\t\n",
            "............................................\n",
            "Busca em largura, iniciando com o vértice 3:\n",
            "3\t4\t5\t1\t2\t6\t\n",
            "............................................\n",
            "Busca em largura, iniciando com o vértice 4:\n",
            "4\t5\t1\t2\t3\t6\t\n",
            "............................................\n",
            "Busca em largura, iniciando com o vértice 5:\n",
            "5\t1\t2\t3\t4\t6\t\n",
            "............................................\n",
            "Busca em largura, iniciando com o vértice 6:\n",
            "6\t1\t2\t3\t4\t5\t\n",
            "............................................\n",
            "Busca em largura, iniciando com o vértice 2:\n",
            "2\t3\t4\t5\t1\t6\t\n",
            "............................................\n"
          ]
        }
      ]
    },
    {
      "cell_type": "code",
      "source": [
        "valor = int(input(\"Valor procurado: \"))\n",
        "if G.buscarPorValor(valor) == None:\n",
        "    print(f\"{valor} não encontrado no grafo\")\n",
        "else:\n",
        "    print(f\"{valor} encontrado no grafo\")\n",
        "# [print(f\"{v.getValor()} encontrado no grafo.\") for v in  G.bfs(v1, visitados = [], fila = deque([])) if n == v.getValor() ]"
      ],
      "metadata": {
        "colab": {
          "base_uri": "https://localhost:8080/"
        },
        "id": "bITbqxCLKJeQ",
        "outputId": "bd4ceac9-a744-48ea-c743-116e91ba23c5"
      },
      "execution_count": 18,
      "outputs": [
        {
          "output_type": "stream",
          "name": "stdout",
          "text": [
            "Valor procurado: 144\n",
            "144 não encontrado no grafo\n"
          ]
        }
      ]
    },
    {
      "cell_type": "code",
      "source": [
        "if G.existeCaminhoEuler():\n",
        "    print(\"Grafo contém um caminho Euleriano\")\n",
        "else:\n",
        "    print(\"Grafo NÃO contém um caminho Euleriano\")"
      ],
      "metadata": {
        "colab": {
          "base_uri": "https://localhost:8080/"
        },
        "id": "tN20jv_LKJhA",
        "outputId": "5b1fcd07-a7cb-4d38-d53f-33a2fae4e808"
      },
      "execution_count": 19,
      "outputs": [
        {
          "output_type": "stream",
          "name": "stdout",
          "text": [
            "Grafo contém um caminho Euleriano\n"
          ]
        }
      ]
    }
  ]
}
  {
   "cell_type": "code",
   "execution_count": 41,
   "id": "d54522d8",
   "metadata": {},
   "outputs": [
    {
     "data": {
      "text/html": [
       "<style>.container { width:100% !important; }</style>"
      ],
      "text/plain": [
       "<IPython.core.display.HTML object>"
      ]
     },
     "metadata": {},
     "output_type": "display_data"
    }
   ],
   "source": [
    "from IPython.display import display, HTML\n",
    "display(HTML(\"<style>.container { width:100% !important; }</style>\"))"
   ]
  },
  {
   "cell_type": "code",
   "execution_count": 42,
   "id": "8b003e19",
   "metadata": {},
   "outputs": [],
   "source": [
    "class Vertice:\n",
    "    \n",
    "    def __init__(self, valor, direcionado=True):\n",
    "        self.__valor = valor\n",
    "        self.__direcionado = direcionado\n",
    "        self.__arestas = set()\n",
    "    \n",
    "    def getValor(self):\n",
    "        return self.__valor\n",
    "    \n",
    "    def setValor(self, valor):\n",
    "        self.__valor = valor\n",
    "        \n",
    "    def getArestas(self):\n",
    "        return self.__arestas\n",
    "    \n",
    "    def adicionarAresta(self, aresta):\n",
    "        self.__arestas.add(aresta)\n",
    "        \n",
    "    def getArestasSaida(self):\n",
    "        try:\n",
    "            if self.__direcionado == False:\n",
    "                return self.__arestas\n",
    "            arestasDeSaida = []\n",
    "            for aresta in self.__arestas:\n",
    "                if aresta.getvOrigem() == self:\n",
    "                    arestasDeSaida.append(aresta)\n",
    "            return arestasDeSaida\n",
    "        except AttributeError: \n",
    "            pass\n",
    "    \n",
    "    def getArestasEntrada(self):\n",
    "        try:\n",
    "            if self.__direcionado == False:\n",
    "                return self.__arestas\n",
    "            arestasSaida = []\n",
    "            for aresta in self.__arestas:\n",
    "                if aresta.getvDestino() == self:\n",
    "                    arestasSaida.append(aresta)\n",
    "            return arestasSaida\n",
    "        except AttributeError: \n",
    "            pass\n",
    "    \n",
    "    def getGrau(self):\n",
    "        return len(self.getArestasSaida())+ len(self.getArestasEntrada())\n",
    "    \n",
    "    def getAdjacentes(self, v):\n",
    "        listaVerticesAdjacentes = []\n",
    "        for arestas_de_saida in v.getArestasSaida():\n",
    "            listaVerticesAdjacentes.append(arestas_de_saida.getvDestino())\n",
    "        return listaVerticesAdjacentes"
   ]
  },
  {
   "cell_type": "code",
   "execution_count": 43,
   "id": "5c3677e7",
   "metadata": {},
   "outputs": [],
   "source": [
    "class Aresta:\n",
    "    def __init__(self, vOrigem, vDestino, peso, direcionada=True):\n",
    "        self.__vOrigem = vOrigem\n",
    "        self.__vDestino = vDestino\n",
    "        self.__peso = peso\n",
    "        self.__direcionada = direcionada\n",
    "        self.__vOrigem.adicionarAresta(self)\n",
    "        self.__vDestino.adicionarAresta(self)\n",
    "        \n",
    "    def getvOrigem(self):\n",
    "        return self.__vOrigem\n",
    "    def getvDestino(self):\n",
    "        return self.__vDestino\n",
    "    def getValor(self):\n",
    "        return self.__peso"
   ]
  },
  {
   "cell_type": "code",
   "execution_count": 110,
   "id": "f63803b8",
   "metadata": {},
   "outputs": [],
   "source": [
    "from collections import deque\n",
    "class Grafo:\n",
    "    def __init__(self, direcionado=True):\n",
    "        self.__vertices = set()\n",
    "        self.__arestas  = set()\n",
    "        self.__direcionado = direcionado\n",
    "        \n",
    "    def setVertices(self, vertices):\n",
    "        self.__vertices = vertices\n",
    "        \n",
    "    def setArestas(self, arestas):\n",
    "        self.__arestas = arestas\n",
    "        \n",
    "    def getVertices(self):\n",
    "        return self.__vertices\n",
    "    \n",
    "    def getVerticeByValor(self, valor):\n",
    "        for v in self.__vertices:\n",
    "            if v.getValor() == valor:\n",
    "                return v\n",
    "        return None\n",
    "    \n",
    "    def getArestas(self):\n",
    "        return self.__arestas\n",
    "    \n",
    "    def adicionarVertice(self, valor):\n",
    "        if self.buscarPorValor(valor) != valor:# valor nao esta no grafo\n",
    "            self.__vertices.add(Vertice(valor))\n",
    "            return True\n",
    "        return False\n",
    "    \n",
    "    def adicionarAresta(self, origem, destino, peso = 1, direcionada = True):\n",
    "        try:\n",
    "            verticeOrigem = self.getVerticeByValor(origem)\n",
    "            verticeDestino = self.getVerticeByValor(destino)\n",
    "            if (verticeOrigem or verticeDestino) is None:  # existem os vertices de origem e destino?\n",
    "                print(\"Nao ha no grafo, vertices de origem ou de destino com os valores informados.\")\n",
    "            self.__arestas.add(Aresta(verticeOrigem, verticeDestino, peso, direcionada))\n",
    "        except AttributeError as error:\n",
    "            print(\"Exceção: Nao ha no grafo, vertices de origem ou de destino com os valores informados.\")\n",
    "    \n",
    "    def checkHandShakingLemma(self):\n",
    "        somaGraus = 0\n",
    "        for v in self.getVertices():\n",
    "            somaGraus+= v.getGrau()\n",
    "        if somaGraus == len(self.getArestas())*2:\n",
    "            return True\n",
    "        else:\n",
    "            return False\n",
    "        \n",
    "    def dfs(self, graph, v, visitados=[]):\n",
    "        if v not in visitados: # se v nao foi visitado\n",
    "            visitados.append(v) # marca vertice como visitado\n",
    "        if len(v.getAdjacentes(v)) == 0: # vertice escolhido nao tem adjacentes\n",
    "            self.dfs(graph, next(iter(graph.getVertices())), visitados) # chamada recursiva pegando o proximo vertice do set\n",
    "        else: # vertice escolhido tem adjacentes\n",
    "            for adjacente in v.getAdjacentes(v): #percorre todos os adjacentes a ele\n",
    "                if adjacente not in visitados: # se um dos adjacentes nao foi visitado\n",
    "                    self.dfs(graph, adjacente, visitados) # chamada recursiva para cada adjacente\n",
    "        return visitados\n",
    "    \n",
    "    def bfs(self, v, visitados = [], fila = deque([])):\n",
    "        fila.append(v)  # adiciona o vertice v a fila\n",
    "        if v not in visitados:  # se vertice v nao esta em visitados\n",
    "            visitados.append(v)  # adiciona vertice v a visitados\n",
    "        while fila:  # enquanto houver vertices na fila\n",
    "            vertice = fila.popleft()  # tira vertice ja visitado da fila\n",
    "            if len(vertice.getArestasSaida()) == 0: # vertice escolhido nao tem adjacentes\n",
    "                self.bfs(next(iter(self.getVertices())), visitados, fila) # chamada recursiva pegando o proximo vertice do set   \n",
    "            else:\n",
    "                for adjacente in vertice.getAdjacentes(v): #percorre todos os adjacentes a ele\n",
    "                    if adjacente not in visitados: # se um dos adjacentes nao foi visitado\n",
    "                        visitados.append(adjacente)  # insere o adjacente em visitados\n",
    "                        self.bfs(adjacente, visitados, fila) # chamada recursiva pegando o proximo vertice do set\n",
    "        return visitados  # retorna a lista de visitados  \n",
    "    \n",
    "    def buscarPorValor(self, valor):\n",
    "        for v in self.bfs(next(iter(self.getVertices())), visitados = [], fila = deque([])):\n",
    "            if valor == v.getValor():\n",
    "                return valor\n",
    "        return None\n",
    "    \n",
    "    def existeCaminhoEuler(self):\n",
    "        pares = True\n",
    "        impares = []\n",
    "        for v in self.getVertices():\n",
    "            if v.getGrau() % 2 != 0:\n",
    "                pares = False\n",
    "                impares.append(v)\n",
    "        return pares or len(impares) == 2\n",
    "    \n",
    "    def removerAresta(self, origem, destino, peso = 1):\n",
    "        try:\n",
    "            verticeOrigem  = self.getVerticeByValor(origem)\n",
    "            verticeDestino = self.getVerticeByValor(destino)\n",
    "            if (verticeOrigem or verticeDestino) is None:  # existem os vertices de origem e destino?\n",
    "                pass\n",
    "            else:\n",
    "                arestas_a_remover = []\n",
    "                for aresta in self.getArestas():\n",
    "                    if aresta.getvOrigem() == verticeOrigem and aresta.getvDestino() == verticeDestino and aresta.getValor() == peso:\n",
    "                        arestas_a_remover.append(aresta)\n",
    "                [self.__arestas.remove(aresta) for aresta in arestas_a_remover]\n",
    "        except AttributeError as error:\n",
    "            print(\"Exceção: Nao ha no grafo, vertices de origem ou de destino com os valores informado!.\")\n",
    "            \n",
    "    def removerVertice(self, valor):\n",
    "        try:\n",
    "            vertice  = self.getVerticeByValor(valor)\n",
    "            if vertice is None:  # existem os vertices de origem e destino?\n",
    "                pass\n",
    "            else:\n",
    "                arestas_a_remover = []\n",
    "                # arestas conectadas ao vertice precisam ser removidas antes\n",
    "                for a in vertice.getArestasSaida():\n",
    "                    arestas_a_remover.append(a)\n",
    "                for a in vertice.getArestasEntrada():\n",
    "                    arestas_a_remover.append(a)\n",
    "                [self.removerAresta(a.getvOrigem(), a.getvDestino(), a.getValor()) for a in arestas_a_remover]    \n",
    "                self.__vertices.remove(vertice)\n",
    "        except AttributeError as error:\n",
    "            print(\"Exceção: Nao ha no grafo, vertices de origem ou de destino com os valores informado.\")\n",
    "            \n",
    "            \n",
    "    def getMatrizAdjacencia(self):\n",
    "        import numpy as np\n",
    "        import pandas as pd\n",
    "        V = self.getVertices()\n",
    "        E = self.getArestas()\n",
    "        matriz = np.zeros((len(V), len(V)), dtype=object)\n",
    "        columns = []\n",
    "        [columns.append(v.getValor()) for v in V]\n",
    "        index =[]\n",
    "        [index.append(v.getValor()) for v in V]\n",
    "        matrizDeAdjacencias = pd.DataFrame(matriz, columns = columns, index = index)\n",
    "        for index, row in matrizDeAdjacencias.iterrows():\n",
    "            for e in E:\n",
    "                matrizDeAdjacencias.loc[e.getvOrigem().getValor(), e.getvDestino().getValor()] = e.getValor()\n",
    "        return matrizDeAdjacencias\n",
    "    \n",
    "    def getMatrizAdjacenciaAsArray(self):\n",
    "        return self.getMatrizAdjacencia().to_numpy()\n",
    "    \n",
    "    def getMatrizAdjacenciaAsDict(self):\n",
    "        return self.getMatrizAdjacencia().to_dict('dict')\n",
    "        "
   ]
  },
  {
   "cell_type": "code",
   "execution_count": 111,
   "id": "91b986a7",
   "metadata": {},
   "outputs": [],
   "source": [
    "v1 = Vertice(1)\n",
    "v2 = Vertice(2)\n",
    "v3 = Vertice(3)\n",
    "v4 = Vertice(4)\n",
    "v5 = Vertice(5)\n",
    "a1 = Aresta( v1, v2, 10, True )\n",
    "a2 = Aresta( v2, v3, 20, True )\n",
    "a3 = Aresta( v3, v4, 30, True )\n",
    "a4 = Aresta( v4, v1, 40, True )\n",
    "a5 = Aresta( v4, v5, 50, True )"
   ]
  },
  {
   "cell_type": "code",
   "execution_count": 112,
   "id": "ce259c26",
   "metadata": {},
   "outputs": [],
   "source": [
    "G = Grafo()\n",
    "G.setVertices({v1, v2, v3, v4, v5})\n",
    "G.setArestas({a1, a2, a3, a4, a5})"
   ]
  },
  {
   "cell_type": "code",
   "execution_count": 113,
   "id": "49da967b",
   "metadata": {},
   "outputs": [
    {
     "data": {
      "text/html": [
       "<div>\n",
       "<style scoped>\n",
       "    .dataframe tbody tr th:only-of-type {\n",
       "        vertical-align: middle;\n",
       "    }\n",
       "\n",
       "    .dataframe tbody tr th {\n",
       "        vertical-align: top;\n",
       "    }\n",
       "\n",
       "    .dataframe thead th {\n",
       "        text-align: right;\n",
       "    }\n",
       "</style>\n",
       "<table border=\"1\" class=\"dataframe\">\n",
       "  <thead>\n",
       "    <tr style=\"text-align: right;\">\n",
       "      <th></th>\n",
       "      <th>3</th>\n",
       "      <th>4</th>\n",
       "      <th>5</th>\n",
       "      <th>1</th>\n",
       "      <th>2</th>\n",
       "    </tr>\n",
       "  </thead>\n",
       "  <tbody>\n",
       "    <tr>\n",
       "      <th>3</th>\n",
       "      <td>0</td>\n",
       "      <td>30</td>\n",
       "      <td>0</td>\n",
       "      <td>0</td>\n",
       "      <td>0</td>\n",
       "    </tr>\n",
       "    <tr>\n",
       "      <th>4</th>\n",
       "      <td>0</td>\n",
       "      <td>0</td>\n",
       "      <td>50</td>\n",
       "      <td>40</td>\n",
       "      <td>0</td>\n",
       "    </tr>\n",
       "    <tr>\n",
       "      <th>5</th>\n",
       "      <td>0</td>\n",
       "      <td>0</td>\n",
       "      <td>0</td>\n",
       "      <td>0</td>\n",
       "      <td>0</td>\n",
       "    </tr>\n",
       "    <tr>\n",
       "      <th>1</th>\n",
       "      <td>0</td>\n",
       "      <td>0</td>\n",
       "      <td>0</td>\n",
       "      <td>0</td>\n",
       "      <td>10</td>\n",
       "    </tr>\n",
       "    <tr>\n",
       "      <th>2</th>\n",
       "      <td>20</td>\n",
       "      <td>0</td>\n",
       "      <td>0</td>\n",
       "      <td>0</td>\n",
       "      <td>0</td>\n",
       "    </tr>\n",
       "  </tbody>\n",
       "</table>\n",
       "</div>"
      ],
      "text/plain": [
       "    3   4   5   1   2\n",
       "3   0  30   0   0   0\n",
       "4   0   0  50  40   0\n",
       "5   0   0   0   0   0\n",
       "1   0   0   0   0  10\n",
       "2  20   0   0   0   0"
      ]
     },
     "execution_count": 113,
     "metadata": {},
     "output_type": "execute_result"
    }
   ],
   "source": [
    "G.getMatrizAdjacencia()"
   ]
  },
  {
   "cell_type": "code",
   "execution_count": 114,
   "id": "91da414c",
   "metadata": {},
   "outputs": [
    {
     "data": {
      "text/plain": [
       "array([[0, 30, 0, 0, 0],\n",
       "       [0, 0, 50, 40, 0],\n",
       "       [0, 0, 0, 0, 0],\n",
       "       [0, 0, 0, 0, 10],\n",
       "       [20, 0, 0, 0, 0]], dtype=object)"
      ]
     },
     "execution_count": 114,
     "metadata": {},
     "output_type": "execute_result"
    }
   ],
   "source": [
    "G.getMatrizAdjacenciaAsArray()"
   ]
  },
  {
   "cell_type": "code",
   "execution_count": 115,
   "id": "68910bed",
   "metadata": {},
   "outputs": [
    {
     "data": {
      "text/plain": [
       "{3: {3: 0, 4: 0, 5: 0, 1: 0, 2: 20},\n",
       " 4: {3: 30, 4: 0, 5: 0, 1: 0, 2: 0},\n",
       " 5: {3: 0, 4: 50, 5: 0, 1: 0, 2: 0},\n",
       " 1: {3: 0, 4: 40, 5: 0, 1: 0, 2: 0},\n",
       " 2: {3: 0, 4: 0, 5: 0, 1: 10, 2: 0}}"
      ]
     },
     "execution_count": 115,
     "metadata": {},
     "output_type": "execute_result"
    }
   ],
   "source": [
    "G.getMatrizAdjacenciaAsDict()"
   ]
  },
  {
   "cell_type": "code",
   "execution_count": 56,
   "id": "6fd4c082",
   "metadata": {},
   "outputs": [
    {
     "data": {
      "text/plain": [
       "2"
      ]
     },
     "execution_count": 56,
     "metadata": {},
     "output_type": "execute_result"
    }
   ],
   "source": [
    "v1.getGrau()"
   ]
  },
  {
   "cell_type": "code",
   "execution_count": 57,
   "id": "cbfb2a5b",
   "metadata": {},
   "outputs": [
    {
     "data": {
      "text/plain": [
       "True"
      ]
     },
     "execution_count": 57,
     "metadata": {},
     "output_type": "execute_result"
    }
   ],
   "source": [
    "G.checkHandShakingLemma()"
   ]
  },
  {
   "cell_type": "code",
   "execution_count": 58,
   "id": "1c2d3a62",
   "metadata": {},
   "outputs": [
    {
     "name": "stdout",
     "output_type": "stream",
     "text": [
      "1\t5\t3\t4\t2\t"
     ]
    }
   ],
   "source": [
    "for v in G.getVertices():\n",
    "    print(v.getValor(), end=\"\\t\")"
   ]
  },
  {
   "cell_type": "code",
   "execution_count": 59,
   "id": "28e99364",
   "metadata": {},
   "outputs": [
    {
     "name": "stdout",
     "output_type": "stream",
     "text": [
      "2 -- 20 --> 3\n",
      "4 -- 50 --> 5\n",
      "4 -- 40 --> 1\n",
      "1 -- 10 --> 2\n",
      "3 -- 30 --> 4\n"
     ]
    }
   ],
   "source": [
    "for a in G.getArestas():\n",
    "    print(a.getvOrigem().getValor(), end=\"\")\n",
    "    print(\" --\", a.getValor(), \"--> \", end=\"\")\n",
    "    print(a.getvDestino().getValor())"
   ]
  },
  {
   "cell_type": "code",
   "execution_count": 60,
   "id": "fb32726c",
   "metadata": {},
   "outputs": [
    {
     "name": "stdout",
     "output_type": "stream",
     "text": [
      "2 -- 20 --> 3\n",
      "4 -- 50 --> 5\n",
      "4 -- 40 --> 1\n",
      "3 -- 30 --> 4\n"
     ]
    }
   ],
   "source": [
    "G.removerAresta(1, 2, peso = 10)\n",
    "for a in G.getArestas():\n",
    "    print(a.getvOrigem().getValor(), end=\"\")\n",
    "    print(\" --\", a.getValor(), \"--> \", end=\"\")\n",
    "    print(a.getvDestino().getValor())"
   ]
  },
  {
   "cell_type": "code",
   "execution_count": 61,
   "id": "07c57768",
   "metadata": {},
   "outputs": [
    {
     "name": "stdout",
     "output_type": "stream",
     "text": [
      "Antes de remover\n",
      "1\t5\t3\t4\t2\t\n",
      "Depois de remover\n",
      "5\t3\t4\t2\t"
     ]
    }
   ],
   "source": [
    "# Remocao de vertice\n",
    "print(\"Antes de remover\")\n",
    "for v in G.getVertices():\n",
    "    print(v.getValor(), end=\"\\t\")\n",
    "    \n",
    "G.removerVertice(1)\n",
    "print(\"\\nDepois de remover\")\n",
    "for v in G.getVertices():\n",
    "    print(v.getValor(), end=\"\\t\")"
   ]
  },
  {
   "cell_type": "markdown",
   "id": "f6297d84",
   "metadata": {},
   "source": [
    "#### Testando busca em profundidade"
   ]
  },
  {
   "cell_type": "code",
   "execution_count": 125,
   "id": "1de74052",
   "metadata": {},
   "outputs": [
    {
     "name": "stdout",
     "output_type": "stream",
     "text": [
      "Busca em profundidade, iniciando com o vértice 4:\n",
      "4\t1\t2\t3\t6\t5\t\n",
      ".................................................\n",
      "Busca em profundidade, iniciando com o vértice 1:\n",
      "1\t2\t3\t4\t6\t5\t\n",
      ".................................................\n",
      "Busca em profundidade, iniciando com o vértice 6:\n",
      "6\t4\t1\t2\t3\t5\t\n",
      ".................................................\n",
      "Busca em profundidade, iniciando com o vértice 5:\n",
      "5\t4\t1\t2\t3\t6\t\n",
      ".................................................\n",
      "Busca em profundidade, iniciando com o vértice 3:\n",
      "3\t4\t1\t2\t6\t5\t\n",
      ".................................................\n",
      "Busca em profundidade, iniciando com o vértice 2:\n",
      "2\t3\t4\t1\t6\t5\t\n",
      ".................................................\n"
     ]
    }
   ],
   "source": [
    "v1 = Vertice(1)\n",
    "v2 = Vertice(2)\n",
    "v3 = Vertice(3)\n",
    "v4 = Vertice(4)\n",
    "v5 = Vertice(5)\n",
    "v6 = Vertice(6)\n",
    "a1 = Aresta( v1, v2, 10, True )\n",
    "a2 = Aresta( v2, v3, 20, True )\n",
    "a3 = Aresta( v3, v4, 30, True )\n",
    "a4 = Aresta( v4, v1, 40, True )\n",
    "a5 = Aresta( v4, v5, 50, True ) \n",
    "a6 = Aresta( v4, v6, 60, True ) \n",
    "G = Grafo()\n",
    "G.setVertices({v1, v2, v3, v4, v5,v6})\n",
    "G.setArestas({a1, a2, a3, a4, a5, a6})\n",
    "for vertice in G.getVertices():\n",
    "    print(f\"Busca em profundidade, iniciando com o vértice {vertice.getValor()}:\")\n",
    "    for v in G.dfs(G, vertice, visitados=[]):\n",
    "        print(str(v.getValor())+\"\\t\", end=\"\")\n",
    "    print(\"\\n.................................................\")  "
   ]
  },
  {
   "cell_type": "code",
   "execution_count": 126,
   "id": "447cd7a7",
   "metadata": {},
   "outputs": [
    {
     "name": "stdout",
     "output_type": "stream",
     "text": [
      "Busca em largura, iniciando com o vértice 1:\n",
      "1\t2\t3\t4\t5\t6\t\n",
      "............................................\n",
      "Busca em largura, iniciando com o vértice 6:\n",
      "6\t1\t2\t3\t4\t5\t\n",
      "............................................\n",
      "Busca em largura, iniciando com o vértice 3:\n",
      "3\t4\t5\t1\t2\t6\t\n",
      "............................................\n",
      "Busca em largura, iniciando com o vértice 5:\n",
      "5\t1\t2\t3\t4\t6\t\n",
      "............................................\n",
      "Busca em largura, iniciando com o vértice 4:\n",
      "4\t5\t1\t2\t3\t6\t\n",
      "............................................\n",
      "Busca em largura, iniciando com o vértice 2:\n",
      "2\t3\t4\t5\t1\t6\t\n",
      "............................................\n"
     ]
    }
   ],
   "source": [
    "v1 = Vertice(1)\n",
    "v2 = Vertice(2)\n",
    "v3 = Vertice(3)\n",
    "v4 = Vertice(4)\n",
    "v5 = Vertice(5)\n",
    "v6 = Vertice(6)\n",
    "a1 = Aresta( v1, v2, 10, True )\n",
    "a2 = Aresta( v2, v3, 20, True )\n",
    "a3 = Aresta( v3, v4, 30, True )\n",
    "a4 = Aresta( v4, v1, 40, True )\n",
    "a5 = Aresta( v4, v5, 50, True ) \n",
    "a6 = Aresta( v4, v6, 60, True ) \n",
    "G = Grafo()\n",
    "G.setVertices({v1, v2, v3, v4, v5,v6})\n",
    "G.setArestas({a1, a2, a3, a4, a5, a6})\n",
    "for vertice in G.getVertices():\n",
    "    print(f\"Busca em largura, iniciando com o vértice {vertice.getValor()}:\")\n",
    "    for v in  G.bfs(vertice, visitados = [], fila = deque([])):\n",
    "        print(str(v.getValor())+\"\\t\", end=\"\")\n",
    "    print(\"\\n............................................\")   "
   ]
  },
  {
   "cell_type": "code",
   "execution_count": 127,
   "id": "4e2ccf9d",
   "metadata": {},
   "outputs": [
    {
     "ename": "KeyboardInterrupt",
     "evalue": "Interrupted by user",
     "output_type": "error",
     "traceback": [
      "\u001b[0;31m---------------------------------------------------------------------------\u001b[0m",
      "\u001b[0;31mKeyboardInterrupt\u001b[0m                         Traceback (most recent call last)",
      "\u001b[0;32m/tmp/ipykernel_5269/2439078974.py\u001b[0m in \u001b[0;36m<module>\u001b[0;34m\u001b[0m\n\u001b[0;32m----> 1\u001b[0;31m \u001b[0mvalor\u001b[0m \u001b[0;34m=\u001b[0m \u001b[0mint\u001b[0m\u001b[0;34m(\u001b[0m\u001b[0minput\u001b[0m\u001b[0;34m(\u001b[0m\u001b[0;34m\"Valor procurado: \"\u001b[0m\u001b[0;34m)\u001b[0m\u001b[0;34m)\u001b[0m\u001b[0;34m\u001b[0m\u001b[0;34m\u001b[0m\u001b[0m\n\u001b[0m\u001b[1;32m      2\u001b[0m \u001b[0;32mif\u001b[0m \u001b[0mG\u001b[0m\u001b[0;34m.\u001b[0m\u001b[0mbuscarPorValor\u001b[0m\u001b[0;34m(\u001b[0m\u001b[0mvalor\u001b[0m\u001b[0;34m)\u001b[0m \u001b[0;34m==\u001b[0m \u001b[0;32mNone\u001b[0m\u001b[0;34m:\u001b[0m\u001b[0;34m\u001b[0m\u001b[0;34m\u001b[0m\u001b[0m\n\u001b[1;32m      3\u001b[0m     \u001b[0mprint\u001b[0m\u001b[0;34m(\u001b[0m\u001b[0;34mf\"{valor} não encontrado no grafo\"\u001b[0m\u001b[0;34m)\u001b[0m\u001b[0;34m\u001b[0m\u001b[0;34m\u001b[0m\u001b[0m\n\u001b[1;32m      4\u001b[0m \u001b[0;32melse\u001b[0m\u001b[0;34m:\u001b[0m\u001b[0;34m\u001b[0m\u001b[0;34m\u001b[0m\u001b[0m\n\u001b[1;32m      5\u001b[0m     \u001b[0mprint\u001b[0m\u001b[0;34m(\u001b[0m\u001b[0;34mf\"{valor} encontrado no grafo\"\u001b[0m\u001b[0;34m)\u001b[0m\u001b[0;34m\u001b[0m\u001b[0;34m\u001b[0m\u001b[0m\n",
      "\u001b[0;32m~/.conda/envs/ifg/lib/python3.7/site-packages/ipykernel/kernelbase.py\u001b[0m in \u001b[0;36mraw_input\u001b[0;34m(self, prompt)\u001b[0m\n\u001b[1;32m   1046\u001b[0m             \u001b[0mself\u001b[0m\u001b[0;34m.\u001b[0m\u001b[0m_parent_ident\u001b[0m\u001b[0;34m[\u001b[0m\u001b[0;34m\"shell\"\u001b[0m\u001b[0;34m]\u001b[0m\u001b[0;34m,\u001b[0m\u001b[0;34m\u001b[0m\u001b[0;34m\u001b[0m\u001b[0m\n\u001b[1;32m   1047\u001b[0m             \u001b[0mself\u001b[0m\u001b[0;34m.\u001b[0m\u001b[0mget_parent\u001b[0m\u001b[0;34m(\u001b[0m\u001b[0;34m\"shell\"\u001b[0m\u001b[0;34m)\u001b[0m\u001b[0;34m,\u001b[0m\u001b[0;34m\u001b[0m\u001b[0;34m\u001b[0m\u001b[0m\n\u001b[0;32m-> 1048\u001b[0;31m             \u001b[0mpassword\u001b[0m\u001b[0;34m=\u001b[0m\u001b[0;32mFalse\u001b[0m\u001b[0;34m,\u001b[0m\u001b[0;34m\u001b[0m\u001b[0;34m\u001b[0m\u001b[0m\n\u001b[0m\u001b[1;32m   1049\u001b[0m         )\n\u001b[1;32m   1050\u001b[0m \u001b[0;34m\u001b[0m\u001b[0m\n",
      "\u001b[0;32m~/.conda/envs/ifg/lib/python3.7/site-packages/ipykernel/kernelbase.py\u001b[0m in \u001b[0;36m_input_request\u001b[0;34m(self, prompt, ident, parent, password)\u001b[0m\n\u001b[1;32m   1087\u001b[0m             \u001b[0;32mexcept\u001b[0m \u001b[0mKeyboardInterrupt\u001b[0m\u001b[0;34m:\u001b[0m\u001b[0;34m\u001b[0m\u001b[0;34m\u001b[0m\u001b[0m\n\u001b[1;32m   1088\u001b[0m                 \u001b[0;31m# re-raise KeyboardInterrupt, to truncate traceback\u001b[0m\u001b[0;34m\u001b[0m\u001b[0;34m\u001b[0m\u001b[0;34m\u001b[0m\u001b[0m\n\u001b[0;32m-> 1089\u001b[0;31m                 \u001b[0;32mraise\u001b[0m \u001b[0mKeyboardInterrupt\u001b[0m\u001b[0;34m(\u001b[0m\u001b[0;34m\"Interrupted by user\"\u001b[0m\u001b[0;34m)\u001b[0m \u001b[0;32mfrom\u001b[0m \u001b[0;32mNone\u001b[0m\u001b[0;34m\u001b[0m\u001b[0;34m\u001b[0m\u001b[0m\n\u001b[0m\u001b[1;32m   1090\u001b[0m             \u001b[0;32mexcept\u001b[0m \u001b[0mException\u001b[0m\u001b[0;34m:\u001b[0m\u001b[0;34m\u001b[0m\u001b[0;34m\u001b[0m\u001b[0m\n\u001b[1;32m   1091\u001b[0m                 \u001b[0mself\u001b[0m\u001b[0;34m.\u001b[0m\u001b[0mlog\u001b[0m\u001b[0;34m.\u001b[0m\u001b[0mwarning\u001b[0m\u001b[0;34m(\u001b[0m\u001b[0;34m\"Invalid Message:\"\u001b[0m\u001b[0;34m,\u001b[0m \u001b[0mexc_info\u001b[0m\u001b[0;34m=\u001b[0m\u001b[0;32mTrue\u001b[0m\u001b[0;34m)\u001b[0m\u001b[0;34m\u001b[0m\u001b[0;34m\u001b[0m\u001b[0m\n",
      "\u001b[0;31mKeyboardInterrupt\u001b[0m: Interrupted by user"
     ]
    }
   ],
   "source": [
    "valor = int(input(\"Valor procurado: \"))\n",
    "if G.buscarPorValor(valor) == None:\n",
    "    print(f\"{valor} não encontrado no grafo\")\n",
    "else:\n",
    "    print(f\"{valor} encontrado no grafo\")\n",
    "# [print(f\"{v.getValor()} encontrado no grafo.\") for v in  G.bfs(v1, visitados = [], fila = deque([])) if n == v.getValor() ]"
   ]
  },
  {
   "cell_type": "code",
   "execution_count": null,
   "id": "eabe6cad",
   "metadata": {},
   "outputs": [],
   "source": [
    "if G.existeCaminhoEuler():\n",
    "    print(\"Grafo contém um caminho Euleriano\")\n",
    "else:\n",
    "    print(\"Grafo NÃO contém um caminho Euleriano\")"
   ]
  }
 ],
 "metadata": {
  "kernelspec": {
   "display_name": "Python 3 (ipykernel)",
   "language": "python",
   "name": "python3"
  },
  "language_info": {
   "codemirror_mode": {
    "name": "ipython",
    "version": 3
   },
   "file_extension": ".py",
   "mimetype": "text/x-python",
   "name": "python",
   "nbconvert_exporter": "python",
   "pygments_lexer": "ipython3",
   "version": "3.7.12"
  }
 },
 "nbformat": 4,
 "nbformat_minor": 5
}
