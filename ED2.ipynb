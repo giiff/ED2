{
 "cells": [
  {
   "cell_type": "code",
   "execution_count": 18,
   "id": "d54522d8",
   "metadata": {},
   "outputs": [
    {
     "data": {
      "text/html": [
       "<style>.container { width:100% !important; }</style>"
      ],
      "text/plain": [
       "<IPython.core.display.HTML object>"
      ]
     },
     "metadata": {},
     "output_type": "display_data"
    }
   ],
   "source": [
    "from IPython.display import display, HTML\n",
    "display(HTML(\"<style>.container { width:100% !important; }</style>\"))"
   ]
  },
  {
   "cell_type": "code",
   "execution_count": 92,
   "id": "8b003e19",
   "metadata": {},
   "outputs": [],
   "source": [
    "class Vertice:\n",
    "    \n",
    "    def __init__(self, valor, direcionado=True):\n",
    "        self.__dado = valor\n",
    "        self.__direcionado = direcionado\n",
    "        self.__arestas = set()\n",
    "    \n",
    "    def getDado(self):\n",
    "        return self.__dado\n",
    "    \n",
    "    def setDado(self, valor):\n",
    "        self.__dado = valor\n",
    "        \n",
    "    def getArestas(self):\n",
    "        return self.__arestas\n",
    "    \n",
    "    def adicionarAresta(self, aresta):\n",
    "        self.__arestas.add(aresta)\n",
    "        \n",
    "    def getArestasSaida(self):\n",
    "        if self.__direcionado == False:\n",
    "            return self.__arestas\n",
    "        arestasDeSaida = []\n",
    "        for aresta in self.__arestas:\n",
    "            if aresta.getvOrigem() == self:\n",
    "                arestasDeSaida.append(aresta)\n",
    "        return arestasDeSaida\n",
    "    \n",
    "    def getArestasEntrada(self):\n",
    "        if self.__direcionado == False:\n",
    "            return self.__arestas\n",
    "        arestasSaida = []\n",
    "        for aresta in self.__arestas:\n",
    "            if aresta.getvDestino() == self:\n",
    "                arestasSaida.append(aresta)\n",
    "        return arestasSaida\n",
    "    \n",
    "    def getGrau(self):\n",
    "        return len(self.getArestasSaida())+ len(self.getArestasEntrada())"
   ]
  },
  {
   "cell_type": "code",
   "execution_count": 93,
   "id": "5c3677e7",
   "metadata": {},
   "outputs": [],
   "source": [
    "class Aresta:\n",
    "    def __init__(self, vOrigem, vDestino, valor, direcionada=True):\n",
    "        self.__vOrigem = vOrigem\n",
    "        self.__vDestino = vDestino\n",
    "        self.__valor = valor\n",
    "        self.__direcionada = direcionada\n",
    "        self.__vOrigem.adicionarAresta(self)\n",
    "        self.__vDestino.adicionarAresta(self)\n",
    "        \n",
    "        \n",
    "    def getvOrigem(self):\n",
    "        return self.__vOrigem\n",
    "    def getvDestino(self):\n",
    "        return self.__vDestino\n",
    "    def getValor(self):\n",
    "        return self.__valor"
   ]
  },
  {
   "cell_type": "code",
   "execution_count": 94,
   "id": "d3d8fa70",
   "metadata": {},
   "outputs": [],
   "source": [
    "class Grafo:\n",
    "    def __init__(self, direcionado=True):\n",
    "        self.__vertices = set()\n",
    "        self.__arestas  = set()\n",
    "        self.__direcionado = direcionado\n",
    "        \n",
    "    def setVertices(self, vertices):\n",
    "        self.__vertices = vertices\n",
    "        \n",
    "    def setArestas(self, arestas):\n",
    "        self.__arestas = arestas\n",
    "        \n",
    "    def getVertices(self):\n",
    "        return self.__vertices\n",
    "    \n",
    "    def getArestas(self):\n",
    "        return self.__arestas\n",
    "    \n",
    "    def checkHandShakingLemma(self):\n",
    "        somaGraus = 0\n",
    "        for v in self.getVertices():\n",
    "            somaGraus+= v.getGrau()\n",
    "        print(somaGraus)\n",
    "        if somaGraus == len(self.getArestas())*2:\n",
    "            return True\n",
    "        else:\n",
    "            return False"
   ]
  },
  {
   "cell_type": "code",
   "execution_count": 95,
   "id": "91b986a7",
   "metadata": {},
   "outputs": [],
   "source": [
    "v1 = Vertice(1)\n",
    "v2 = Vertice(2)\n",
    "v3 = Vertice(3)\n",
    "v4 = Vertice(4)\n",
    "a1 = Aresta( v1, v2, 10, True )\n",
    "a2 = Aresta( v2, v3, 20, True )\n",
    "a3 = Aresta( v3, v4, 30, True )"
   ]
  },
  {
   "cell_type": "code",
   "execution_count": 96,
   "id": "2db17f8a",
   "metadata": {},
   "outputs": [],
   "source": [
    "G = Grafo()\n",
    "G.setVertices({v1, v2, v3, v4})\n",
    "G.setArestas({a1, a2, a3})"
   ]
  },
  {
   "cell_type": "code",
   "execution_count": 97,
   "id": "28e99364",
   "metadata": {},
   "outputs": [
    {
     "name": "stdout",
     "output_type": "stream",
     "text": [
      "2\n",
      "4\n",
      "1\n",
      "3\n"
     ]
    }
   ],
   "source": [
    "for v in G.getVertices():\n",
    "    print(v.getDado())"
   ]
  },
  {
   "cell_type": "code",
   "execution_count": 98,
   "id": "29d5dcfe",
   "metadata": {},
   "outputs": [
    {
     "name": "stdout",
     "output_type": "stream",
     "text": [
      "2 ---> 3\n",
      "1 ---> 2\n",
      "3 ---> 4\n"
     ]
    }
   ],
   "source": [
    "for a in G.getArestas():\n",
    "    print(a.getvOrigem().getDado(), end=\"\")\n",
    "    print(\" ---> \", end=\"\")\n",
    "    print(a.getvDestino().getDado())"
   ]
  },
  {
   "cell_type": "code",
   "execution_count": 99,
   "id": "3ebc1c5d",
   "metadata": {},
   "outputs": [
    {
     "data": {
      "text/plain": [
       "1"
      ]
     },
     "execution_count": 99,
     "metadata": {},
     "output_type": "execute_result"
    }
   ],
   "source": [
    "v1.getGrau()"
   ]
  },
  {
   "cell_type": "code",
   "execution_count": 100,
   "id": "4690659b",
   "metadata": {},
   "outputs": [
    {
     "name": "stdout",
     "output_type": "stream",
     "text": [
      "6\n"
     ]
    },
    {
     "data": {
      "text/plain": [
       "True"
      ]
     },
     "execution_count": 100,
     "metadata": {},
     "output_type": "execute_result"
    }
   ],
   "source": [
    "G.checkHandShakingLemma()"
   ]
  },
  {
   "cell_type": "code",
   "execution_count": null,
   "id": "e72b83e0",
   "metadata": {},
   "outputs": [],
   "source": []
  }
 ],
 "metadata": {
  "kernelspec": {
   "display_name": "Python 3 (ipykernel)",
   "language": "python",
   "name": "python3"
  },
  "language_info": {
   "codemirror_mode": {
    "name": "ipython",
    "version": 3
   },
   "file_extension": ".py",
   "mimetype": "text/x-python",
   "name": "python",
   "nbconvert_exporter": "python",
   "pygments_lexer": "ipython3",
   "version": "3.9.7"
  }
 },
 "nbformat": 4,
 "nbformat_minor": 5
}
