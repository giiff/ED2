{
 "cells": [
  {
   "cell_type": "code",
   "execution_count": 1,
   "id": "d54522d8",
   "metadata": {},
   "outputs": [
    {
     "data": {
      "text/html": [
       "<style>.container { width:100% !important; background-color:green;font-family:italic}</style>"
      ],
      "text/plain": [
       "<IPython.core.display.HTML object>"
      ]
     },
     "metadata": {},
     "output_type": "display_data"
    }
   ],
   "source": [
    "from IPython.display import display, HTML\n",
    "display(HTML(\"<style>.container { width:100% !important; background-color:green;font-family:italic}</style>\"))\n",
    "import pandas as pd\n",
    "import numpy as np"
   ]
  },
  {
   "cell_type": "code",
   "execution_count": 2,
   "id": "8b003e19",
   "metadata": {},
   "outputs": [],
   "source": [
    "class Vertice:\n",
    "    \n",
    "    def __init__(self, valor, direcionado=True):\n",
    "        self.__valor = valor\n",
    "        self.__direcionado = direcionado\n",
    "        self.__arestas = set()\n",
    "    \n",
    "    def getValor(self):\n",
    "        return self.__valor\n",
    "    \n",
    "    def setValor(self, valor):\n",
    "        self.__valor = valor\n",
    "        \n",
    "    def getArestas(self):\n",
    "        return self.__arestas\n",
    "    \n",
    "    def adicionarAresta(self, aresta):\n",
    "        self.__arestas.add(aresta)\n",
    "        \n",
    "    def getArestasSaida(self):\n",
    "        if self.__direcionado == False:\n",
    "            return self.__arestas\n",
    "        arestasDeSaida = []\n",
    "        for aresta in self.__arestas:\n",
    "            if aresta.getvOrigem() == self:\n",
    "                arestasDeSaida.append(aresta)\n",
    "        return arestasDeSaida\n",
    "    \n",
    "    def getArestasEntrada(self):\n",
    "        if self.__direcionado == False:\n",
    "            return self.__arestas\n",
    "        arestasSaida = []\n",
    "        for aresta in self.__arestas:\n",
    "            if aresta.getvDestino() == self:\n",
    "                arestasSaida.append(aresta)\n",
    "        return arestasSaida\n",
    "    \n",
    "    def getGrau(self):\n",
    "        return len(self.getArestasSaida())+ len(self.getArestasEntrada())\n",
    "    \n",
    "    def getAdjacentes(self, v):\n",
    "        listaVerticesAdjacentes = []\n",
    "        for arestas_de_saida in v.getArestasSaida():\n",
    "            listaVerticesAdjacentes.append(arestas_de_saida.getvDestino())\n",
    "        return listaVerticesAdjacentes\n",
    "        \n",
    "        \n",
    "    "
   ]
  },
  {
   "cell_type": "code",
   "execution_count": 3,
   "id": "5c3677e7",
   "metadata": {},
   "outputs": [],
   "source": [
    "class Aresta:\n",
    "    def __init__(self, vOrigem, vDestino, peso, direcionada=True):\n",
    "        self.__vOrigem = vOrigem\n",
    "        self.__vDestino = vDestino\n",
    "        self.__peso = peso\n",
    "        self.__direcionada = direcionada\n",
    "        self.__vOrigem.adicionarAresta(self)\n",
    "        self.__vDestino.adicionarAresta(self)\n",
    "        \n",
    "    def getvOrigem(self):\n",
    "        return self.__vOrigem\n",
    "    def getvDestino(self):\n",
    "        return self.__vDestino\n",
    "    def getValor(self):\n",
    "        return self.__peso"
   ]
  },
  {
   "cell_type": "code",
   "execution_count": 4,
   "id": "7aef9237",
   "metadata": {},
   "outputs": [
    {
     "ename": "NameError",
     "evalue": "name 'deque' is not defined",
     "output_type": "error",
     "traceback": [
      "\u001b[1;31m---------------------------------------------------------------------------\u001b[0m",
      "\u001b[1;31mNameError\u001b[0m                                 Traceback (most recent call last)",
      "\u001b[1;32m~\\AppData\\Local\\Temp/ipykernel_17956/2641163401.py\u001b[0m in \u001b[0;36m<module>\u001b[1;34m\u001b[0m\n\u001b[0;32m      1\u001b[0m \u001b[1;31m# from collections import deque\u001b[0m\u001b[1;33m\u001b[0m\u001b[1;33m\u001b[0m\u001b[0m\n\u001b[1;32m----> 2\u001b[1;33m \u001b[1;32mclass\u001b[0m \u001b[0mGrafo\u001b[0m\u001b[1;33m:\u001b[0m\u001b[1;33m\u001b[0m\u001b[1;33m\u001b[0m\u001b[0m\n\u001b[0m\u001b[0;32m      3\u001b[0m     \u001b[1;32mdef\u001b[0m \u001b[0m__init__\u001b[0m\u001b[1;33m(\u001b[0m\u001b[0mself\u001b[0m\u001b[1;33m,\u001b[0m \u001b[0mdirecionado\u001b[0m\u001b[1;33m=\u001b[0m\u001b[1;32mTrue\u001b[0m\u001b[1;33m)\u001b[0m\u001b[1;33m:\u001b[0m\u001b[1;33m\u001b[0m\u001b[1;33m\u001b[0m\u001b[0m\n\u001b[0;32m      4\u001b[0m         \u001b[0mself\u001b[0m\u001b[1;33m.\u001b[0m\u001b[0m__vertices\u001b[0m \u001b[1;33m=\u001b[0m \u001b[0mset\u001b[0m\u001b[1;33m(\u001b[0m\u001b[1;33m)\u001b[0m\u001b[1;33m\u001b[0m\u001b[1;33m\u001b[0m\u001b[0m\n\u001b[0;32m      5\u001b[0m         \u001b[0mself\u001b[0m\u001b[1;33m.\u001b[0m\u001b[0m__arestas\u001b[0m  \u001b[1;33m=\u001b[0m \u001b[0mset\u001b[0m\u001b[1;33m(\u001b[0m\u001b[1;33m)\u001b[0m\u001b[1;33m\u001b[0m\u001b[1;33m\u001b[0m\u001b[0m\n",
      "\u001b[1;32m~\\AppData\\Local\\Temp/ipykernel_17956/2641163401.py\u001b[0m in \u001b[0;36mGrafo\u001b[1;34m()\u001b[0m\n\u001b[0;32m     44\u001b[0m         \u001b[1;32mreturn\u001b[0m \u001b[0mvisitados\u001b[0m\u001b[1;33m\u001b[0m\u001b[1;33m\u001b[0m\u001b[0m\n\u001b[0;32m     45\u001b[0m \u001b[1;33m\u001b[0m\u001b[0m\n\u001b[1;32m---> 46\u001b[1;33m     \u001b[1;32mdef\u001b[0m \u001b[0mbfs\u001b[0m\u001b[1;33m(\u001b[0m\u001b[0mself\u001b[0m\u001b[1;33m,\u001b[0m \u001b[0mv\u001b[0m\u001b[1;33m,\u001b[0m \u001b[0mvisitados\u001b[0m \u001b[1;33m=\u001b[0m \u001b[1;33m[\u001b[0m\u001b[1;33m]\u001b[0m\u001b[1;33m,\u001b[0m \u001b[0mfila\u001b[0m \u001b[1;33m=\u001b[0m \u001b[0mdeque\u001b[0m\u001b[1;33m(\u001b[0m\u001b[1;33m[\u001b[0m\u001b[1;33m]\u001b[0m\u001b[1;33m)\u001b[0m\u001b[1;33m)\u001b[0m\u001b[1;33m:\u001b[0m\u001b[1;33m\u001b[0m\u001b[1;33m\u001b[0m\u001b[0m\n\u001b[0m\u001b[0;32m     47\u001b[0m         \u001b[0mfila\u001b[0m\u001b[1;33m.\u001b[0m\u001b[0mappend\u001b[0m\u001b[1;33m(\u001b[0m\u001b[0mv\u001b[0m\u001b[1;33m)\u001b[0m  \u001b[1;31m# adiciona o vertice v a fila\u001b[0m\u001b[1;33m\u001b[0m\u001b[1;33m\u001b[0m\u001b[0m\n\u001b[0;32m     48\u001b[0m         \u001b[1;32mif\u001b[0m \u001b[0mv\u001b[0m \u001b[1;32mnot\u001b[0m \u001b[1;32min\u001b[0m \u001b[0mvisitados\u001b[0m\u001b[1;33m:\u001b[0m  \u001b[1;31m# se vertice v nao esta em visitados\u001b[0m\u001b[1;33m\u001b[0m\u001b[1;33m\u001b[0m\u001b[0m\n",
      "\u001b[1;31mNameError\u001b[0m: name 'deque' is not defined"
     ]
    }
   ],
   "source": [
    "# from collections import deque\n",
    "class Grafo:\n",
    "    def __init__(self, direcionado=True):\n",
    "        self.__vertices = set()\n",
    "        self.__arestas  = set()\n",
    "        self.__direcionado = direcionado\n",
    "        \n",
    "    def setVertices(self, vertices):\n",
    "        self.__vertices = vertices\n",
    "        \n",
    "    def setArestas(self, arestas):\n",
    "        self.__arestas = arestas\n",
    "        \n",
    "    def getVertices(self):\n",
    "        return self.__vertices\n",
    "    \n",
    "    def getVerticeByValor(self, valor):\n",
    "        for v in self.__vertices:\n",
    "            if v.getValor() == valor:\n",
    "                return v\n",
    "        return None\n",
    "    \n",
    "    def getArestas(self):\n",
    "        return self.__arestas\n",
    "    \n",
    "    def checkHandShakingLemma(self):\n",
    "        somaGraus = 0\n",
    "        for v in self.getVertices():\n",
    "            somaGraus+= v.getGrau()\n",
    "        if somaGraus == len(self.getArestas())*2:\n",
    "            return True\n",
    "        else:\n",
    "            return False\n",
    "        \n",
    "    def dfs(self, graph, v, visitados=[]):\n",
    "        if v not in visitados: # se v nao foi visitado\n",
    "            visitados.append(v) # marca vertice como visitado\n",
    "        if len(v.getAdjacentes(v)) == 0: # vertice escolhido nao tem adjacentes\n",
    "            self.dfs(graph, next(iter(graph.getVertices())), visitados) # chamada recursiva pegando o proximo vertice do set\n",
    "        else: # vertice escolhido tem adjacentes\n",
    "            for adjacente in v.getAdjacentes(v): #percorre todos os adjacentes a ele\n",
    "                if adjacente not in visitados: # se um dos adjacentes nao foi visitado\n",
    "                    self.dfs(graph, adjacente, visitados) # chamada recursiva para cada adjacente\n",
    "        return visitados\n",
    "    \n",
    "    def bfs(self, v, visitados = [], fila = deque([])):\n",
    "        fila.append(v)  # adiciona o vertice v a fila\n",
    "        if v not in visitados:  # se vertice v nao esta em visitados\n",
    "            visitados.append(v)  # adiciona vertice v a visitados\n",
    "        while fila:  # enquanto houver vertices na fila\n",
    "            vertice = fila.popleft()  # tira vertice ja visitado da fila\n",
    "            if len(vertice.getArestasSaida()) == 0: # vertice escolhido nao tem adjacentes\n",
    "                self.bfs(next(iter(self.getVertices())), visitados, fila) # chamada recursiva pegando o proximo vertice do set   \n",
    "            else:\n",
    "                for e in vertice.getArestasSaida():  # percorre todas as arestas saindo do vertice\n",
    "                    vAdjacente = e.getvDestino() # para cada aresta, um vertice adjacente\n",
    "                    if vAdjacente not in visitados:  # se o vertice adjacente nao esta em visitados\n",
    "                        visitados.append(vAdjacente)  # insere o adjacente em visitados\n",
    "                        fila.append(vAdjacente)  # insere o adjacente da fila a visitar\n",
    "        return visitados  # retorna a lista de visitados  \n",
    "    \n",
    "    \n",
    "    def bvalor(self, v, visitados = [], fila = deque([])):\n",
    "         valorInicial =  next(iter(self.getVertices()))\n",
    "         \n",
    "        \n",
    "         visitados1 = []\n",
    "           \n",
    "         for n in self.bfs(valorInicial):\n",
    "                visitados1.append(n.getValor())\n",
    "      \n",
    "         if v in visitados1:\n",
    "            return True\n",
    "         return False\n",
    "                \n",
    "    def euler(self):\n",
    "        #grau par em todos os vertices\n",
    "        #ou a quantidade de graus impares for 2\n",
    "        grausPares = True\n",
    "        grausImpares = []\n",
    "        for n in self.getVertices():\n",
    "            if n.getGrau() % 2 != 0:\n",
    "                grausPares = False\n",
    "                grausImpares.append(n)\n",
    "                \n",
    "        if len(grausImpares) == 2 or grausPares:\n",
    "            return True\n",
    "        return False\n",
    "    \n",
    "    def inserirVertice(self, valor):\n",
    "        if self.bvalor(valor):\n",
    "            return False\n",
    "        else:\n",
    "            self.__vertices.add(Vertice(valor))\n",
    "        \n",
    "    def inserirAresta(self, v1, v2, peso, direcionada=True):\n",
    "        if self.bvalor(v1) and self.bvalor(v2) is True:\n",
    "            aresta = Aresta(v1, v2, peso, direcionada)\n",
    "            self.__arestas.add(aresta)\n",
    "        else:\n",
    "            print(\"deu n\")\n",
    "    \n",
    "    \n",
    "    def removerAresta(self, peso, origem, destino):\n",
    "        vOrigem = self.getVerticeByValor(origem)\n",
    "        vDestino = self.getVerticeByValor(destino)\n",
    "        if (vDestino or vOrigem) != None:\n",
    "            for aresta in self.getArestas():\n",
    "                if aresta.getvOrigem() == vOrigem and aresta.getvDestino() and aresta.getValor() == peso:\n",
    "                    self.__arestas.remove(aresta)\n",
    "                    return True\n",
    "        return False\n",
    "    \n",
    "    def removerVertice(self, valor):\n",
    "        vertice = self.getVerticeByValor(valor)\n",
    "        arestasRemovidas = []\n",
    "        if vertice in self.__vertices:\n",
    "            for aresta in self.getArestas():\n",
    "                if aresta.getvOrigem() == vertice or aresta.getvDestino() == vertice:\n",
    "                    arestasRemovidas.append(aresta)\n",
    "            for aresta in arestasRemovidas:\n",
    "                self.__arestas.remove(aresta)\n",
    "            self.__vertices.remove(vertice)\n",
    "            return True\n",
    "        return False\n",
    "    \n",
    "    def matriz(self):\n",
    "        \n",
    "        a = [0] * len(self.getVertices())\n",
    "        v = []\n",
    "        v1 = []\n",
    "        \n",
    "        for vertice in self.getVertices():\n",
    "            v.append(a.copy())\n",
    "        for aresta in self.getArestas():\n",
    "            v[aresta.getvOrigem().getValor() -1 ][aresta.getvDestino().getValor() -1] = aresta.getValor()\n",
    "        for ve in self.getVertices():\n",
    "            x = ve.getValor() \n",
    "            v1.append(x)\n",
    "        v = pd.DataFrame(v, index=[v1], columns=[v1])\n",
    "        \n",
    "        return v\n",
    "    \n",
    "    def min(self):\n",
    "        v1 =[]\n",
    "        for v in self.getArestas():\n",
    "            v2 = v.getValor()\n",
    "            v1.append(v2)\n",
    "        v = sorted(v1)\n",
    "        v3 = v\n",
    "        return v3\n",
    "        \n",
    "        "
   ]
  },
  {
   "cell_type": "code",
   "execution_count": null,
   "id": "91b986a7",
   "metadata": {},
   "outputs": [],
   "source": [
    "v1 = Vertice(1)\n",
    "v2 = Vertice(2)\n",
    "v3 = Vertice(3)\n",
    "v4 = Vertice(4)\n",
    "v5 = Vertice(5)\n",
    "v6 = Vertice(6)\n",
    "v7 = Vertice(7)\n",
    "a1 = Aresta( v1, v2, 1, True )\n",
    "a2 = Aresta( v1, v3, 1, True )\n",
    "a3 = Aresta( v2, v4, 1, True )\n",
    "a4 = Aresta( v3, v4, 3, True )\n",
    "a5 = Aresta( v4, v6, 2, True )\n",
    "a6 = Aresta( v3, v5, 4, True )\n",
    "a7 = Aresta( v4, v6, 2, True )\n",
    "a8 = Aresta( v5, v6, 2, True )\n",
    "a9 = Aresta(v6, v7, 1, True)\n"
   ]
  },
  {
   "cell_type": "code",
   "execution_count": 5,
   "id": "ce259c26",
   "metadata": {},
   "outputs": [
    {
     "ename": "NameError",
     "evalue": "name 'Grafo' is not defined",
     "output_type": "error",
     "traceback": [
      "\u001b[1;31m---------------------------------------------------------------------------\u001b[0m",
      "\u001b[1;31mNameError\u001b[0m                                 Traceback (most recent call last)",
      "\u001b[1;32m~\\AppData\\Local\\Temp/ipykernel_17956/1930889763.py\u001b[0m in \u001b[0;36m<module>\u001b[1;34m\u001b[0m\n\u001b[1;32m----> 1\u001b[1;33m \u001b[0mG\u001b[0m \u001b[1;33m=\u001b[0m \u001b[0mGrafo\u001b[0m\u001b[1;33m(\u001b[0m\u001b[1;33m)\u001b[0m\u001b[1;33m\u001b[0m\u001b[1;33m\u001b[0m\u001b[0m\n\u001b[0m\u001b[0;32m      2\u001b[0m \u001b[0mG\u001b[0m\u001b[1;33m.\u001b[0m\u001b[0msetVertices\u001b[0m\u001b[1;33m(\u001b[0m\u001b[1;33m{\u001b[0m\u001b[0mv1\u001b[0m\u001b[1;33m,\u001b[0m\u001b[0mv2\u001b[0m\u001b[1;33m,\u001b[0m\u001b[0mv3\u001b[0m\u001b[1;33m,\u001b[0m\u001b[0mv4\u001b[0m\u001b[1;33m,\u001b[0m\u001b[0mv5\u001b[0m\u001b[1;33m,\u001b[0m\u001b[0mv6\u001b[0m\u001b[1;33m,\u001b[0m\u001b[0mv7\u001b[0m\u001b[1;33m}\u001b[0m\u001b[1;33m)\u001b[0m\u001b[1;33m\u001b[0m\u001b[1;33m\u001b[0m\u001b[0m\n\u001b[0;32m      3\u001b[0m \u001b[0mG\u001b[0m\u001b[1;33m.\u001b[0m\u001b[0msetArestas\u001b[0m\u001b[1;33m(\u001b[0m\u001b[1;33m{\u001b[0m\u001b[0ma1\u001b[0m\u001b[1;33m,\u001b[0m \u001b[0ma2\u001b[0m \u001b[1;33m,\u001b[0m \u001b[0ma3\u001b[0m\u001b[1;33m,\u001b[0m \u001b[0ma4\u001b[0m\u001b[1;33m,\u001b[0m \u001b[0ma5\u001b[0m\u001b[1;33m,\u001b[0m \u001b[0ma6\u001b[0m\u001b[1;33m,\u001b[0m \u001b[0ma7\u001b[0m\u001b[1;33m,\u001b[0m \u001b[0ma8\u001b[0m\u001b[1;33m,\u001b[0m \u001b[0ma9\u001b[0m\u001b[1;33m}\u001b[0m\u001b[1;33m)\u001b[0m\u001b[1;33m\u001b[0m\u001b[1;33m\u001b[0m\u001b[0m\n",
      "\u001b[1;31mNameError\u001b[0m: name 'Grafo' is not defined"
     ]
    }
   ],
   "source": [
    "G = Grafo()\n",
    "G.setVertices({v1,v2,v3,v4,v5,v6,v7})\n",
    "G.setArestas({a1, a2 , a3, a4, a5, a6, a7, a8, a9})"
   ]
  },
  {
   "cell_type": "code",
   "execution_count": 6,
   "id": "ec507743",
   "metadata": {},
   "outputs": [
    {
     "ename": "NameError",
     "evalue": "name 'G' is not defined",
     "output_type": "error",
     "traceback": [
      "\u001b[1;31m---------------------------------------------------------------------------\u001b[0m",
      "\u001b[1;31mNameError\u001b[0m                                 Traceback (most recent call last)",
      "\u001b[1;32m~\\AppData\\Local\\Temp/ipykernel_17956/2324058173.py\u001b[0m in \u001b[0;36m<module>\u001b[1;34m\u001b[0m\n\u001b[1;32m----> 1\u001b[1;33m \u001b[0mG\u001b[0m\u001b[1;33m.\u001b[0m\u001b[0mmatriz\u001b[0m\u001b[1;33m(\u001b[0m\u001b[1;33m)\u001b[0m\u001b[1;33m\u001b[0m\u001b[1;33m\u001b[0m\u001b[0m\n\u001b[0m",
      "\u001b[1;31mNameError\u001b[0m: name 'G' is not defined"
     ]
    }
   ],
   "source": [
    "G.matriz()"
   ]
  },
  {
   "cell_type": "code",
   "execution_count": 7,
   "id": "de1d9b16",
   "metadata": {},
   "outputs": [
    {
     "ename": "NameError",
     "evalue": "name 'G' is not defined",
     "output_type": "error",
     "traceback": [
      "\u001b[1;31m---------------------------------------------------------------------------\u001b[0m",
      "\u001b[1;31mNameError\u001b[0m                                 Traceback (most recent call last)",
      "\u001b[1;32m~\\AppData\\Local\\Temp/ipykernel_17956/3634934018.py\u001b[0m in \u001b[0;36m<module>\u001b[1;34m\u001b[0m\n\u001b[1;32m----> 1\u001b[1;33m \u001b[0mG\u001b[0m\u001b[1;33m.\u001b[0m\u001b[0mmin\u001b[0m\u001b[1;33m(\u001b[0m\u001b[1;33m)\u001b[0m\u001b[1;33m\u001b[0m\u001b[1;33m\u001b[0m\u001b[0m\n\u001b[0m",
      "\u001b[1;31mNameError\u001b[0m: name 'G' is not defined"
     ]
    }
   ],
   "source": [
    "G.min()"
   ]
  },
  {
   "cell_type": "markdown",
   "id": "92a5c632",
   "metadata": {},
   "source": [
    "tarefas"
   ]
  },
  {
   "cell_type": "code",
   "execution_count": 8,
   "id": "c1d14e5d",
   "metadata": {},
   "outputs": [],
   "source": [
    "class tarefa:\n",
    "    \n",
    "    def __init__(self, d, ini, f):\n",
    "        self.descricao = d\n",
    "        self.inicio = ini\n",
    "        self.fim = f"
   ]
  },
  {
   "cell_type": "code",
   "execution_count": 9,
   "id": "c466b074",
   "metadata": {},
   "outputs": [
    {
     "name": "stdout",
     "output_type": "stream",
     "text": [
      "2\n",
      "5\n",
      "7\n",
      "<__main__.tarefa object at 0x0000020A1C67E400>\n"
     ]
    }
   ],
   "source": [
    "\n",
    "lista = [tarefa(\"T1\",1,2),tarefa(\"t2\",1,5),tarefa(\"t3\",1,7)]\n",
    "lista.sort(key= lambda x: x.fim)\n",
    "for item in lista:\n",
    "    print(item.fim)\n",
    "solucao = []\n",
    "solucao.append(lista[0])\n",
    "pos = 0\n",
    "for i in range(1,len(lista),+1):\n",
    "    if lista[i].inicio >= lista[pos].fim:\n",
    "        solucao.append(lista[i])\n",
    "        pos = i\n",
    "    \n",
    "print(item)"
   ]
  },
  {
   "cell_type": "markdown",
   "id": "655445b0",
   "metadata": {},
   "source": [
    "mochila"
   ]
  },
  {
   "cell_type": "code",
   "execution_count": null,
   "id": "87ca2baa",
   "metadata": {},
   "outputs": [],
   "source": [
    "class mochila:\n",
    "    def __init__(self,d,p,v,m):\n",
    "        self.descricao = d\n",
    "        self.peso = p\n",
    "        self.valor = v\n",
    "        self.media = p/v"
   ]
  },
  {
   "cell_type": "code",
   "execution_count": null,
   "id": "e1e6877f",
   "metadata": {},
   "outputs": [],
   "source": [
    "mi = input(\"quantos minerios voce tem ?\")\n",
    "for i in range(0,int(mi),+1):\n",
    "    lista = []\n",
    "    print(\"digite o minerio, peso e valor\")\n",
    "    lista.append(input)\n",
    "M = input(\"qual a capacidade da sua mochila ?\")"
   ]
  },
  {
   "cell_type": "markdown",
   "id": "392058ae",
   "metadata": {},
   "source": [
    "cedulas"
   ]
  },
  {
   "cell_type": "code",
   "execution_count": null,
   "id": "56b98fe8",
   "metadata": {},
   "outputs": [],
   "source": []
  }
 ],
 "metadata": {
  "kernelspec": {
   "display_name": "Python 3 (ipykernel)",
   "language": "python",
   "name": "python3"
  },
  "language_info": {
   "codemirror_mode": {
    "name": "ipython",
    "version": 3
   },
   "file_extension": ".py",
   "mimetype": "text/x-python",
   "name": "python",
   "nbconvert_exporter": "python",
   "pygments_lexer": "ipython3",
   "version": "3.9.7"
  }
 },
 "nbformat": 4,
 "nbformat_minor": 5
}
