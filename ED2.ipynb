{
 "cells": [
  {
   "cell_type": "code",
   "execution_count": 114,
   "id": "d54522d8",
   "metadata": {},
   "outputs": [
    {
     "data": {
      "text/html": [
       "<style>.container { width:100% !important; }</style>"
      ],
      "text/plain": [
       "<IPython.core.display.HTML object>"
      ]
     },
     "metadata": {},
     "output_type": "display_data"
    }
   ],
   "source": [
    "from IPython.display import display, HTML\n",
    "display(HTML(\"<style>.container { width:100% !important; }</style>\"))"
   ]
  },
  {
   "cell_type": "code",
   "execution_count": 115,
   "id": "8b003e19",
   "metadata": {},
   "outputs": [],
   "source": [
    "class Vertice:\n",
    "    \n",
    "    def __init__(self, valor, direcionado=True):\n",
    "        self.__valor = valor\n",
    "        self.__direcionado = direcionado\n",
    "        self.__arestas = set()\n",
    "    \n",
    "    def getValor(self):\n",
    "        return self.__valor\n",
    "    \n",
    "    def setValor(self, valor):\n",
    "        self.__valor = valor\n",
    "        \n",
    "    def getArestas(self):\n",
    "        return self.__arestas\n",
    "    \n",
    "    def adicionarAresta(self, aresta):\n",
    "        self.__arestas.add(aresta)\n",
    "        \n",
    "    def getArestasSaida(self):\n",
    "        if self.__direcionado == False:\n",
    "            return self.__arestas\n",
    "        arestasDeSaida = []\n",
    "        for aresta in self.__arestas:\n",
    "            if aresta.getvOrigem() == self:\n",
    "                arestasDeSaida.append(aresta)\n",
    "        return arestasDeSaida\n",
    "    \n",
    "    def getArestasEntrada(self):\n",
    "        if self.__direcionado == False:\n",
    "            return self.__arestas\n",
    "        arestasSaida = []\n",
    "        for aresta in self.__arestas:\n",
    "            if aresta.getvDestino() == self:\n",
    "                arestasSaida.append(aresta)\n",
    "        return arestasSaida\n",
    "    \n",
    "    def getGrau(self):\n",
    "        return len(self.getArestasSaida())+ len(self.getArestasEntrada())\n",
    "    \n",
    "    def getAdjacentes(self, v):\n",
    "        listaVerticesAdjacentes = []\n",
    "        for arestas_de_saida in v.getArestasSaida():\n",
    "            listaVerticesAdjacentes.append(arestas_de_saida.getvDestino())\n",
    "        return listaVerticesAdjacentes"
   ]
  },
  {
   "cell_type": "code",
   "execution_count": 116,
   "id": "5c3677e7",
   "metadata": {},
   "outputs": [],
   "source": [
    "class Aresta:\n",
    "    def __init__(self, vOrigem, vDestino, peso, direcionada=True):\n",
    "        self.__vOrigem = vOrigem\n",
    "        self.__vDestino = vDestino\n",
    "        self.__peso = peso\n",
    "        self.__direcionada = direcionada\n",
    "        self.__vOrigem.adicionarAresta(self)\n",
    "        self.__vDestino.adicionarAresta(self)\n",
    "        \n",
    "    def getvOrigem(self):\n",
    "        return self.__vOrigem\n",
    "    def getvDestino(self):\n",
    "        return self.__vDestino\n",
    "    def getValor(self):\n",
    "        return self.__peso"
   ]
  },
  {
   "cell_type": "code",
   "execution_count": 117,
   "id": "d3d8fa70",
   "metadata": {},
   "outputs": [],
   "source": [
    "from collections import deque\n",
    "\n",
    "class Grafo:\n",
    "    def __init__(self, direcionado=True):\n",
    "        self.__vertices = set()\n",
    "        self.__arestas  = set()\n",
    "        self.__direcionado = direcionado\n",
    "        \n",
    "    def setVertices(self, vertices):\n",
    "        self.__vertices = vertices\n",
    "        \n",
    "    def setArestas(self, arestas):\n",
    "        self.__arestas = arestas\n",
    "        \n",
    "    def getVertices(self):\n",
    "        return self.__vertices\n",
    "    \n",
    "    def getVerticeByValor(self, valor):\n",
    "        for v in self.__vertices:\n",
    "            if v.getValor() == valor:\n",
    "                return v\n",
    "        return None\n",
    "    \n",
    "    def getArestas(self):\n",
    "        return self.__arestas\n",
    "    \n",
    "    def checkHandShakingLemma(self):\n",
    "        somaGraus = 0\n",
    "        for v in self.getVertices():\n",
    "            somaGraus+= v.getGrau()\n",
    "        if somaGraus == len(self.getArestas())*2:\n",
    "            return True\n",
    "        else:\n",
    "            return False\n",
    "        \n",
    "    def dfs(self, graph, v, visitados=[]):\n",
    "        if v not in visitados: # se v nao foi visitado\n",
    "            visitados.append(v) # marca vertice como visitado\n",
    "        if len(v.getAdjacentes(v)) == 0: # vertice escolhido nao tem adjacentes\n",
    "            self.dfs(graph, next(iter(graph.getVertices())), visitados) #chamada recursiva pegando o proximo vertice do set\n",
    "        else: # vertice escolhido tem adjacentes\n",
    "            for adjacente in v.getAdjacentes(v): #percorre todos os adjacentes a ele\n",
    "                if adjacente not in visitados: # se um dos adjacentes nao foi visitado\n",
    "                    self.dfs(graph, adjacente, visitados) #chamada recursiva para cada adjacente\n",
    "        return visitados\n",
    "    \n",
    "    def bfs(self, v, visitados = [], fila = deque([])):\n",
    "        fila.append(v)  # adiciona o vertice v a fila\n",
    "        if v not in visitados:  # se vertice v nao esta em visitados\n",
    "            visitados.append(v)  # adiciona vertice v a visitados\n",
    "        while fila:  # enquanto houver vertices na fila\n",
    "            vertice = fila.popleft()  # tira vertice ja visitado da fila\n",
    "            if len(vertice.getArestasSaida()) == 0: # vertice escolhido nao tem adjacentes\n",
    "                self.bfs(next(iter(self.getVertices())), visitados, fila) # chamada recursiva pegando o proximo vertice do set   \n",
    "            else:\n",
    "                for adjacente in vertice.getAdjacentes(v): # percorre todos os adjacentes a ele\n",
    "                    if adjacente not in visitados: # se um dos adjacentes nao foi visitado\n",
    "                        visitados.append(adjacente)  # insere o adjacente em visitados\n",
    "                        self.bfs(adjacente, visitados, fila) # chamada recursiva pegando o proximo vertice do set\n",
    "        return visitados  # retorna a lista de visitados  \n",
    "    \n",
    "    def buscarPorValor(self, valor):\n",
    "        for v in self.bfs(next(iter(self.getVertices())), visitados = [], fila = deque([])):\n",
    "            if valor == v.getValor():\n",
    "                return valor\n",
    "        return None\n",
    "    \n",
    "    def Euler(self):\n",
    "        impar = 0\n",
    "        for vertice in self.getVertices():\n",
    "            if vertice.getGrau() % 2 != 0:\n",
    "                impar += 1\n",
    "            if impar == 0 or impar == 2:\n",
    "                return True\n",
    "            else:\n",
    "                return False\n",
    "        \n",
    "    def inserirVertice(self, valor):\n",
    "        if self.buscarPorValor(valor) != valor:# valor nao esta no grafo\n",
    "            self.__vertices.add(Vertice(valor))\n",
    "            return True\n",
    "        return False\n",
    "    \n",
    "    def adicionarAresta(self, origem, destino, peso = 1, direcionada = True):\n",
    "        try:\n",
    "            verticeOrigem = self.getVerticeByValor(origem)\n",
    "            verticeDestino = self.getVerticeByValor(destino)\n",
    "            if (verticeOrigem or verticeDestino) is None:  # existem os vertices de origem e destino?\n",
    "                print(\"Nao ha no grafo, vertices de origem ou de destino com os valores informados.\")\n",
    "            self.__arestas.add(Aresta(verticeOrigem, verticeDestino, peso, direcionada))\n",
    "        except AttributeError as error:\n",
    "            print(\"Nao ha no grafo, vertices de origem ou de destino com os valores informados.\")\n",
    "        \n",
    "                    \n",
    "    def removerAresta(self, peso, origem, destino):\n",
    "        verticeOrigem = self.getVerticeByValor(origem)  \n",
    "        verticeDestino = self.getVerticeByValor(destino) \n",
    "        if (verticeOrigem or verticeDestino) is not None:\n",
    "            lista_de_arestas_para_remover = list()\n",
    "            for aresta in self.getArestas():\n",
    "                if aresta.getvOrigem() == verticeOrigem and aresta.getvDestino() == verticeDestino and aresta.getValor() == peso:\n",
    "                    lista_de_arestas_para_remover.append(a)\n",
    "            [self.getArestas().remove(a) for a in lista_de_arestas_para_remover]\n",
    "            return True \n",
    "        return False \n",
    "    \n",
    "    \n",
    "    def removerVertice(self, valor):\n",
    "        vertice = self.getVerticeByValor(valor)\n",
    "        arestas = []\n",
    "        if vertice in self.__vertices:\n",
    "            for a in self.getArestas():\n",
    "                if a.getvOrigem() == vertice or a.getvDestino() == vertice:\n",
    "                    arestas.append(a)\n",
    "            for a in arestas:\n",
    "                self.__arestas.remove(a)\n",
    "            self.__vertices.remove(vertice)\n",
    "            return True\n",
    "        return False\n",
    "    \n"
   ]
  },
  {
   "cell_type": "code",
   "execution_count": 67,
   "id": "91b986a7",
   "metadata": {},
   "outputs": [],
   "source": [
    "v1 = Vertice(1)\n",
    "v2 = Vertice(2)\n",
    "v3 = Vertice(3)\n",
    "v4 = Vertice(4)\n",
    "v5 = Vertice(5)\n",
    "a1 = Aresta( v1, v2, 10, True )\n",
    "a2 = Aresta( v2, v3, 20, True )\n",
    "a3 = Aresta( v3, v4, 30, True )\n",
    "a4 = Aresta( v4, v1, 40, True )\n",
    "a5 = Aresta( v4, v5, 50, True )"
   ]
  },
  {
   "cell_type": "code",
   "execution_count": 68,
   "id": "ce259c26",
   "metadata": {},
   "outputs": [],
   "source": [
    "G = Grafo()\n",
    "G.setVertices({v1, v2, v3, v4, v5})\n",
    "G.setArestas({a1, a2, a3, a4, a5})"
   ]
  },
  {
   "cell_type": "code",
   "execution_count": 69,
   "id": "1c2d3a62",
   "metadata": {},
   "outputs": [
    {
     "name": "stdout",
     "output_type": "stream",
     "text": [
      "4\t3\t2\t5\t1\t"
     ]
    }
   ],
   "source": [
    "for v in G.getVertices():\n",
    "    print(v.getValor(), end=\"\\t\")"
   ]
  },
  {
   "cell_type": "code",
   "execution_count": 70,
   "id": "998d9e0f",
   "metadata": {},
   "outputs": [
    {
     "data": {
      "text/plain": [
       "True"
      ]
     },
     "execution_count": 70,
     "metadata": {},
     "output_type": "execute_result"
    }
   ],
   "source": [
    "G.removerAresta(1, 2, 4)"
   ]
  },
  {
   "cell_type": "code",
   "execution_count": 71,
   "id": "fa8ec0bf",
   "metadata": {},
   "outputs": [
    {
     "data": {
      "text/plain": [
       "True"
      ]
     },
     "execution_count": 71,
     "metadata": {},
     "output_type": "execute_result"
    }
   ],
   "source": [
    "G.removerVertice(5)"
   ]
  },
  {
   "cell_type": "code",
   "execution_count": 72,
   "id": "28e99364",
   "metadata": {},
   "outputs": [
    {
     "name": "stdout",
     "output_type": "stream",
     "text": [
      "4 ---> 1\t2 ---> 3\t3 ---> 4\t1 ---> 2\t"
     ]
    }
   ],
   "source": [
    "for a in G.getArestas():\n",
    "    print(a.getvOrigem().getValor(), end=\"\")\n",
    "    print(\" ---> \", end=\"\")\n",
    "    print(a.getvDestino().getValor(), end=\"\\t\")"
   ]
  },
  {
   "cell_type": "code",
   "execution_count": 73,
   "id": "6fd4c082",
   "metadata": {},
   "outputs": [
    {
     "data": {
      "text/plain": [
       "2"
      ]
     },
     "execution_count": 73,
     "metadata": {},
     "output_type": "execute_result"
    }
   ],
   "source": [
    "v1.getGrau()"
   ]
  },
  {
   "cell_type": "code",
   "execution_count": 74,
   "id": "cbfb2a5b",
   "metadata": {},
   "outputs": [
    {
     "data": {
      "text/plain": [
       "False"
      ]
     },
     "execution_count": 74,
     "metadata": {},
     "output_type": "execute_result"
    }
   ],
   "source": [
    "G.checkHandShakingLemma()"
   ]
  },
  {
   "cell_type": "code",
   "execution_count": 75,
   "id": "44588652",
   "metadata": {},
   "outputs": [
    {
     "name": "stdout",
     "output_type": "stream",
     "text": [
      "Nao ha no grafo, vertices de origem ou de destino com os valores informados.\n",
      "Nao ha no grafo, vertices de origem ou de destino com os valores informados.\n"
     ]
    }
   ],
   "source": [
    "G.inserirVertice(20)\n",
    "G.adicionarAresta(5, 15, 10, True) "
   ]
  },
  {
   "cell_type": "code",
   "execution_count": 76,
   "id": "1de74052",
   "metadata": {},
   "outputs": [
    {
     "name": "stdout",
     "output_type": "stream",
     "text": [
      "Busca em profundidade, iniciando com o vértice 3:\n",
      "3\t4\t5\t6\t1\t2\t\n",
      ".................................................\n",
      "Busca em profundidade, iniciando com o vértice 1:\n",
      "1\t2\t3\t4\t5\t6\t\n",
      ".................................................\n",
      "Busca em profundidade, iniciando com o vértice 6:\n",
      "6\t3\t4\t5\t1\t2\t\n",
      ".................................................\n",
      "Busca em profundidade, iniciando com o vértice 2:\n",
      "2\t3\t4\t5\t6\t1\t\n",
      ".................................................\n",
      "Busca em profundidade, iniciando com o vértice 5:\n",
      "5\t3\t4\t6\t1\t2\t\n",
      ".................................................\n",
      "Busca em profundidade, iniciando com o vértice 4:\n",
      "4\t5\t3\t6\t1\t2\t\n",
      ".................................................\n"
     ]
    }
   ],
   "source": [
    "v1 = Vertice(1)\n",
    "v2 = Vertice(2)\n",
    "v3 = Vertice(3)\n",
    "v4 = Vertice(4)\n",
    "v5 = Vertice(5)\n",
    "v6 = Vertice(6)\n",
    "a1 = Aresta( v1, v2, 10, True )\n",
    "a2 = Aresta( v2, v3, 20, True )\n",
    "a3 = Aresta( v3, v4, 30, True )\n",
    "a4 = Aresta( v4, v1, 40, True )\n",
    "a5 = Aresta( v4, v5, 50, True ) \n",
    "a6 = Aresta( v4, v6, 60, True ) \n",
    "G = Grafo()\n",
    "G.setVertices({v1, v2, v3, v4, v5,v6})\n",
    "G.setArestas({a1, a2, a3, a4, a5, a6})\n",
    "for vertice in G.getVertices():\n",
    "    print(f\"Busca em profundidade, iniciando com o vértice {vertice.getValor()}:\")\n",
    "    for v in G.dfs(G, vertice, visitados=[]):\n",
    "        print(str(v.getValor())+\"\\t\", end=\"\")\n",
    "    print(\"\\n.................................................\")  "
   ]
  },
  {
   "cell_type": "code",
   "execution_count": 77,
   "id": "447cd7a7",
   "metadata": {},
   "outputs": [
    {
     "name": "stdout",
     "output_type": "stream",
     "text": [
      "Busca em largura, iniciando com o vértice 2:\n",
      "2\t3\t4\t6\t5\t1\t\n",
      "............................................\n",
      "Busca em largura, iniciando com o vértice 1:\n",
      "1\t2\t3\t4\t6\t5\t\n",
      "............................................\n",
      "Busca em largura, iniciando com o vértice 3:\n",
      "3\t4\t6\t2\t5\t1\t\n",
      "............................................\n",
      "Busca em largura, iniciando com o vértice 6:\n",
      "6\t2\t3\t4\t5\t1\t\n",
      "............................................\n",
      "Busca em largura, iniciando com o vértice 4:\n",
      "4\t6\t2\t3\t5\t1\t\n",
      "............................................\n",
      "Busca em largura, iniciando com o vértice 5:\n",
      "5\t2\t3\t4\t6\t1\t\n",
      "............................................\n"
     ]
    }
   ],
   "source": [
    "v1 = Vertice(1)\n",
    "v2 = Vertice(2)\n",
    "v3 = Vertice(3)\n",
    "v4 = Vertice(4)\n",
    "v5 = Vertice(5)\n",
    "v6 = Vertice(6)\n",
    "a1 = Aresta( v1, v2, 10, True )\n",
    "a2 = Aresta( v2, v3, 20, True )\n",
    "a3 = Aresta( v3, v4, 30, True )\n",
    "a4 = Aresta( v4, v1, 40, True )\n",
    "a5 = Aresta( v4, v5, 50, True ) \n",
    "a6 = Aresta( v4, v6, 60, True ) \n",
    "G = Grafo()\n",
    "G.setVertices({v1, v2, v3, v4, v5,v6})\n",
    "G.setArestas({a1, a2, a3, a4, a5, a6})\n",
    "for vertice in G.getVertices():\n",
    "    print(f\"Busca em largura, iniciando com o vértice {vertice.getValor()}:\")\n",
    "    for v in  G.bfs(vertice, visitados = [], fila = deque([])):\n",
    "        print(str(v.getValor())+\"\\t\", end=\"\")\n",
    "    print(\"\\n............................................\")   "
   ]
  },
  {
   "cell_type": "code",
   "execution_count": 78,
   "id": "4e2ccf9d",
   "metadata": {},
   "outputs": [
    {
     "name": "stdout",
     "output_type": "stream",
     "text": [
      "Valor procurado: 3\n",
      "3 encontrado no grafo\n"
     ]
    }
   ],
   "source": [
    "valor = int(input(\"Valor procurado: \"))\n",
    "if G.buscarPorValor(valor) == None:\n",
    "    print(f\"{valor} não encontrado no grafo\")\n",
    "else:\n",
    "    print(f\"{valor} encontrado no grafo\")"
   ]
  },
  {
   "cell_type": "code",
   "execution_count": 79,
   "id": "eabe6cad",
   "metadata": {},
   "outputs": [
    {
     "data": {
      "text/plain": [
       "True"
      ]
     },
     "execution_count": 79,
     "metadata": {},
     "output_type": "execute_result"
    }
   ],
   "source": [
    "G.Euler()"
   ]
  },
  {
   "cell_type": "code",
   "execution_count": null,
   "id": "0a5e2c9a",
   "metadata": {},
   "outputs": [],
   "source": [
    "class Graph:\n",
    "\n",
    "    def __init__(self, vertices):\n",
    "        self.V = vertices \n",
    "        self.graph = []\n",
    "\n",
    "    def addEdge(self, u, v, w):\n",
    "        self.graph.append([u, v, w])\n",
    "\n",
    "    def printArr(self, dist):\n",
    "        print(\"Distancia dos vertices\")\n",
    "        for i in range(self.V):\n",
    "            print(\"{0}\\t{1}\".format(i, dist[i]))\n",
    "        \n",
    "\n",
    "    def BellmanFord(self, src):\n",
    "\n",
    "\n",
    "        dist = [float(\"Inf\")] * self.V\n",
    "        dist[src] = 0\n",
    "\n",
    "        for _ in range(self.V - 1):\n",
    "            for u, v, w in self.graph:\n",
    "                if dist[u] != float(\"Inf\") and dist[u] + w < dist[v]:\n",
    "                        dist[v] = dist[u] + w\n",
    "\n",
    "        for u, v, w in self.graph:\n",
    "                if dist[u] != float(\"Inf\") and dist[u] + w < dist[v]:\n",
    "                        print(\"Grafo contém peso negativo\")\n",
    "                        return\n",
    "\n",
    "        self.printArr(dist)\n",
    "\n",
    "g = Graph(5)\n",
    "g.addEdge(0, 1, -1)\n",
    "g.addEdge(0, 2, 4)\n",
    "g.addEdge(1, 2, 3)\n",
    "g.addEdge(1, 3, 2)\n",
    "g.addEdge(1, 4, 2)\n",
    "g.addEdge(3, 2, 5)\n",
    "g.addEdge(3, 1, 1)\n",
    "g.addEdge(4, 3, -3)\n",
    "\n",
    "g.BellmanFord(0)"
   ]
  },
  {
   "cell_type": "code",
   "execution_count": null,
   "id": "2ede29a4",
   "metadata": {},
   "outputs": [],
   "source": [
    "class Graph():\n",
    "\n",
    "    def __init__(self, vertices):\n",
    "        self.V = vertices\n",
    "        self.graph = [[0 for column in range(vertices)]\n",
    "                    for row in range(vertices)]\n",
    "\n",
    "    def solucao(self, dist):\n",
    "        print(\"Vertices Distancia\")\n",
    "        for node in range(self.V):\n",
    "            print(node, \"\\t\", dist[node])\n",
    "            \n",
    "            \n",
    "\n",
    "\n",
    "    def minDistancia(self, dist, sptSet):\n",
    "\n",
    "        min = 1e7\n",
    "\n",
    "\n",
    "        for v in range(self.V):\n",
    "            if dist[v] < min and sptSet[v] == False:\n",
    "                min = dist[v]\n",
    "                min_index = v\n",
    "\n",
    "        return min_index\n",
    "\n",
    "\n",
    "    def dijkstra(self, src):\n",
    "\n",
    "        dist = [1e7] * self.V\n",
    "        dist[src] = 0\n",
    "        sptSet = [False] * self.V\n",
    "\n",
    "        for cout in range(self.V):\n",
    "\n",
    "\n",
    "            u = self.minDistancia(dist, sptSet)\n",
    "\n",
    "            \n",
    "            sptSet[u] = True\n",
    "\n",
    "\n",
    "            for v in range(self.V):\n",
    "                if (self.graph[u][v] > 0 and\n",
    "                sptSet[v] == False and\n",
    "                dist[v] > dist[u] + self.graph[u][v]):\n",
    "                    dist[v] = dist[u] + self.graph[u][v]\n",
    "\n",
    "        self.solucao(dist)\n",
    "\n",
    "g = Graph(9)\n",
    "g.graph = [[0, 4, 0, 0, 0, 0, 0, 8, 0],\n",
    "        [4, 0, 8, 0, 0, 0, 0, 11, 0],\n",
    "        [0, 8, 0, 7, 0, 4, 0, 0, 2],\n",
    "        [0, 0, 7, 0, 9, 14, 0, 0, 0],\n",
    "        [0, 0, 0, 9, 0, 10, 0, 0, 0],\n",
    "        [0, 0, 4, 14, 10, 0, 2, 0, 0],\n",
    "        [0, 0, 0, 0, 0, 2, 0, 1, 6],\n",
    "        [8, 11, 0, 0, 0, 0, 1, 0, 7],\n",
    "        [0, 0, 2, 0, 0, 0, 6, 7, 0]\n",
    "        ]\n",
    "\n",
    "g.dijkstra(0)"
   ]
  }
 ],
 "metadata": {
  "kernelspec": {
   "display_name": "Python 3 (ipykernel)",
   "language": "python",
   "name": "python3"
  },
  "language_info": {
   "codemirror_mode": {
    "name": "ipython",
    "version": 3
   },
   "file_extension": ".py",
   "mimetype": "text/x-python",
   "name": "python",
   "nbconvert_exporter": "python",
   "pygments_lexer": "ipython3",
   "version": "3.9.12"
  }
 },
 "nbformat": 4,
 "nbformat_minor": 5
}
