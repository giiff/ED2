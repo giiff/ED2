{
 "cells": [
  {
   "cell_type": "code",
   "execution_count": 122,
   "id": "d54522d8",
   "metadata": {},
   "outputs": [
    {
     "data": {
      "text/html": [
       "<style>.container { width:100% !important; }</style>"
      ],
      "text/plain": [
       "<IPython.core.display.HTML object>"
      ]
     },
     "metadata": {},
     "output_type": "display_data"
    }
   ],
   "source": [
    "from IPython.display import display, HTML\n",
    "display(HTML(\"<style>.container { width:100% !important; }</style>\"))"
   ]
  },
  {
   "cell_type": "code",
   "execution_count": 123,
   "id": "8b003e19",
   "metadata": {},
   "outputs": [],
   "source": [
    "class Vertice:\n",
    "    \n",
    "    def __init__(self, dado, direcionado=True):\n",
    "        self.__dado = dado\n",
    "        self.__direcionado = direcionado\n",
    "        self.__arestas = set()\n",
    "    \n",
    "    def getDado(self):\n",
    "        return self.__dado\n",
    "    \n",
    "    def setDado(self, dado):\n",
    "        self.__dado = dado\n",
    "        \n",
    "    def getArestas(self):\n",
    "        return self.__arestas\n",
    "    \n",
    "    def adicionarAresta(self, aresta):\n",
    "        self.__arestas.add(aresta)\n",
    "        \n",
    "    def getArestasSaida(self):\n",
    "        if self.__direcionado == False:\n",
    "            return self.__arestas\n",
    "        arestasDeSaida = []\n",
    "        for aresta in self.__arestas:\n",
    "            if aresta.getvOrigem() == self:\n",
    "                arestasDeSaida.append(aresta)\n",
    "        return arestasDeSaida\n",
    "    \n",
    "    def getArestasEntrada(self):\n",
    "        if self.__direcionado == False:\n",
    "            return self.__arestas\n",
    "        arestasSaida = []\n",
    "        for aresta in self.__arestas:\n",
    "            if aresta.getvDestino() == self:\n",
    "                arestasSaida.append(aresta)\n",
    "        return arestasSaida\n",
    "    \n",
    "    def getGrau(self):\n",
    "        return len(self.getArestasEntrada()+self.getArestasSaida())\n",
    "\n",
    "    def getGrauEntrada(self):\n",
    "        return len(self.getArestasEntrada())  \n",
    "\n",
    "    def getGrauSaida(self):\n",
    "        return len(self.getArestasSaida())    "
   ]
  },
  {
   "cell_type": "code",
   "execution_count": 124,
   "id": "5c3677e7",
   "metadata": {},
   "outputs": [],
   "source": [
    "class Aresta:\n",
    "    def __init__(self, vOrigem, vDestino, valor, direcionada=True):\n",
    "        self.__vOrigem = vOrigem\n",
    "        self.__vDestino = vDestino\n",
    "        self.__valor = valor\n",
    "        self.__direcionada = direcionada\n",
    "        self.__vOrigem.adicionarAresta(self)\n",
    "        self.__vDestino.adicionarAresta(self)\n",
    "        \n",
    "    def getvOrigem(self):\n",
    "        return self.__vOrigem\n",
    "    def getvDestino(self):\n",
    "        return self.__vDestino\n",
    "    def getValor(self):\n",
    "        return self.__valor"
   ]
  },
  {
   "cell_type": "code",
   "execution_count": 125,
   "id": "d3d8fa70",
   "metadata": {},
   "outputs": [],
   "source": [
    "class Grafo:\n",
    "    def __init__(self, direcionado=True):\n",
    "        self.__vertices = set()\n",
    "        self.__arestas  = set()\n",
    "        self.__direcionado = direcionado\n",
    "        \n",
    "    def setVertices(self, vertices):\n",
    "        self.__vertices = vertices\n",
    "        \n",
    "    def setArestas(self, arestas):\n",
    "        self.__arestas = arestas\n",
    "        \n",
    "    def getVertices(self):\n",
    "        return self.__vertices\n",
    "    \n",
    "    def getArestas(self):\n",
    "        return self.__arestas\n",
    "    \n",
    "    def getVertice(self, dado):\n",
    "        for v in self.__vertices:\n",
    "            if v.getDado() == dado:\n",
    "                return v\n",
    "        return None\n",
    "    \n",
    "    def HandShakingLemma(self):\n",
    "        return sum(v.getGrau() for v in self.getVertices()) == 2*len(self.getArestas())\n",
    "\n",
    "    def isGerador(self, original):\n",
    "        contemVertices = set(self.getVertices()).issubset(original.getVertices())\n",
    "        contemArestas = set(self.getArestas()).issubset(original.getArestas())\n",
    "        return True if (contemVertices & contemArestas) else False"
   ]
  },
  {
   "cell_type": "code",
   "execution_count": 126,
   "id": "91b986a7",
   "metadata": {},
   "outputs": [],
   "source": [
    "v1 = Vertice(1)\n",
    "v2 = Vertice(2)\n",
    "v3 = Vertice(3)\n",
    "v4 = Vertice(4)\n",
    "a1 = Aresta( v1, v2, 10, True )\n",
    "a2 = Aresta( v2, v3, 20, True )\n",
    "a3 = Aresta( v3, v4, 30, True )\n",
    "a4 = Aresta( v4, v1, 40, True )\n",
    "a5 = Aresta( v1, v3, 40, True )"
   ]
  },
  {
   "cell_type": "code",
   "execution_count": 127,
   "id": "2db17f8a",
   "metadata": {},
   "outputs": [],
   "source": [
    "G = Grafo()\n",
    "G.setVertices({v1, v2, v3, v4})\n",
    "G.setArestas({a1, a2, a3, a4, a5})"
   ]
  },
  {
   "cell_type": "code",
   "execution_count": 128,
   "id": "28e99364",
   "metadata": {},
   "outputs": [
    {
     "name": "stdout",
     "output_type": "stream",
     "text": [
      "1 ---> 2\n",
      "2 ---> 3\n",
      "4 ---> 1\n",
      "3 ---> 4\n",
      "1 ---> 3\n"
     ]
    }
   ],
   "source": [
    "for a in G.getArestas():\n",
    "    print(a.getvOrigem().getDado(), end = \"\")\n",
    "    print(\" ---> \", end = \"\")\n",
    "    print(a.getvDestino().getDado())"
   ]
  },
  {
   "cell_type": "code",
   "execution_count": 129,
   "id": "ccb4eb25",
   "metadata": {},
   "outputs": [
    {
     "name": "stdout",
     "output_type": "stream",
     "text": [
      "2\n"
     ]
    }
   ],
   "source": [
    "print(G.getVertice(3).getGrauEntrada())"
   ]
  },
  {
   "cell_type": "code",
   "execution_count": 130,
   "id": "1c2d3a62",
   "metadata": {},
   "outputs": [
    {
     "data": {
      "text/plain": [
       "True"
      ]
     },
     "execution_count": 130,
     "metadata": {},
     "output_type": "execute_result"
    }
   ],
   "source": [
    "G.HandShakingLemma()"
   ]
  },
  {
   "cell_type": "code",
   "execution_count": 131,
   "id": "4f57b7c1",
   "metadata": {},
   "outputs": [
    {
     "name": "stdout",
     "output_type": "stream",
     "text": [
      "1 ---> 2\n"
     ]
    }
   ],
   "source": [
    "v1 = Vertice(1)\n",
    "v2 = Vertice(2)\n",
    "\n",
    "a1 = Aresta(v1, v2, 10, True)\n",
    "\n",
    "GrafoOriginal = Grafo()\n",
    "GrafoOriginal.setVertices( { v1, v2 } )\n",
    "GrafoOriginal.setArestas( { a1 } )\n",
    "\n",
    "for a in GrafoOriginal.getArestas():\n",
    "    print(a.getvOrigem().getDado(), end = \"\")\n",
    "    print(\" ---> \", end = \"\")\n",
    "    print(a.getvDestino().getDado())"
   ]
  },
  {
   "cell_type": "code",
   "execution_count": 132,
   "id": "ae84f9f3",
   "metadata": {},
   "outputs": [
    {
     "name": "stdout",
     "output_type": "stream",
     "text": [
      "1\n"
     ]
    }
   ],
   "source": [
    "GrafoGerador = Grafo()\n",
    "GrafoGerador.setVertices( { v1 } )\n",
    "\n",
    "for v in GrafoGerador.getVertices():\n",
    "    print(v.getDado())"
   ]
  },
  {
   "cell_type": "code",
   "execution_count": 133,
   "id": "41afa44f",
   "metadata": {},
   "outputs": [
    {
     "data": {
      "text/plain": [
       "True"
      ]
     },
     "execution_count": 133,
     "metadata": {},
     "output_type": "execute_result"
    }
   ],
   "source": [
    "GrafoGerador.isGerador(GrafoOriginal)"
   ]
  },
  {
   "cell_type": "code",
   "execution_count": 134,
   "id": "d04b6124",
   "metadata": {},
   "outputs": [
    {
     "data": {
      "text/plain": [
       "False"
      ]
     },
     "execution_count": 134,
     "metadata": {},
     "output_type": "execute_result"
    }
   ],
   "source": [
    "GrafoOriginal.isGerador(GrafoGerador)"
   ]
  }
 ],
 "metadata": {
  "kernelspec": {
   "display_name": "Python 3 (ipykernel)",
   "language": "python",
   "name": "python3"
  },
  "language_info": {
   "codemirror_mode": {
    "name": "ipython",
    "version": 3
   },
   "file_extension": ".py",
   "mimetype": "text/x-python",
   "name": "python",
   "nbconvert_exporter": "python",
   "pygments_lexer": "ipython3",
   "version": "3.10.4"
  }
 },
 "nbformat": 4,
 "nbformat_minor": 5
}
