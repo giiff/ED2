{
 "cells": [
  {
   "cell_type": "code",
   "execution_count": 45,
   "id": "d54522d8",
   "metadata": {},
   "outputs": [
    {
     "data": {
      "text/html": [
       "<style>.container { width:100% !important; }</style>"
      ],
      "text/plain": [
       "<IPython.core.display.HTML object>"
      ]
     },
     "metadata": {},
     "output_type": "display_data"
    }
   ],
   "source": [
    "from IPython.display import display, HTML\n",
    "display(HTML(\"<style>.container { width:100% !important; }</style>\"))"
   ]
  },
  {
   "cell_type": "code",
   "execution_count": 46,
   "id": "8b003e19",
   "metadata": {},
   "outputs": [],
   "source": [
    "class Vertice:\n",
    "    \n",
    "    def __init__(self, valor, direcionado=True):\n",
    "        self.__valor = valor\n",
    "        self.__direcionado = direcionado\n",
    "        self.__arestas = set()\n",
    "    \n",
    "    def getValor(self):\n",
    "        return self.__valor\n",
    "    \n",
    "    def setValor(self, valor):\n",
    "        self.__valor = valor\n",
    "        \n",
    "    def getArestas(self):\n",
    "        return self.__arestas\n",
    "    \n",
    "    def adicionarAresta(self, aresta):\n",
    "        self.__arestas.add(aresta)\n",
    "        \n",
    "    def getArestasSaida(self):\n",
    "        if self.__direcionado == False:\n",
    "            return self.__arestas\n",
    "        arestasDeSaida = []\n",
    "        for aresta in self.__arestas:\n",
    "            if aresta.getvOrigem() == self:\n",
    "                arestasDeSaida.append(aresta)\n",
    "        return arestasDeSaida\n",
    "    \n",
    "    def getArestasEntrada(self):\n",
    "        if self.__direcionado == False:\n",
    "            return self.__arestas\n",
    "        arestasSaida = []\n",
    "        for aresta in self.__arestas:\n",
    "            if aresta.getvDestino() == self:\n",
    "                arestasSaida.append(aresta)\n",
    "        return arestasSaida\n",
    "    \n",
    "    def getGrau(self):\n",
    "        return len(self.getArestasSaida())+ len(self.getArestasEntrada())\n",
    "    \n",
    "    def getAdjacentes(self, v):\n",
    "        listaVerticesAdjacentes = []\n",
    "        for arestas_de_saida in v.getArestasSaida():\n",
    "            listaVerticesAdjacentes.append(arestas_de_saida.getvDestino())\n",
    "        return listaVerticesAdjacentes"
   ]
  },
  {
   "cell_type": "code",
   "execution_count": 47,
   "id": "5c3677e7",
   "metadata": {},
   "outputs": [],
   "source": [
    "class Aresta:\n",
    "    def __init__(self, vOrigem, vDestino, peso, direcionada=True):\n",
    "        self.__vOrigem = vOrigem\n",
    "        self.__vDestino = vDestino\n",
    "        self.__peso = peso\n",
    "        self.__direcionada = direcionada\n",
    "        self.__vOrigem.adicionarAresta(self)\n",
    "        self.__vDestino.adicionarAresta(self)\n",
    "        \n",
    "    def getvOrigem(self):\n",
    "        return self.__vOrigem\n",
    "    def getvDestino(self):\n",
    "        return self.__vDestino\n",
    "    def getValor(self):\n",
    "        return self.__peso"
   ]
  },
  {
   "cell_type": "code",
   "execution_count": 48,
   "id": "d3d8fa70",
   "metadata": {},
   "outputs": [],
   "source": [
    "from collections import deque\n",
    "class Grafo:\n",
    "    def __init__(self, direcionado=True):\n",
    "        self.__vertices = set()\n",
    "        self.__arestas  = set()\n",
    "        self.__direcionado = direcionado\n",
    "        \n",
    "    def setVertices(self, vertices):\n",
    "        self.__vertices = vertices\n",
    "        \n",
    "    def setArestas(self, arestas):\n",
    "        self.__arestas = arestas\n",
    "        \n",
    "    def getVertices(self):\n",
    "        return self.__vertices\n",
    "    \n",
    "    def getVerticeByValor(self, valor):\n",
    "        for v in self.__vertices:\n",
    "            if v.getValor() == valor:\n",
    "                return v\n",
    "        return None\n",
    "    \n",
    "    def getArestas(self):\n",
    "        return self.__arestas\n",
    "    \n",
    "    def checkHandShakingLemma(self):\n",
    "        somaGraus = 0\n",
    "        for v in self.getVertices():\n",
    "            somaGraus+= v.getGrau()\n",
    "        if somaGraus == len(self.getArestas())*2:\n",
    "            return True\n",
    "        else:\n",
    "            return False\n",
    "        \n",
    "    def dfs(self, graph, v, visitados=[]):\n",
    "        if v not in visitados: # se v nao foi visitado\n",
    "            visitados.append(v) # marca vertice como visitado\n",
    "        if len(v.getAdjacentes(v)) == 0: # vertice escolhido nao tem adjacentes\n",
    "            self.dfs(graph, next(iter(graph.getVertices())), visitados) # chamada recursiva pegando o proximo vertice do set\n",
    "        else: # vertice escolhido tem adjacentes\n",
    "            for adjacente in v.getAdjacentes(v): #percorre todos os adjacentes a ele\n",
    "                if adjacente not in visitados: # se um dos adjacentes nao foi visitado\n",
    "                    self.dfs(graph, adjacente, visitados) # chamada recursiva para cada adjacente\n",
    "        return visitados\n",
    "    \n",
    "    def bfs(self, v, visitados = [], fila = deque([])):\n",
    "        fila.append(v)  # adiciona o vertice v a fila\n",
    "        if v not in visitados:  # se vertice v nao esta em visitados\n",
    "            visitados.append(v)  # adiciona vertice v a visitados\n",
    "        while fila:  # enquanto houver vertices na fila\n",
    "            vertice = fila.popleft()  # tira vertice ja visitado da fila\n",
    "            if len(vertice.getArestasSaida()) == 0: # vertice escolhido nao tem adjacentes\n",
    "                self.bfs(next(iter(self.getVertices())), visitados, fila) # chamada recursiva pegando o proximo vertice do set   \n",
    "            else:\n",
    "                for adjacente in vertice.getAdjacentes(v): #percorre todos os adjacentes a ele\n",
    "                    if adjacente not in visitados: # se um dos adjacentes nao foi visitado\n",
    "                        visitados.append(adjacente)  # insere o adjacente em visitados\n",
    "                        self.bfs(adjacente, visitados, fila) # chamada recursiva pegando o proximo vertice do set\n",
    "        return visitados  # retorna a lista de visitados  \n",
    "    \n",
    "    def bfsByValue(self, value):\n",
    "        verticeInicial = next(iter(self.getVertices()))\n",
    "        vistadosValor = []\n",
    "        for vertice in self.bfs(verticeInicial):\n",
    "            vistadosValor.append(vertice.getValor())\n",
    "        if value in vistadosValor:\n",
    "            return True\n",
    "        return False\n",
    "    def ehEuler(self):\n",
    "        todosPar = True\n",
    "        grauImpar = []\n",
    "        for vertice in self.getVertices():\n",
    "            if vertice.getGrau() % 2 != 0:\n",
    "                todosPar = False\n",
    "                grauImpar.append(vertice)\n",
    "        return todosPar or len(grauImpar) == 2\n",
    "    \n",
    "    def inserirVertice(self, valor):\n",
    "        if(self.bfsByValue(valor)):\n",
    "            return False\n",
    "        self.__vertices.add(Vertice(valor))\n",
    "        return True\n",
    "    \n",
    "    def inserirAresta(self,origem, destino, peso):\n",
    "        vOrigem = self.bfsByValue(origem)\n",
    "        vDestino = self.bfsByValue(destino)\n",
    "        if vOrigem and vDestino:\n",
    "            self.__arestas.add(Aresta(self.getVerticeByValor(origem), self.getVerticeByValor(destino), peso))\n",
    "            return True\n",
    "        return False\n",
    "    \n",
    "    def removerAresta(self, peso, origem, destino):\n",
    "        vOrigem = self.getVerticeByValor(origem)\n",
    "        vDestino = self.getVerticeByValor(destino)\n",
    "        if (vDestino or vOrigem) != None:\n",
    "            for aresta in self.getArestas():\n",
    "                if aresta.getvOrigem() == vOrigem and aresta.getvDestino() and aresta.getValor() == peso:\n",
    "                    self.__arestas.remove(aresta)\n",
    "                    return True\n",
    "        return False\n",
    "    \n",
    "    def removerVertice(self, valor):\n",
    "        vertice = self.getVerticeByValor(valor)\n",
    "        arestasRemovidas = []\n",
    "        if vertice in self.__vertices:\n",
    "            for aresta in self.getArestas():\n",
    "                if aresta.getvOrigem() == vertice or aresta.getvDestino() == vertice:\n",
    "                    arestasRemovidas.append(aresta)\n",
    "            for aresta in arestasRemovidas:\n",
    "                self.__arestas.remove(aresta)\n",
    "            self.__vertices.remove(vertice)\n",
    "            return True\n",
    "        return False\n",
    "        \n",
    "        \n",
    "    \n",
    "    \n",
    "            \n",
    "        \n",
    "            "
   ]
  },
  {
   "cell_type": "code",
   "execution_count": 49,
   "id": "91b986a7",
   "metadata": {},
   "outputs": [],
   "source": [
    "v1 = Vertice(1)\n",
    "v2 = Vertice(2)\n",
    "v3 = Vertice(3)\n",
    "v4 = Vertice(4)\n",
    "v5 = Vertice(5)\n",
    "a1 = Aresta( v1, v2, 10, True )\n",
    "a2 = Aresta( v2, v3, 20, True )\n",
    "a3 = Aresta( v3, v4, 30, True )\n",
    "a4 = Aresta( v4, v1, 40, True )\n",
    "a5 = Aresta( v4, v5, 50, True )"
   ]
  },
  {
   "cell_type": "code",
   "execution_count": 50,
   "id": "ce259c26",
   "metadata": {},
   "outputs": [],
   "source": [
    "G = Grafo()\n",
    "G.setVertices({v1, v2, v3, v4, v5})\n",
    "G.setArestas({a1, a2, a3, a4, a5})"
   ]
  },
  {
   "cell_type": "code",
   "execution_count": 51,
   "id": "1c2d3a62",
   "metadata": {},
   "outputs": [
    {
     "name": "stdout",
     "output_type": "stream",
     "text": [
      "2\t1\t5\t3\t4\t"
     ]
    }
   ],
   "source": [
    "for v in G.getVertices():\n",
    "    print(v.getValor(), end=\"\\t\")"
   ]
  },
  {
   "cell_type": "code",
   "execution_count": 52,
   "id": "28e99364",
   "metadata": {},
   "outputs": [
    {
     "name": "stdout",
     "output_type": "stream",
     "text": [
      "4 ---> 1\t2 ---> 3\t4 ---> 5\t3 ---> 4\t1 ---> 2\t"
     ]
    }
   ],
   "source": [
    "for a in G.getArestas():\n",
    "    print(a.getvOrigem().getValor(), end=\"\")\n",
    "    print(\" ---> \", end=\"\")\n",
    "    print(a.getvDestino().getValor(), end=\"\\t\")"
   ]
  },
  {
   "cell_type": "code",
   "execution_count": 53,
   "id": "6fd4c082",
   "metadata": {},
   "outputs": [
    {
     "data": {
      "text/plain": [
       "2"
      ]
     },
     "execution_count": 53,
     "metadata": {},
     "output_type": "execute_result"
    }
   ],
   "source": [
    "v1.getGrau()"
   ]
  },
  {
   "cell_type": "code",
   "execution_count": 54,
   "id": "cbfb2a5b",
   "metadata": {},
   "outputs": [
    {
     "data": {
      "text/plain": [
       "True"
      ]
     },
     "execution_count": 54,
     "metadata": {},
     "output_type": "execute_result"
    }
   ],
   "source": [
    "G.checkHandShakingLemma()"
   ]
  },
  {
   "cell_type": "markdown",
   "id": "f6297d84",
   "metadata": {},
   "source": [
    "#### Testando busca em profundidade"
   ]
  },
  {
   "cell_type": "code",
   "execution_count": 55,
   "id": "1de74052",
   "metadata": {},
   "outputs": [
    {
     "name": "stdout",
     "output_type": "stream",
     "text": [
      "Busca em profundidade, iniciando com o vértice 3:\n",
      "3\t4\t1\t2\t6\t5\t\n",
      ".................................................\n",
      "Busca em profundidade, iniciando com o vértice 5:\n",
      "5\t3\t4\t1\t2\t6\t\n",
      ".................................................\n",
      "Busca em profundidade, iniciando com o vértice 6:\n",
      "6\t3\t4\t1\t2\t5\t\n",
      ".................................................\n",
      "Busca em profundidade, iniciando com o vértice 4:\n",
      "4\t1\t2\t3\t6\t5\t\n",
      ".................................................\n",
      "Busca em profundidade, iniciando com o vértice 1:\n",
      "1\t2\t3\t4\t6\t5\t\n",
      ".................................................\n",
      "Busca em profundidade, iniciando com o vértice 2:\n",
      "2\t3\t4\t1\t6\t5\t\n",
      ".................................................\n"
     ]
    }
   ],
   "source": [
    "v1 = Vertice(1)\n",
    "v2 = Vertice(2)\n",
    "v3 = Vertice(3)\n",
    "v4 = Vertice(4)\n",
    "v5 = Vertice(5)\n",
    "v6 = Vertice(6)\n",
    "a1 = Aresta( v1, v2, 10, True )\n",
    "a2 = Aresta( v2, v3, 20, True )\n",
    "a3 = Aresta( v3, v4, 30, True )\n",
    "a4 = Aresta( v4, v1, 40, True )\n",
    "a5 = Aresta( v4, v5, 50, True ) \n",
    "a6 = Aresta( v4, v6, 60, True ) \n",
    "G = Grafo()\n",
    "G.setVertices({v1, v2, v3, v4, v5,v6})\n",
    "G.setArestas({a1, a2, a3, a4, a5, a6})\n",
    "for vertice in G.getVertices():\n",
    "    print(f\"Busca em profundidade, iniciando com o vértice {vertice.getValor()}:\")\n",
    "    for v in G.dfs(G, vertice, visitados=[]):\n",
    "        print(str(v.getValor())+\"\\t\", end=\"\")\n",
    "    print(\"\\n.................................................\")  "
   ]
  },
  {
   "cell_type": "code",
   "execution_count": 56,
   "id": "447cd7a7",
   "metadata": {},
   "outputs": [
    {
     "name": "stdout",
     "output_type": "stream",
     "text": [
      "Busca em largura, iniciando com o vértice 1:\n",
      "1\t2\t3\t4\t5\t6\t\n",
      "............................................\n",
      "Busca em largura, iniciando com o vértice 3:\n",
      "3\t4\t1\t2\t5\t6\t\n",
      "............................................\n",
      "Busca em largura, iniciando com o vértice 5:\n",
      "5\t1\t2\t3\t4\t6\t\n",
      "............................................\n",
      "Busca em largura, iniciando com o vértice 4:\n",
      "4\t1\t2\t3\t5\t6\t\n",
      "............................................\n",
      "Busca em largura, iniciando com o vértice 2:\n",
      "2\t3\t4\t1\t5\t6\t\n",
      "............................................\n",
      "Busca em largura, iniciando com o vértice 6:\n",
      "6\t1\t2\t3\t4\t5\t\n",
      "............................................\n"
     ]
    }
   ],
   "source": [
    "v1 = Vertice(1)\n",
    "v2 = Vertice(2)\n",
    "v3 = Vertice(3)\n",
    "v4 = Vertice(4)\n",
    "v5 = Vertice(5)\n",
    "v6 = Vertice(6)\n",
    "a1 = Aresta( v1, v2, 10, True )\n",
    "a2 = Aresta( v2, v3, 20, True )\n",
    "a3 = Aresta( v3, v4, 30, True )\n",
    "a4 = Aresta( v4, v1, 40, True )\n",
    "a5 = Aresta( v4, v5, 50, True ) \n",
    "a6 = Aresta( v4, v6, 60, True ) \n",
    "G = Grafo()\n",
    "G.setVertices({v1, v2, v3, v4, v5,v6})\n",
    "G.setArestas({a1, a2, a3, a4, a5, a6})\n",
    "for vertice in G.getVertices():\n",
    "    print(f\"Busca em largura, iniciando com o vértice {vertice.getValor()}:\")\n",
    "    for v in  G.bfs(vertice, visitados = [], fila = deque([])):\n",
    "        print(str(v.getValor())+\"\\t\", end=\"\")\n",
    "    print(\"\\n............................................\")   "
   ]
  },
  {
   "cell_type": "code",
   "execution_count": 57,
   "id": "6ada2e47",
   "metadata": {},
   "outputs": [
    {
     "data": {
      "text/plain": [
       "True"
      ]
     },
     "execution_count": 57,
     "metadata": {},
     "output_type": "execute_result"
    }
   ],
   "source": [
    "G.bfsByValue(1)"
   ]
  },
  {
   "cell_type": "code",
   "execution_count": 58,
   "id": "829abfc5",
   "metadata": {},
   "outputs": [
    {
     "data": {
      "text/plain": [
       "True"
      ]
     },
     "execution_count": 58,
     "metadata": {},
     "output_type": "execute_result"
    }
   ],
   "source": [
    "G.ehEuler()"
   ]
  },
  {
   "cell_type": "code",
   "execution_count": 59,
   "id": "22bd2939",
   "metadata": {},
   "outputs": [
    {
     "data": {
      "text/plain": [
       "{<__main__.Vertice at 0x28cd30bc340>,\n",
       " <__main__.Vertice at 0x28cd30bc400>,\n",
       " <__main__.Vertice at 0x28cd30bc520>,\n",
       " <__main__.Vertice at 0x28cd30bc8b0>,\n",
       " <__main__.Vertice at 0x28cd30bc970>,\n",
       " <__main__.Vertice at 0x28cd30bca90>}"
      ]
     },
     "execution_count": 59,
     "metadata": {},
     "output_type": "execute_result"
    }
   ],
   "source": [
    "G.getVertices()"
   ]
  },
  {
   "cell_type": "code",
   "execution_count": 60,
   "id": "a37da2b4",
   "metadata": {},
   "outputs": [
    {
     "data": {
      "text/plain": [
       "False"
      ]
     },
     "execution_count": 60,
     "metadata": {},
     "output_type": "execute_result"
    }
   ],
   "source": [
    "G.inserirVertice(1)"
   ]
  },
  {
   "cell_type": "code",
   "execution_count": 61,
   "id": "d5c285b4",
   "metadata": {},
   "outputs": [
    {
     "name": "stdout",
     "output_type": "stream",
     "text": [
      "1\n",
      "3\n",
      "5\n",
      "4\n",
      "2\n",
      "6\n"
     ]
    }
   ],
   "source": [
    "for v in G.getVertices():\n",
    "    print(v.getValor())"
   ]
  },
  {
   "cell_type": "code",
   "execution_count": 62,
   "id": "96d48f15",
   "metadata": {},
   "outputs": [
    {
     "data": {
      "text/plain": [
       "True"
      ]
     },
     "execution_count": 62,
     "metadata": {},
     "output_type": "execute_result"
    }
   ],
   "source": [
    "G.inserirVertice(11)"
   ]
  },
  {
   "cell_type": "code",
   "execution_count": 63,
   "id": "75c8ed14",
   "metadata": {},
   "outputs": [
    {
     "name": "stdout",
     "output_type": "stream",
     "text": [
      "1\n",
      "3\n",
      "5\n",
      "4\n",
      "11\n",
      "2\n",
      "6\n"
     ]
    }
   ],
   "source": [
    "for v in G.getVertices():\n",
    "    print(v.getValor())"
   ]
  },
  {
   "cell_type": "code",
   "execution_count": 64,
   "id": "d903618e",
   "metadata": {},
   "outputs": [
    {
     "data": {
      "text/plain": [
       "{<__main__.Aresta at 0x28cd16071f0>,\n",
       " <__main__.Aresta at 0x28cd16076a0>,\n",
       " <__main__.Aresta at 0x28cd1607790>,\n",
       " <__main__.Aresta at 0x28cd16078e0>,\n",
       " <__main__.Aresta at 0x28cd1607bb0>,\n",
       " <__main__.Aresta at 0x28cd30bca00>}"
      ]
     },
     "execution_count": 64,
     "metadata": {},
     "output_type": "execute_result"
    }
   ],
   "source": [
    "G.getArestas()"
   ]
  },
  {
   "cell_type": "code",
   "execution_count": 65,
   "id": "c37df142",
   "metadata": {},
   "outputs": [
    {
     "data": {
      "text/plain": [
       "True"
      ]
     },
     "execution_count": 65,
     "metadata": {},
     "output_type": "execute_result"
    }
   ],
   "source": [
    "G.inserirAresta(2, 3, 15)"
   ]
  },
  {
   "cell_type": "code",
   "execution_count": 66,
   "id": "a9002503",
   "metadata": {},
   "outputs": [
    {
     "data": {
      "text/plain": [
       "{<__main__.Aresta at 0x28cd16071f0>,\n",
       " <__main__.Aresta at 0x28cd16076a0>,\n",
       " <__main__.Aresta at 0x28cd1607790>,\n",
       " <__main__.Aresta at 0x28cd16078e0>,\n",
       " <__main__.Aresta at 0x28cd1607bb0>,\n",
       " <__main__.Aresta at 0x28cd30bca00>,\n",
       " <__main__.Aresta at 0x28cd314ff40>}"
      ]
     },
     "execution_count": 66,
     "metadata": {},
     "output_type": "execute_result"
    }
   ],
   "source": [
    "G.getArestas()"
   ]
  },
  {
   "cell_type": "code",
   "execution_count": 67,
   "id": "026c3b1a",
   "metadata": {},
   "outputs": [
    {
     "data": {
      "text/plain": [
       "True"
      ]
     },
     "execution_count": 67,
     "metadata": {},
     "output_type": "execute_result"
    }
   ],
   "source": [
    "G.removerAresta(60, 4, 6)"
   ]
  },
  {
   "cell_type": "code",
   "execution_count": 68,
   "id": "94095360",
   "metadata": {},
   "outputs": [
    {
     "data": {
      "text/plain": [
       "{<__main__.Aresta at 0x28cd16076a0>,\n",
       " <__main__.Aresta at 0x28cd1607790>,\n",
       " <__main__.Aresta at 0x28cd16078e0>,\n",
       " <__main__.Aresta at 0x28cd1607bb0>,\n",
       " <__main__.Aresta at 0x28cd30bca00>,\n",
       " <__main__.Aresta at 0x28cd314ff40>}"
      ]
     },
     "execution_count": 68,
     "metadata": {},
     "output_type": "execute_result"
    }
   ],
   "source": [
    "G.getArestas()"
   ]
  },
  {
   "cell_type": "code",
   "execution_count": 69,
   "id": "033d063f",
   "metadata": {},
   "outputs": [
    {
     "data": {
      "text/plain": [
       "True"
      ]
     },
     "execution_count": 69,
     "metadata": {},
     "output_type": "execute_result"
    }
   ],
   "source": [
    "G.removerVertice(1)"
   ]
  },
  {
   "cell_type": "code",
   "execution_count": 70,
   "id": "4d565f3a",
   "metadata": {},
   "outputs": [
    {
     "data": {
      "text/plain": [
       "{<__main__.Vertice at 0x28cd30bc340>,\n",
       " <__main__.Vertice at 0x28cd30bc520>,\n",
       " <__main__.Vertice at 0x28cd30bc8b0>,\n",
       " <__main__.Vertice at 0x28cd30bc970>,\n",
       " <__main__.Vertice at 0x28cd30bca90>,\n",
       " <__main__.Vertice at 0x28cd314ff70>}"
      ]
     },
     "execution_count": 70,
     "metadata": {},
     "output_type": "execute_result"
    }
   ],
   "source": [
    "G.getVertices()"
   ]
  },
  {
   "cell_type": "code",
   "execution_count": 71,
   "id": "1a6206b3",
   "metadata": {},
   "outputs": [
    {
     "data": {
      "text/plain": [
       "{<__main__.Aresta at 0x28cd16076a0>,\n",
       " <__main__.Aresta at 0x28cd16078e0>,\n",
       " <__main__.Aresta at 0x28cd1607bb0>,\n",
       " <__main__.Aresta at 0x28cd314ff40>}"
      ]
     },
     "execution_count": 71,
     "metadata": {},
     "output_type": "execute_result"
    }
   ],
   "source": [
    "G.getArestas()"
   ]
  },
  {
   "cell_type": "code",
   "execution_count": 72,
   "id": "266cb9a0",
   "metadata": {},
   "outputs": [
    {
     "data": {
      "text/plain": [
       "True"
      ]
     },
     "execution_count": 72,
     "metadata": {},
     "output_type": "execute_result"
    }
   ],
   "source": [
    "G.removerVertice(11)"
   ]
  },
  {
   "cell_type": "code",
   "execution_count": 73,
   "id": "3b77e8af",
   "metadata": {},
   "outputs": [
    {
     "data": {
      "text/plain": [
       "{<__main__.Vertice at 0x28cd30bc340>,\n",
       " <__main__.Vertice at 0x28cd30bc520>,\n",
       " <__main__.Vertice at 0x28cd30bc8b0>,\n",
       " <__main__.Vertice at 0x28cd30bc970>,\n",
       " <__main__.Vertice at 0x28cd30bca90>}"
      ]
     },
     "execution_count": 73,
     "metadata": {},
     "output_type": "execute_result"
    }
   ],
   "source": [
    "G.getVertices()"
   ]
  },
  {
   "cell_type": "code",
   "execution_count": null,
   "id": "6e83c902",
   "metadata": {},
   "outputs": [],
   "source": []
  }
 ],
 "metadata": {
  "kernelspec": {
   "display_name": "Python 3 (ipykernel)",
   "language": "python",
   "name": "python3"
  },
  "language_info": {
   "codemirror_mode": {
    "name": "ipython",
    "version": 3
   },
   "file_extension": ".py",
   "mimetype": "text/x-python",
   "name": "python",
   "nbconvert_exporter": "python",
   "pygments_lexer": "ipython3",
   "version": "3.9.12"
  }
 },
 "nbformat": 4,
 "nbformat_minor": 5
}
