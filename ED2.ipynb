{
 "cells": [
  {
   "cell_type": "code",
   "execution_count": 1,
   "id": "d54522d8",
   "metadata": {},
   "outputs": [
    {
     "data": {
      "text/html": [
       "<style>.container { width:100% !important; }</style>"
      ],
      "text/plain": [
       "<IPython.core.display.HTML object>"
      ]
     },
     "metadata": {},
     "output_type": "display_data"
    }
   ],
   "source": [
    "from IPython.display import display, HTML\n",
    "display(HTML(\"<style>.container { width:100% !important; }</style>\"))"
   ]
  },
  {
   "cell_type": "code",
   "execution_count": 2,
   "id": "8b003e19",
   "metadata": {},
   "outputs": [],
   "source": [
    "class Vertice:\n",
    "    \n",
    "    def __init__(self, valor, direcionado=True):\n",
    "        self.__valor = valor\n",
    "        self.__direcionado = direcionado\n",
    "        self.__arestas = set()\n",
    "    \n",
    "    def getValor(self):\n",
    "        return self.__valor\n",
    "    \n",
    "    def setValor(self, valor):\n",
    "        self.__valor = valor\n",
    "        \n",
    "    def getArestas(self):\n",
    "        return self.__arestas\n",
    "\n",
    "    def removerAresta(self, aresta):\n",
    "        self.__arestas.remove(aresta)\n",
    "    \n",
    "    def adicionarAresta(self, aresta):\n",
    "        self.__arestas.add(aresta)\n",
    "        \n",
    "    def getArestasSaida(self):\n",
    "        if self.__direcionado == False:\n",
    "            return self.__arestas\n",
    "        arestasDeSaida = []\n",
    "        for aresta in self.__arestas:\n",
    "            if aresta.getvOrigem() == self:\n",
    "                arestasDeSaida.append(aresta)\n",
    "        return arestasDeSaida\n",
    "    \n",
    "    def getArestasEntrada(self):\n",
    "        if self.__direcionado == False:\n",
    "            return self.__arestas\n",
    "        arestasSaida = []\n",
    "        for aresta in self.__arestas:\n",
    "            if aresta.getvDestino() == self:\n",
    "                arestasSaida.append(aresta)\n",
    "        return arestasSaida\n",
    "    \n",
    "    def getGrau(self):\n",
    "        return len(self.getArestasSaida())+ len(self.getArestasEntrada())\n",
    "    \n",
    "    def getAdjacentes(self, v):\n",
    "        listaVerticesAdjacentes = []\n",
    "        for arestas_de_saida in v.getArestasSaida():\n",
    "            listaVerticesAdjacentes.append(arestas_de_saida.getvDestino())\n",
    "        return listaVerticesAdjacentes"
   ]
  },
  {
   "cell_type": "code",
   "execution_count": 3,
   "id": "5c3677e7",
   "metadata": {},
   "outputs": [],
   "source": [
    "class Aresta:\n",
    "    def __init__(self, vOrigem, vDestino, peso, direcionada=True):\n",
    "        self.__vOrigem = vOrigem\n",
    "        self.__vDestino = vDestino\n",
    "        self.__peso = peso\n",
    "        self.__direcionada = direcionada\n",
    "        self.__vOrigem.adicionarAresta(self)\n",
    "        self.__vDestino.adicionarAresta(self)\n",
    "        \n",
    "    def getvOrigem(self):\n",
    "        return self.__vOrigem\n",
    "    def getvDestino(self):\n",
    "        return self.__vDestino\n",
    "    def getValor(self):\n",
    "        return self.__peso"
   ]
  },
  {
   "cell_type": "code",
   "execution_count": 4,
   "id": "80078bdb",
   "metadata": {},
   "outputs": [],
   "source": [
    "from collections import deque\n",
    "class Grafo:\n",
    "    def __init__(self, direcionado=True):\n",
    "        self.__vertices = set()\n",
    "        self.__arestas  = set()\n",
    "        self.__direcionado = direcionado\n",
    "        \n",
    "    def setVertices(self, vertices):\n",
    "        self.__vertices = vertices\n",
    "        \n",
    "    def setArestas(self, arestas):\n",
    "        self.__arestas = arestas\n",
    "        \n",
    "    def getVertices(self):\n",
    "        return self.__vertices\n",
    "    \n",
    "    def getVerticeByValor(self, valor):\n",
    "        for v in self.__vertices:\n",
    "            if v.getValor() == valor:\n",
    "                return v\n",
    "        return None\n",
    "    \n",
    "    def getArestas(self):\n",
    "        return self.__arestas\n",
    "    \n",
    "    def adicionarVertice(self, valor):\n",
    "        if self.buscarPorValor(valor) != valor:# valor nao esta no grafo\n",
    "            self.__vertices.add(Vertice(valor))\n",
    "            return True\n",
    "        return False\n",
    "    \n",
    "    def adicionarAresta(self, origem, destino, peso = 1, direcionada = True):\n",
    "        try:\n",
    "            verticeOrigem = self.getVerticeByValor(origem)\n",
    "            verticeDestino = self.getVerticeByValor(destino)\n",
    "            if (verticeOrigem or verticeDestino) is None:  # existem os vertices de origem e destino?\n",
    "                print(\"Nao ha no grafo, vertices de origem ou de destino com os valores informados.\")\n",
    "            self.__arestas.add(Aresta(verticeOrigem, verticeDestino, peso, direcionada))\n",
    "        except AttributeError as error:\n",
    "            print(\"Nao ha no grafo, vertices de origem ou de destino com os valores informados.\")\n",
    "    \n",
    "    def checkHandShakingLemma(self):\n",
    "        somaGraus = 0\n",
    "        for v in self.getVertices():\n",
    "            somaGraus+= v.getGrau()\n",
    "        if somaGraus == len(self.getArestas())*2:\n",
    "            return True\n",
    "        else:\n",
    "            return False\n",
    "        \n",
    "    def dfs(self, graph, v, visitados=[]):\n",
    "        if v not in visitados: # se v nao foi visitado\n",
    "            visitados.append(v) # marca vertice como visitado\n",
    "        if len(v.getAdjacentes(v)) == 0: # vertice escolhido nao tem adjacentes\n",
    "            self.dfs(graph, next(iter(graph.getVertices())), visitados) # chamada recursiva pegando o proximo vertice do set\n",
    "        else: # vertice escolhido tem adjacentes\n",
    "            for adjacente in v.getAdjacentes(v): #percorre todos os adjacentes a ele\n",
    "                if adjacente not in visitados: # se um dos adjacentes nao foi visitado\n",
    "                    self.dfs(graph, adjacente, visitados) # chamada recursiva para cada adjacente\n",
    "        return visitados\n",
    "    \n",
    "    def bfs(self, v, visitados = [], fila = deque([])):\n",
    "        fila.append(v)  # adiciona o vertice v a fila\n",
    "        if v not in visitados:  # se vertice v nao esta em visitados\n",
    "            visitados.append(v)  # adiciona vertice v a visitados\n",
    "        while fila:  # enquanto houver vertices na fila\n",
    "            vertice = fila.popleft()  # tira vertice ja visitado da fila\n",
    "            if len(vertice.getArestasSaida()) == 0: # vertice escolhido nao tem adjacentes\n",
    "                self.bfs(next(iter(self.getVertices())), visitados, fila) # chamada recursiva pegando o proximo vertice do set   \n",
    "            else:\n",
    "                for adjacente in vertice.getAdjacentes(v): #percorre todos os adjacentes a ele\n",
    "                    if adjacente not in visitados: # se um dos adjacentes nao foi visitado\n",
    "                        visitados.append(adjacente)  # insere o adjacente em visitados\n",
    "                        self.bfs(adjacente, visitados, fila) # chamada recursiva pegando o proximo vertice do set\n",
    "        return visitados  # retorna a lista de visitados  \n",
    "    \n",
    "    def buscarPorValor(self, valor):\n",
    "        for v in self.bfs(next(iter(self.getVertices())), visitados = [], fila = deque([])):\n",
    "            if valor == v.getValor():\n",
    "                return valor\n",
    "        return None\n",
    "    \n",
    "    def existeCaminhoEuler(self):\n",
    "        pares = True\n",
    "        impares = []\n",
    "        for v in self.getVertices():\n",
    "            if v.getGrau() % 2 != 0:\n",
    "                pares = False\n",
    "                impares.append(v)\n",
    "        return pares or len(impares) == 2\n",
    "\n",
    "    def removerAresta(self, peso, valorVOrigem, valorVDestino):\n",
    "        arestaDeletar = None\n",
    "        # Encontrando a aresta alvo pela busca de profundidade\n",
    "        for v in self.bfs(next(iter(self.getVertices()))):\n",
    "            if arestaDeletar != None:\n",
    "                break\n",
    "            arestas = v.getArestas()\n",
    "            for a in arestas:\n",
    "                if a.getValor() == peso:\n",
    "                    arestaDeletar = a\n",
    "                    break\n",
    "        vOrigem = self.getVerticeByValor(valorVOrigem)\n",
    "        vDestino = self.getVerticeByValor(valorVDestino)\n",
    "        if arestaDeletar.getvOrigem() != vOrigem:\n",
    "            print(\"Valor do vértice de origem é diferente do procurado.\")\n",
    "            return False\n",
    "        if arestaDeletar.getvDestino() != vDestino:\n",
    "            print(\"Valor do vértice de destino é diferente do procurado.\")\n",
    "            return False\n",
    "        # Remove aresta da lista de arestas do Grafo\n",
    "        self.getArestas().remove(arestaDeletar)\n",
    "        # Remove aresta do vértice origem\n",
    "        vOrigem.removerAresta(arestaDeletar)\n",
    "        # Remove aresta do vértice destino\n",
    "        vDestino.removerAresta(arestaDeletar)\n",
    "        return True\n",
    "\n",
    "    def removerVertice(self, valor):\n",
    "        verticeRemover = self.getVerticeByValor(valor)\n",
    "        if verticeRemover == None:\n",
    "            print(\"Vértice com valor \" + str(valor) + \" não foi encontrado.\")\n",
    "            return False\n",
    "        arestasRemover = verticeRemover.getArestas()\n",
    "        for aresta in arestasRemover.copy():\n",
    "            valorVOrigem = aresta.getvOrigem().getValor()\n",
    "            valorVDestino = aresta.getvDestino().getValor()\n",
    "            self.removerAresta(aresta.getValor(), valorVOrigem, valorVDestino)\n",
    "        self.getVertices().remove(verticeRemover)\n",
    "        return True"
   ]
  },
  {
   "cell_type": "code",
   "execution_count": 5,
   "id": "91b986a7",
   "metadata": {},
   "outputs": [],
   "source": [
    "v1 = Vertice(1)\n",
    "v2 = Vertice(2)\n",
    "v3 = Vertice(3)\n",
    "v4 = Vertice(4)\n",
    "v5 = Vertice(5)\n",
    "a1 = Aresta( v1, v2, 10, True )\n",
    "a2 = Aresta( v2, v3, 20, True )\n",
    "a3 = Aresta( v3, v4, 30, True )\n",
    "a4 = Aresta( v4, v1, 40, True )\n",
    "a5 = Aresta( v4, v5, 50, True )"
   ]
  },
  {
   "cell_type": "code",
   "execution_count": 6,
   "id": "ce259c26",
   "metadata": {},
   "outputs": [],
   "source": [
    "G = Grafo()\n",
    "G.setVertices({v1, v2, v3, v4, v5})\n",
    "G.setArestas({a1, a2, a3, a4, a5})"
   ]
  },
  {
   "cell_type": "code",
   "execution_count": 7,
   "id": "e2e8bbce",
   "metadata": {},
   "outputs": [
    {
     "name": "stdout",
     "output_type": "stream",
     "text": [
      "Nao ha no grafo, vertices de origem ou de destino com os valores informados.\n"
     ]
    }
   ],
   "source": [
    "G.adicionarVertice(20)\n",
    "G.adicionarAresta(5, 15, 10, True)"
   ]
  },
  {
   "cell_type": "code",
   "execution_count": 8,
   "id": "1c2d3a62",
   "metadata": {},
   "outputs": [
    {
     "name": "stdout",
     "output_type": "stream",
     "text": [
      "4\t20\t1\t5\t2\t3\t"
     ]
    }
   ],
   "source": [
    "for v in G.getVertices():\n",
    "    print(v.getValor(), end=\"\\t\")"
   ]
  },
  {
   "cell_type": "code",
   "execution_count": 9,
   "id": "6fd4c082",
   "metadata": {},
   "outputs": [
    {
     "data": {
      "text/plain": [
       "2"
      ]
     },
     "execution_count": 9,
     "metadata": {},
     "output_type": "execute_result"
    }
   ],
   "source": [
    "v1.getGrau()"
   ]
  },
  {
   "cell_type": "code",
   "execution_count": 10,
   "id": "cbfb2a5b",
   "metadata": {},
   "outputs": [
    {
     "data": {
      "text/plain": [
       "False"
      ]
     },
     "execution_count": 10,
     "metadata": {},
     "output_type": "execute_result"
    }
   ],
   "source": [
    "G.checkHandShakingLemma()"
   ]
  },
  {
   "cell_type": "markdown",
   "id": "f6297d84",
   "metadata": {},
   "source": [
    "#### Testando busca em profundidade"
   ]
  },
  {
   "cell_type": "code",
   "execution_count": 11,
   "id": "1de74052",
   "metadata": {},
   "outputs": [],
   "source": [
    "v1 = Vertice(1)\n",
    "v2 = Vertice(2)\n",
    "v3 = Vertice(3)\n",
    "v4 = Vertice(4)\n",
    "v5 = Vertice(5)\n",
    "v6 = Vertice(6)\n",
    "a1 = Aresta( v1, v2, 10, True )\n",
    "a2 = Aresta( v2, v3, 20, True )\n",
    "a3 = Aresta( v3, v4, 30, True )\n",
    "a4 = Aresta( v4, v1, 40, True )\n",
    "a5 = Aresta( v4, v5, 50, True ) \n",
    "a6 = Aresta( v4, v6, 60, True ) \n",
    "G = Grafo()\n",
    "G.setVertices({v1, v2, v3, v4, v5,v6})\n",
    "G.setArestas({a1, a2, a3, a4, a5, a6})\n",
    "# for vertice in G.getVertices():\n",
    "#     print(f\"Busca em profundidade, iniciando com o vértice {vertice.getValor()}:\")\n",
    "#     for v in G.dfs(G, vertice, visitados=[]):\n",
    "#         print(str(v.getValor())+\"\\t\", end=\"\")\n",
    "#     print(\"\\n.................................................\")  "
   ]
  },
  {
   "cell_type": "code",
   "execution_count": 12,
   "id": "447cd7a7",
   "metadata": {},
   "outputs": [],
   "source": [
    "v1 = Vertice(1)\n",
    "v2 = Vertice(2)\n",
    "v3 = Vertice(3)\n",
    "v4 = Vertice(4)\n",
    "v5 = Vertice(5)\n",
    "v6 = Vertice(6)\n",
    "a1 = Aresta( v1, v2, 10, True )\n",
    "a2 = Aresta( v2, v3, 20, True )\n",
    "a3 = Aresta( v3, v4, 30, True )\n",
    "a4 = Aresta( v4, v1, 40, True )\n",
    "a5 = Aresta( v4, v5, 50, True ) \n",
    "a6 = Aresta( v4, v6, 60, True ) \n",
    "G = Grafo()\n",
    "G.setVertices({v1, v2, v3, v4, v5,v6})\n",
    "G.setArestas({a1, a2, a3, a4, a5, a6})\n",
    "# for vertice in G.getVertices():\n",
    "#     print(f\"Busca em largura, iniciando com o vértice {vertice.getValor()}:\")\n",
    "#     for v in  G.bfs(vertice, visitados = [], fila = deque([])):\n",
    "#         print(str(v.getValor())+\"\\t\", end=\"\")\n",
    "#     print(\"\\n............................................\")   "
   ]
  },
  {
   "cell_type": "code",
   "execution_count": 13,
   "id": "4e2ccf9d",
   "metadata": {},
   "outputs": [],
   "source": [
    "# valor = int(input(\"Valor procurado: \"))\n",
    "# if G.buscarPorValor(valor) == None:\n",
    "#     print(f\"{valor} não encontrado no grafo\")\n",
    "# else:\n",
    "#     print(f\"{valor} encontrado no grafo\")\n",
    "# [print(f\"{v.getValor()} encontrado no grafo.\") for v in  G.bfs(v1, visitados = [], fila = deque([])) if n == v.getValor() ]"
   ]
  },
  {
   "cell_type": "code",
   "execution_count": 14,
   "id": "eabe6cad",
   "metadata": {},
   "outputs": [
    {
     "name": "stdout",
     "output_type": "stream",
     "text": [
      "Grafo contém um caminho Euleriano\n"
     ]
    }
   ],
   "source": [
    "if G.existeCaminhoEuler():\n",
    "    print(\"Grafo contém um caminho Euleriano\")\n",
    "else:\n",
    "    print(\"Grafo NÃO contém um caminho Euleriano\")"
   ]
  },
  {
   "cell_type": "code",
   "execution_count": 15,
   "id": "4c1f72eb",
   "metadata": {},
   "outputs": [
    {
     "name": "stdout",
     "output_type": "stream",
     "text": [
      "1 ---> 2\t2 ---> 3\t4 ---> 6\t4 ---> 1\t4 ---> 5\t3 ---> 4\t"
     ]
    }
   ],
   "source": [
    "for a in G.getArestas():\n",
    "    print(a.getvOrigem().getValor(), end=\"\")\n",
    "    print(\" ---> \", end=\"\")\n",
    "    print(a.getvDestino().getValor(), end=\"\\t\")"
   ]
  },
  {
   "cell_type": "code",
   "execution_count": 16,
   "id": "6f725ba3",
   "metadata": {},
   "outputs": [
    {
     "data": {
      "text/plain": [
       "True"
      ]
     },
     "execution_count": 16,
     "metadata": {},
     "output_type": "execute_result"
    }
   ],
   "source": [
    "G.removerAresta(10, 1, 2)"
   ]
  },
  {
   "cell_type": "code",
   "execution_count": 17,
   "id": "ca74fad8",
   "metadata": {},
   "outputs": [
    {
     "data": {
      "text/plain": [
       "True"
      ]
     },
     "execution_count": 17,
     "metadata": {},
     "output_type": "execute_result"
    }
   ],
   "source": [
    "G.removerVertice(6)"
   ]
  },
  {
   "cell_type": "code",
   "execution_count": 18,
   "id": "1da9e11b",
   "metadata": {},
   "outputs": [
    {
     "name": "stdout",
     "output_type": "stream",
     "text": [
      "2 ---> 3\t4 ---> 1\t4 ---> 5\t3 ---> 4\t"
     ]
    }
   ],
   "source": [
    "for a in G.getArestas():\n",
    "    print(a.getvOrigem().getValor(), end=\"\")\n",
    "    print(\" ---> \", end=\"\")\n",
    "    print(a.getvDestino().getValor(), end=\"\\t\")"
   ]
  },
  {
   "cell_type": "code",
   "execution_count": 19,
   "id": "53f1b98d",
   "metadata": {},
   "outputs": [
    {
     "name": "stdout",
     "output_type": "stream",
     "text": [
      "2\t4\t5\t3\t1\t"
     ]
    }
   ],
   "source": [
    "# Vértices antes\n",
    "for v in G.getVertices():\n",
    "    print(v.getValor(), end=\"\\t\")"
   ]
  },
  {
   "cell_type": "code",
   "execution_count": 20,
   "id": "1487bc97",
   "metadata": {},
   "outputs": [
    {
     "data": {
      "text/plain": [
       "True"
      ]
     },
     "execution_count": 20,
     "metadata": {},
     "output_type": "execute_result"
    }
   ],
   "source": [
    "G.removerVertice(1)"
   ]
  },
  {
   "cell_type": "code",
   "execution_count": 21,
   "id": "9fa9563e",
   "metadata": {},
   "outputs": [
    {
     "name": "stdout",
     "output_type": "stream",
     "text": [
      "2\t4\t5\t3\t"
     ]
    }
   ],
   "source": [
    "# Vértices depois\n",
    "for v in G.getVertices():\n",
    "    print(v.getValor(), end=\"\\t\")"
   ]
  }
 ],
 "metadata": {
  "interpreter": {
   "hash": "de2223bb40aaf1ebe68ff161abfb5a2fd865222467d64d59fbf95e4648901f47"
  },
  "kernelspec": {
   "display_name": "Python 3.9.7 ('base')",
   "language": "python",
   "name": "python3"
  },
  "language_info": {
   "codemirror_mode": {
    "name": "ipython",
    "version": 3
   },
   "file_extension": ".py",
   "mimetype": "text/x-python",
   "name": "python",
   "nbconvert_exporter": "python",
   "pygments_lexer": "ipython3",
   "version": "3.9.7"
  }
 },
 "nbformat": 4,
 "nbformat_minor": 5
}
