{
 "cells": [
  {
   "cell_type": "code",
   "execution_count": 2,
   "id": "d54522d8",
   "metadata": {},
   "outputs": [
    {
     "data": {
      "text/html": [
       "<style>.container { width:100% !important; }</style>"
      ],
      "text/plain": [
       "<IPython.core.display.HTML object>"
      ]
     },
     "metadata": {},
     "output_type": "display_data"
    }
   ],
   "source": [
    "from IPython.display import display, HTML\n",
    "display(HTML(\"<style>.container { width:100% !important; }</style>\"))"
   ]
  },
  {
   "cell_type": "code",
   "execution_count": 1,
   "id": "8b003e19",
   "metadata": {},
   "outputs": [],
   "source": [
    "class Vertice:\n",
    "    def __init__(self, dado, direcionado=True):\n",
    "        self.__dado = dado\n",
    "        self.__direcionado = direcionado\n",
    "        self.__arestas = set()\n",
    "    \n",
    "    def getDado(self):\n",
    "        return self.__dado\n",
    "    \n",
    "    def setDado(self, dado):\n",
    "        self.__dado = dado\n",
    "        \n",
    "    def getArestas(self):\n",
    "        return self.__arestas\n",
    "    \n",
    "    def adicionarAresta(self, aresta):\n",
    "        self.__arestas.add(aresta)\n",
    "        \n",
    "    def getArestasSaida(self):\n",
    "        if self.__direcionado == False:\n",
    "            return self.__arestas\n",
    "        arestasDeSaida = []\n",
    "        for aresta in self.__arestas:\n",
    "            if aresta.getvOrigem() == self:\n",
    "                arestasDeSaida.append(aresta)\n",
    "        return arestasDeSaida\n",
    "    \n",
    "    def getArestasEntrada(self):\n",
    "        if self.__direcionado == False:\n",
    "            return self.__arestas\n",
    "        arestasSaida = []\n",
    "        for aresta in self.__arestas:\n",
    "            if aresta.getvDestino() == self:\n",
    "                arestasSaida.append(aresta)\n",
    "        return arestasSaida\n",
    "    \n",
    "    def getGrau(self):\n",
    "        return len(self.getArestasSaida()) + len(self.getArestasEntrada())\n",
    "    '''\n",
    "    def getGrauE(self):\n",
    "        return len(self.getArestasEntrada())\n",
    "\n",
    "    def getGrauS(self):\n",
    "        return len(self.getArestasSaida()) \n",
    "    '''\n",
    "    def getAdjacentes(self, v):\n",
    "        listaVerticesAdjacentes = []\n",
    "        for arestas_de_saida in v.getArestasSaida():\n",
    "            listaVerticesAdjacentes.append(arestas_de_saida.getvDestino())\n",
    "        return listaVerticesAdjacentes"
   ]
  },
  {
   "cell_type": "code",
   "execution_count": 2,
   "id": "5c3677e7",
   "metadata": {},
   "outputs": [],
   "source": [
    "class Aresta:\n",
    "    def __init__(self, vOrigem, vDestino, valor, direcionada=True):\n",
    "        self.__vOrigem = vOrigem\n",
    "        self.__vDestino = vDestino\n",
    "        self.__valor = valor\n",
    "        self.__direcionada = direcionada\n",
    "        self.__vOrigem.adicionarAresta(self)\n",
    "        self.__vDestino.adicionarAresta(self)\n",
    "        \n",
    "        \n",
    "    def getvOrigem(self):\n",
    "        return self.__vOrigem\n",
    "    def getvDestino(self):\n",
    "        return self.__vDestino\n",
    "    def getDado(self):\n",
    "        return self.__valor"
   ]
  },
  {
   "cell_type": "code",
   "execution_count": 23,
   "id": "6fd4c082",
   "metadata": {},
   "outputs": [],
   "source": [
    "from collections import deque\n",
    "class Grafo:\n",
    "    def __init__(self, direcionado=True):\n",
    "        self.__vertices = set()\n",
    "        self.__arestas  = set()\n",
    "        self.__direcionado = direcionado\n",
    "        \n",
    "    def setVertices(self, vertices):\n",
    "        self.__vertices = vertices\n",
    "        \n",
    "    def setArestas(self, arestas):\n",
    "        self.__arestas = arestas\n",
    "        \n",
    "    def getVertices(self):\n",
    "        return self.__vertices\n",
    "    \n",
    "    def getArestas(self):\n",
    "        return self.__arestas\n",
    "    \n",
    "    #def getHul(self):\n",
    "        #for v in      \n",
    "    #def getVertice(self):\n",
    "        #return len(self.getAresta(getDado))\n",
    "\n",
    "    def getArestaDado(self, dado):\n",
    "        for v in self.__vertices:\n",
    "            if v.getDado() == dado:\n",
    "                return v\n",
    "        return None\n",
    "    \n",
    "#-------11/05-------#\n",
    "    def adicionarVertice(self, dado):\n",
    "        if self.buscarPorValor(dado) != dado:# valor nao esta no grafo\n",
    "            self.__vertices.add(Vertice(dado))\n",
    "            return True\n",
    "        return False\n",
    "    \n",
    "    def adicionarAresta(self, origem, destino, peso = 1, direcionada = True):\n",
    "        try:\n",
    "            verticeOrigem = self.getArestaDado(origem)\n",
    "            verticeDestino = self.getArestaDado(destino)\n",
    "            if (verticeOrigem or verticeDestino) is None:  # existem os vertices de origem e destino?\n",
    "                print(\"Nao ha no grafo, vertices de origem ou de destino com os valores informados.\")\n",
    "            self.__arestas.add(Aresta(verticeOrigem, verticeDestino, peso, direcionada))\n",
    "        except AttributeError as error:\n",
    "            print(\"Nao ha no grafo, vertices de origem ou de destino com os valores informados.\")\n",
    "    \n",
    "    def removeVertice(self, dado): \n",
    "            if self.buscarPorValor(dado) != dado:\n",
    "                print(\"O valor informado nao esta no grafo.\")\n",
    "            else:\n",
    "                for a in self.getVertice():\n",
    "                    if a.getDado == dado:\n",
    "                        a.remove(Vertice(dado))\n",
    "                return False\n",
    "            \n",
    "    def removeAresta(self, valorOrigem, valorDestino, peso):\n",
    "        try:\n",
    "            o = self.getArestaDado(valorOrigem)\n",
    "            d = self.getArestaDado(valorDestino)\n",
    "            for a in self.getArestas():\n",
    "                if a.getDado == peso and a.getvOrigem() == o and a.getvDestino == d:\n",
    "                    self.getArestas().remove(a)\n",
    "        except AttributeError as error:\n",
    "            print(\"Nao ha no grafo, Arestas de origem ou de destino com os valores informados.\")\n",
    "                    \n",
    "#-------11/05-------#\n",
    "\n",
    "    def HandShakingLemma(self):\n",
    "        return sum(v.getGrau() for v in self.getVertices()) == 2*len(self.getArestas())\n",
    "    \n",
    "    '''  27/04\n",
    "    def KL9(self, valor, visitados=[]):\n",
    "        V = self.getVertices()\n",
    "        if valor not in visitados:\n",
    "            visitados.append(valor)\n",
    "            for i in V:\n",
    "                if i.getValor() not in visitados:\n",
    "                    return visitados\n",
    "                else:\n",
    "                    for visitados in self.getVertices():\n",
    "                        visitados = self.KL9(i.getValor(), visitados)\n",
    "        return visitados\n",
    "    '''\n",
    "#-------04/05-------#\n",
    "#- Busca em profundidade:\n",
    "    def asd(self, graph, v, visit=[]):\n",
    "        if v not in visit:\n",
    "            visit.append(v)\n",
    "        if len(v.getAdjacentes(v)) == 0:\n",
    "            self.asd(graph, next(iter(self.getVertices())), visit)\n",
    "        else:\n",
    "            for adjacente in v.getAdjacentes(v):\n",
    "                if adjacente not in visit:\n",
    "                    self.asd(graph, adjacente, visit)\n",
    "        return visit\n",
    "    \n",
    "#- Busca em largura:\n",
    "    def qwe(self, v, visit = [], fila = deque([])):\n",
    "        fila.append(v)\n",
    "        if v not in visit:\n",
    "            visit.append(v)\n",
    "        while fila:\n",
    "            vertice = fila.popleft()\n",
    "            if len(vertice.getArestasSaida()) == 0:\n",
    "                self.qwe(next(iter(self.getVertices())), visit, fila)\n",
    "            else:\n",
    "                for i in vertice.getArestasSaida():\n",
    "                    vAdjacente = i.getvDestino()\n",
    "                    if vAdjacente not in visit:\n",
    "                        visit.append(vAdjacente)\n",
    "                        fila.append(vAdjacente)\n",
    "        return visit\n",
    "    \n",
    "    def buscarPorValor(self, dado):\n",
    "        for v in self.qwe(next(iter(self.getVertices())), visit = [], fila = deque([])):\n",
    "            if dado == v.getDado():\n",
    "                return dado\n",
    "        return None\n",
    "    \n",
    "#-------04/05-------#"
   ]
  },
  {
   "cell_type": "code",
   "execution_count": null,
   "id": "c5029f5b",
   "metadata": {},
   "outputs": [],
   "source": [
    "    '''\n",
    "    def adicionarVertice(self, dado):\n",
    "        if self.buscarPorValor(dado) != dado:\n",
    "            self.__vertices.add(Vertice(dado))\n",
    "            return True\n",
    "        return False\n",
    "    \n",
    "    def adicionarAresta(self, origem, destino, peso = 1, direcionada = True):\n",
    "        try:\n",
    "            verticeOrigem = self.getVerticeByValor(origem)\n",
    "            verticeDestino = self.getVerticeByValor(destino)\n",
    "            if (verticeOrigem or verticeDestino) is None:  # existem os vertices de origem e destino?\n",
    "                print(\"Nao ha no grafo, vertices de origem ou de destino com os valores informados.\")\n",
    "            self.__arestas.add(Aresta(verticeOrigem, verticeDestino, peso, direcionada))\n",
    "        except AttributeError as error:\n",
    "            print(\"Nao ha no grafo, vertices de origem ou de destino com os valores informados.\")\n",
    "    '''         \n",
    "    def removeVertice(self, dado):\n",
    "        if self.buscarPorValor(dado) != dado:\n",
    "            print(\"O valor informado nao esta no grafo.\")\n",
    "        return vertices\n",
    "        else:\n",
    "            for a in self.getVertice():\n",
    "                if a.getDado == dado:\n",
    "                self.get.remove(Vertice(dado))            \n",
    "        return vertices   \n",
    "\n",
    "    def rVertice(self, dado, origem, destino):\n",
    "        for b in self.buscarPorValor():\n",
    "            if b.getDado(dado) == dado:\n",
    "                self.Vertice().remove(dado)\n",
    "                \n",
    "    \n",
    "    def removeAresta(self, valorOrigem, valorDestino, peso):\n",
    "        try:\n",
    "            o = self.getArestaDado(valorOrigem)\n",
    "            d = self.getArestaDado(valorDestino)\n",
    "            for a in self.getArestas():\n",
    "                if a.getDado == peso and a.getvOrigem() = o and a.getvDestino == d:\n",
    "                    self.getArestas().remove(a)\n",
    "                    \n",
    "#-------18/05-------#"
   ]
  },
  {
   "cell_type": "code",
   "execution_count": 6,
   "id": "9bd08854",
   "metadata": {},
   "outputs": [],
   "source": [
    "#   def htr(self):\n",
    "#        if "
   ]
  },
  {
   "cell_type": "code",
   "execution_count": 7,
   "id": "7b196a66",
   "metadata": {},
   "outputs": [],
   "source": [
    "    def getsnoe(self):\n",
    "        if self.__getDado == vertices:\n",
    "            return self.__vertices\n",
    "        v.getVertices = []\n",
    "        for vertices in self.__Vertices:\n",
    "            if vertices.getDado() == True:\n",
    "                verticesSaida.append(vertices)\n",
    "                return vertices\n",
    "            else:\n",
    "                vertices.getDado() == False\n",
    "                return vertices\n",
    "        return v.getVertices"
   ]
  },
  {
   "cell_type": "code",
   "execution_count": 24,
   "id": "019c12bb",
   "metadata": {},
   "outputs": [
    {
     "data": {
      "text/plain": [
       "1"
      ]
     },
     "execution_count": 24,
     "metadata": {},
     "output_type": "execute_result"
    }
   ],
   "source": [
    "v1 = Vertice(1)\n",
    "v1.getDado()"
   ]
  },
  {
   "cell_type": "code",
   "execution_count": 25,
   "id": "b5f0caf1",
   "metadata": {},
   "outputs": [
    {
     "data": {
      "text/plain": [
       "2"
      ]
     },
     "execution_count": 25,
     "metadata": {},
     "output_type": "execute_result"
    }
   ],
   "source": [
    "v2 = Vertice(2)\n",
    "v2.getDado()"
   ]
  },
  {
   "cell_type": "code",
   "execution_count": 26,
   "id": "1c2d3a62",
   "metadata": {},
   "outputs": [
    {
     "data": {
      "text/plain": [
       "3"
      ]
     },
     "execution_count": 26,
     "metadata": {},
     "output_type": "execute_result"
    }
   ],
   "source": [
    "v3 = Vertice(3)\n",
    "v3.getDado()"
   ]
  },
  {
   "cell_type": "code",
   "execution_count": 27,
   "id": "28e99364",
   "metadata": {},
   "outputs": [
    {
     "data": {
      "text/plain": [
       "4"
      ]
     },
     "execution_count": 27,
     "metadata": {},
     "output_type": "execute_result"
    }
   ],
   "source": [
    "v4 = Vertice(4)\n",
    "v4.getDado()"
   ]
  },
  {
   "cell_type": "code",
   "execution_count": 28,
   "id": "260da446",
   "metadata": {},
   "outputs": [],
   "source": [
    "a1 = Aresta( v1, v2, 1, True )\n",
    "a2 = Aresta( v2, v3, 1, True )\n",
    "a3 = Aresta( v3, v4, 1, True )\n",
    "a4 = Aresta( v4, v1, 1, True )"
   ]
  },
  {
   "cell_type": "code",
   "execution_count": 29,
   "id": "992dcbcb",
   "metadata": {},
   "outputs": [
    {
     "name": "stdout",
     "output_type": "stream",
     "text": [
      "1 |---> 2\n",
      "2 |---> 3\n",
      "4 |---> 1\n",
      "3 |---> 4\n"
     ]
    }
   ],
   "source": [
    "for a in v2.getArestas():\n",
    "    print(str(a.getvOrigem().getDado())+\" |---> \"+str(a.getvDestino().getDado()))\n",
    "for a in v4.getArestas():\n",
    "    print(str(a.getvOrigem().getDado())+\" |---> \"+str(a.getvDestino().getDado()))"
   ]
  },
  {
   "cell_type": "code",
   "execution_count": 30,
   "id": "53b7c59c",
   "metadata": {},
   "outputs": [
    {
     "name": "stdout",
     "output_type": "stream",
     "text": [
      "3\t1\t2\t4\t"
     ]
    }
   ],
   "source": [
    "G = Grafo()\n",
    "G.setVertices({v1, v2, v3, v4})\n",
    "G.setArestas({a1, a2, a3, a4})\n",
    "for v in G.getVertices():\n",
    "    print(v.getDado(), end=\"\\t\")"
   ]
  },
  {
   "cell_type": "code",
   "execution_count": 31,
   "id": "a6cd492a",
   "metadata": {},
   "outputs": [
    {
     "name": "stdout",
     "output_type": "stream",
     "text": [
      "3 ---> 4\n",
      "4 ---> 1\n",
      "1 ---> 2\n",
      "2 ---> 3\n"
     ]
    }
   ],
   "source": [
    "for a in G.getArestas():\n",
    "    print(a.getvOrigem().getDado(), end=\"\")\n",
    "    print(\" ---> \", end=\"\")\n",
    "    print(a.getvDestino().getDado())"
   ]
  },
  {
   "cell_type": "code",
   "execution_count": 14,
   "id": "7e19244a",
   "metadata": {},
   "outputs": [
    {
     "data": {
      "text/plain": [
       "4"
      ]
     },
     "execution_count": 14,
     "metadata": {},
     "output_type": "execute_result"
    }
   ],
   "source": [
    "v1.getGrau()\n",
    "#G.getArestaDado(3).getGrauE())\n",
    "#G.getArestaDado(4).getGrauS())"
   ]
  },
  {
   "cell_type": "code",
   "execution_count": 15,
   "id": "c516df41",
   "metadata": {},
   "outputs": [
    {
     "data": {
      "text/plain": [
       "False"
      ]
     },
     "execution_count": 15,
     "metadata": {},
     "output_type": "execute_result"
    }
   ],
   "source": [
    "G.HandShakingLemma()"
   ]
  },
  {
   "cell_type": "code",
   "execution_count": 32,
   "id": "2214797f",
   "metadata": {},
   "outputs": [],
   "source": [
    "v1 = Vertice(1)\n",
    "v2 = Vertice(2)\n",
    "v3 = Vertice(3)\n",
    "v4 = Vertice(4)\n",
    "v5 = Vertice(5)\n",
    "a1 = Aresta( v1, v2, 10, True )\n",
    "a2 = Aresta( v2, v3, 20, True )\n",
    "a3 = Aresta( v3, v4, 30, True )\n",
    "a4 = Aresta( v4, v1, 40, True )\n",
    "a5 = Aresta( v4, v5, 50, True )\n",
    "G = Grafo()\n",
    "G.setVertices({v1, v2, v3, v4, v5})\n",
    "G.setArestas({a1, a2, a3, a4, a5})"
   ]
  },
  {
   "cell_type": "code",
   "execution_count": 33,
   "id": "d6e240df",
   "metadata": {},
   "outputs": [],
   "source": [
    "G.adicionarVertice(20)\n",
    "G.adicionarAresta(1, 20, True)\n",
    "#G.removeVertice(20)\n",
    "G.removeAresta(1, 20, True)"
   ]
  },
  {
   "cell_type": "code",
   "execution_count": 34,
   "id": "09803c18",
   "metadata": {},
   "outputs": [
    {
     "name": "stdout",
     "output_type": "stream",
     "text": [
      "2\t20\t5\t3\t1\t4\t"
     ]
    }
   ],
   "source": [
    "for v in G.getVertices():\n",
    "    print(v.getDado(), end=\"\\t\")"
   ]
  },
  {
   "cell_type": "code",
   "execution_count": 35,
   "id": "2f8d4ecb",
   "metadata": {},
   "outputs": [
    {
     "name": "stdout",
     "output_type": "stream",
     "text": [
      "2 ---> 3\t4 ---> 5\t1 ---> 2\t1 ---> 20\t4 ---> 1\t3 ---> 4\t"
     ]
    }
   ],
   "source": [
    "for a in G.getArestas():\n",
    "    print(a.getvOrigem().getDado(), end=\"\")\n",
    "    print(\" ---> \", end=\"\")\n",
    "    print(a.getvDestino().getDado(), end=\"\\t\")"
   ]
  },
  {
   "cell_type": "code",
   "execution_count": 36,
   "id": "480b68df",
   "metadata": {},
   "outputs": [
    {
     "data": {
      "text/plain": [
       "3"
      ]
     },
     "execution_count": 36,
     "metadata": {},
     "output_type": "execute_result"
    }
   ],
   "source": [
    "v4.getGrau()"
   ]
  },
  {
   "cell_type": "code",
   "execution_count": 245,
   "id": "ad4485b7",
   "metadata": {},
   "outputs": [
    {
     "name": "stdout",
     "output_type": "stream",
     "text": [
      "Busca em profundidade, iniciando com o vértice 1:\n",
      "1\t2\t3\t4\t6\t5\t\n",
      ".................................................\n",
      "Busca em profundidade, iniciando com o vértice 4:\n",
      "4\t1\t2\t3\t6\t5\t\n",
      ".................................................\n",
      "Busca em profundidade, iniciando com o vértice 6:\n",
      "6\t1\t2\t3\t4\t5\t\n",
      ".................................................\n",
      "Busca em profundidade, iniciando com o vértice 5:\n",
      "5\t1\t2\t3\t4\t6\t\n",
      ".................................................\n",
      "Busca em profundidade, iniciando com o vértice 3:\n",
      "3\t4\t1\t2\t6\t5\t\n",
      ".................................................\n",
      "Busca em profundidade, iniciando com o vértice 2:\n",
      "2\t3\t4\t1\t6\t5\t\n",
      ".................................................\n"
     ]
    }
   ],
   "source": [
    "#04/05- Busca em profundidade:\n",
    "v1 = Vertice(1)\n",
    "v2 = Vertice(2)\n",
    "v3 = Vertice(3)\n",
    "v4 = Vertice(4)\n",
    "v5 = Vertice(5)\n",
    "v6 = Vertice(6)\n",
    "a1 = Aresta( v1, v2, 10, True )\n",
    "a2 = Aresta( v2, v3, 20, True )\n",
    "a3 = Aresta( v3, v4, 30, True )\n",
    "a4 = Aresta( v4, v1, 40, True )\n",
    "a5 = Aresta( v4, v5, 50, True ) \n",
    "a6 = Aresta( v4, v6, 60, True ) \n",
    "G = Grafo()\n",
    "G.setVertices({v1, v2, v3, v4, v5,v6})\n",
    "G.setArestas({a1, a2, a3, a4, a5, a6})\n",
    "for vertice in G.getVertices():\n",
    "    print(f\"Busca em profundidade, iniciando com o vértice {vertice.getDado()}:\")\n",
    "    for v in G.asd(G, vertice, visit=[]):\n",
    "        print(str(v.getDado())+\"\\t\", end=\"\")\n",
    "    print(\"\\n.................................................\")  "
   ]
  },
  {
   "cell_type": "code",
   "execution_count": 249,
   "id": "235ad446",
   "metadata": {},
   "outputs": [
    {
     "name": "stdout",
     "output_type": "stream",
     "text": [
      "Busca em largura, iniciando com o vértice 1:\n",
      "1\t2\t3\t4\t5\t6\t\n",
      "............................................\n",
      "Busca em largura, iniciando com o vértice 6:\n",
      "6\t1\t2\t3\t4\t5\t\n",
      "............................................\n",
      "Busca em largura, iniciando com o vértice 4:\n",
      "4\t1\t5\t6\t2\t3\t\n",
      "............................................\n",
      "Busca em largura, iniciando com o vértice 3:\n",
      "3\t4\t1\t5\t6\t2\t\n",
      "............................................\n",
      "Busca em largura, iniciando com o vértice 5:\n",
      "5\t1\t2\t3\t4\t6\t\n",
      "............................................\n",
      "Busca em largura, iniciando com o vértice 2:\n",
      "2\t3\t4\t1\t5\t6\t\n",
      "............................................\n"
     ]
    }
   ],
   "source": [
    "#04/05- Busca em largura:\n",
    "v1 = Vertice(1)\n",
    "v2 = Vertice(2)\n",
    "v3 = Vertice(3)\n",
    "v4 = Vertice(4)\n",
    "v5 = Vertice(5)\n",
    "v6 = Vertice(6)\n",
    "a1 = Aresta( v1, v2, 10, True )\n",
    "a2 = Aresta( v2, v3, 20, True )\n",
    "a3 = Aresta( v3, v4, 30, True )\n",
    "a4 = Aresta( v4, v1, 40, True )\n",
    "a5 = Aresta( v4, v5, 50, True ) \n",
    "a6 = Aresta( v4, v6, 60, True ) \n",
    "G = Grafo()\n",
    "G.setVertices({v1, v2, v3, v4, v5,v6})\n",
    "G.setArestas({a1, a2, a3, a4, a5, a6})\n",
    "for vertice in G.getVertices():\n",
    "    print(f\"Busca em largura, iniciando com o vértice {vertice.getDado()}:\")\n",
    "    for v in  G.qwe(vertice, visit = [], fila = deque([])):\n",
    "        print(str(v.getDado())+\"\\t\", end=\"\")\n",
    "    print(\"\\n............................................\") "
   ]
  },
  {
   "cell_type": "code",
   "execution_count": 250,
   "id": "1c44816f",
   "metadata": {},
   "outputs": [],
   "source": [
    "#class- Aresta\n",
    "#         getValor\n",
    "def getValor(self):\n",
    "    return self._getValor()  \n",
    "#class- Grafo\n",
    "#         getAresta(valor)\n",
    "def getArestaValor(self):\n",
    "    return len(self.getAresta(getValor))"
   ]
  },
  {
   "cell_type": "code",
   "execution_count": 15,
   "id": "fe4bd289",
   "metadata": {},
   "outputs": [],
   "source": [
    "getGrauEntrada\n",
    "getGrauSaida\n",
    "\n",
    "    Aresta\n",
    "        getValor\n",
    "    Grafo\n",
    "        getAresta(valor)"
   ]
  },
  {
   "cell_type": "code",
   "execution_count": 18,
   "id": "3ceaa7a5",
   "metadata": {},
   "outputs": [],
   "source": [
    "def getVertices1(self):\n",
    "    for v in self.getVertices():\n",
    "        if v.getVertices() == vertices:\n",
    "            return v\n",
    "        return vertices"
   ]
  },
  {
   "cell_type": "code",
   "execution_count": 6,
   "id": "2d9b32b9",
   "metadata": {},
   "outputs": [],
   "source": [
    "l1= [v1,v2,v3,v4]\n",
    "l2= [v1,v2,v3]"
   ]
  },
  {
   "cell_type": "code",
   "execution_count": 25,
   "id": "54ec59aa",
   "metadata": {},
   "outputs": [],
   "source": [
    "def na(self):\n",
    "    for i in getArestas:\n",
    "        if len(i.getDado())==True:\n",
    "            self.getDado(i)\n",
    "        else:\n",
    "            self.getVertices(len(G.getDado))\n",
    "            return arestas\n",
    "            \n",
    "    #getVertices\n",
    "    #getArestas    "
   ]
  },
  {
   "cell_type": "code",
   "execution_count": null,
   "id": "34938a4f",
   "metadata": {},
   "outputs": [],
   "source": [
    "dado = int(input(\"Valor procurado: \"))\n",
    "if G.buscarPorValor(dado) == None:\n",
    "    print(f\"{dado} não encontrado no grafo\")\n",
    "else:\n",
    "    print(f\"{dado} encontrado no grafo\")"
   ]
  }
 ],
 "metadata": {
  "kernelspec": {
   "display_name": "Python 3 (ipykernel)",
   "language": "python",
   "name": "python3"
  },
  "language_info": {
   "codemirror_mode": {
    "name": "ipython",
    "version": 3
   },
   "file_extension": ".py",
   "mimetype": "text/x-python",
   "name": "python",
   "nbconvert_exporter": "python",
   "pygments_lexer": "ipython3",
   "version": "3.9.7"
  }
 },
 "nbformat": 4,
 "nbformat_minor": 5
}
