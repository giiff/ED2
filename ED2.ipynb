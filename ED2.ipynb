{
 "cells": [
  {
   "cell_type": "code",
   "execution_count": 1,
   "id": "d54522d8",
   "metadata": {},
   "outputs": [
    {
     "data": {
      "text/html": [
       "<style>.container { width:100% !important; }</style>"
      ],
      "text/plain": [
       "<IPython.core.display.HTML object>"
      ]
     },
     "metadata": {},
     "output_type": "display_data"
    }
   ],
   "source": [
    "from IPython.display import display, HTML\n",
    "display(HTML(\"<style>.container { width:100% !important; }</style>\"))"
   ]
  },
  {
   "cell_type": "code",
   "execution_count": 16,
   "id": "8b003e19",
   "metadata": {},
   "outputs": [],
   "source": [
    "class Vertice:\n",
    "    \n",
    "    def __init__(self, valor, direcionado=True):\n",
    "        self.__valor = valor\n",
    "        self.__direcionado = direcionado\n",
    "        self.__arestas = set()\n",
    "    \n",
    "    def getValor(self):\n",
    "        return self.__valor\n",
    "    \n",
    "    def setValor(self, valor):\n",
    "        self.__valor = valor\n",
    "        \n",
    "    def getArestas(self):\n",
    "        return self.__arestas\n",
    "    \n",
    "    def adicionarAresta(self, aresta):\n",
    "        self.__arestas.add(aresta)\n",
    "        \n",
    "    def getArestasSaida(self):\n",
    "        if self.__direcionado == False:\n",
    "            return self.__arestas\n",
    "        arestasDeSaida = []\n",
    "        for aresta in self.__arestas:\n",
    "            if aresta.getvOrigem() == self:\n",
    "                arestasDeSaida.append(aresta)\n",
    "        return arestasDeSaida\n",
    "    \n",
    "    def getArestasEntrada(self):\n",
    "        if self.__direcionado == False:\n",
    "            return self.__arestas\n",
    "        arestasSaida = []\n",
    "        for aresta in self.__arestas:\n",
    "            if aresta.getvDestino() == self:\n",
    "                arestasSaida.append(aresta)\n",
    "        return arestasSaida\n",
    "    \n",
    "    def getGrau(self):\n",
    "        return len(self.getArestasSaida())+ len(self.getArestasEntrada())\n",
    "    \n",
    "    def getAdjacentes(self, v):\n",
    "        listaVerticesAdjacentes = []\n",
    "        for arestas_de_saida in v.getArestasSaida():\n",
    "            listaVerticesAdjacentes.append(arestas_de_saida.getvDestino())\n",
    "        return listaVerticesAdjacentes"
   ]
  },
  {
   "cell_type": "code",
   "execution_count": 17,
   "id": "5c3677e7",
   "metadata": {},
   "outputs": [],
   "source": [
    "class Aresta:\n",
    "    def __init__(self, vOrigem, vDestino, peso, direcionada=True):\n",
    "        self.__vOrigem = vOrigem\n",
    "        self.__vDestino = vDestino\n",
    "        self.__peso = peso\n",
    "        self.__direcionada = direcionada\n",
    "        self.__vOrigem.adicionarAresta(self)\n",
    "        self.__vDestino.adicionarAresta(self)\n",
    "        \n",
    "    def getvOrigem(self):\n",
    "        return self.__vOrigem\n",
    "    def getvDestino(self):\n",
    "        return self.__vDestino\n",
    "    def getValor(self):\n",
    "        return self.__peso"
   ]
  },
  {
   "cell_type": "code",
   "execution_count": 18,
   "id": "d3d8fa70",
   "metadata": {},
   "outputs": [],
   "source": [
    "from collections import deque\n",
    "class Grafo:\n",
    "    def __init__(self, direcionado=True):\n",
    "        self.__vertices = set()\n",
    "        self.__arestas  = set()\n",
    "        self.__direcionado = direcionado\n",
    "        \n",
    "    def setVertices(self, vertices):\n",
    "        self.__vertices = vertices\n",
    "        \n",
    "    def setArestas(self, arestas):\n",
    "        self.__arestas = arestas\n",
    "        \n",
    "    def getVertices(self):\n",
    "        return self.__vertices\n",
    "    \n",
    "    def getVerticeByValor(self, valor):\n",
    "        for v in self.__vertices:\n",
    "            if v.getValor() == valor:\n",
    "                return v\n",
    "        return None\n",
    "    \n",
    "    def getArestas(self):\n",
    "        return self.__arestas\n",
    "    \n",
    "    def checkHandShakingLemma(self):\n",
    "        somaGraus = 0\n",
    "        for v in self.getVertices():\n",
    "            somaGraus+= v.getGrau()\n",
    "        if somaGraus == len(self.getArestas())*2:\n",
    "            return True\n",
    "        else:\n",
    "            return False\n",
    "        \n",
    "    def dfs(self, graph, v, visitados=[]):\n",
    "        if v not in visitados:\n",
    "            visitados.append(v) \n",
    "        if len(v.getAdjacentes(v)) == 0:\n",
    "            self.dfs(graph, next(iter(graph.getVertices())), visitados)\n",
    "        else: # vertice escolhido tem adjacentes\n",
    "            for adjacente in v.getAdjacentes(v): \n",
    "                if adjacente not in visitados: \n",
    "                    self.dfs(graph, adjacente, visitados) \n",
    "        return visitados\n",
    "    \n",
    "    def bfs(self, v, visitados = [], fila = deque([])):\n",
    "        fila.append(v) \n",
    "        if v not in visitados: \n",
    "            visitados.append(v)\n",
    "        while fila:  \n",
    "            vertice = fila.popleft() \n",
    "            if len(vertice.getArestasSaida()) == 0: \n",
    "                self.bfs(next(iter(self.getVertices())), visitados, fila)    \n",
    "            else:\n",
    "                for e in vertice.getArestasSaida(): \n",
    "                    vAdjacente = e.getvDestino()\n",
    "                    if vAdjacente not in visitados: \n",
    "                        visitados.append(vAdjacente)  \n",
    "                        fila.append(vAdjacente)  \n",
    "        return visitados\n",
    "    \n",
    "    def buscarPorValor(self, valor):\n",
    "        for v in self.bfs(next(iter(self.getVertices())), visitados = [], fila = deque([])):\n",
    "            if valor == v.getValor():\n",
    "                return valor\n",
    "        return None\n",
    "    \n",
    "    def Euler(self, graph):\n",
    "        impar = 0\n",
    "        for v in graph.getVertices():\n",
    "            if v.getGrau() %2 != 0:\n",
    "                impar += 1\n",
    "        if impar != 0 >= 2:\n",
    "            return True \n",
    "        else:\n",
    "            return False\n",
    "\n",
    "      "
   ]
  },
  {
   "cell_type": "code",
   "execution_count": 19,
   "id": "91b986a7",
   "metadata": {},
   "outputs": [],
   "source": [
    "v1 = Vertice(1)\n",
    "v2 = Vertice(2)\n",
    "v3 = Vertice(3)\n",
    "v4 = Vertice(4)\n",
    "v5 = Vertice(5)\n",
    "a1 = Aresta( v1, v2, 10, True )\n",
    "a2 = Aresta( v2, v3, 20, True )\n",
    "a3 = Aresta( v3, v4, 30, True )\n",
    "a4 = Aresta( v4, v1, 40, True )\n",
    "a5 = Aresta( v4, v5, 50, True )"
   ]
  },
  {
   "cell_type": "code",
   "execution_count": 20,
   "id": "2db17f8a",
   "metadata": {},
   "outputs": [],
   "source": [
    "G = Grafo()\n",
    "G.setVertices({v1, v2, v3, v4, v5})\n",
    "G.setArestas({a1, a2, a3, a4, a5})"
   ]
  },
  {
   "cell_type": "code",
   "execution_count": 21,
   "id": "28e99364",
   "metadata": {},
   "outputs": [
    {
     "name": "stdout",
     "output_type": "stream",
     "text": [
      "5\t3\t4\t1\t2\t"
     ]
    }
   ],
   "source": [
    "for v in G.getVertices():\n",
    "    print(v.getValor(), end=\"\\t\")"
   ]
  },
  {
   "cell_type": "code",
   "execution_count": 22,
   "id": "29d5dcfe",
   "metadata": {},
   "outputs": [
    {
     "name": "stdout",
     "output_type": "stream",
     "text": [
      "1 ---> 2\t4 ---> 5\t2 ---> 3\t4 ---> 1\t3 ---> 4\t"
     ]
    }
   ],
   "source": [
    "for a in G.getArestas():\n",
    "    print(a.getvOrigem().getValor(), end=\"\")\n",
    "    print(\" ---> \", end=\"\")\n",
    "    print(a.getvDestino().getValor(), end=\"\\t\")"
   ]
  },
  {
   "cell_type": "code",
   "execution_count": 23,
   "id": "3ebc1c5d",
   "metadata": {},
   "outputs": [
    {
     "data": {
      "text/plain": [
       "2"
      ]
     },
     "execution_count": 23,
     "metadata": {},
     "output_type": "execute_result"
    }
   ],
   "source": [
    "v1.getGrau()"
   ]
  },
  {
   "cell_type": "code",
   "execution_count": 24,
   "id": "4690659b",
   "metadata": {},
   "outputs": [
    {
     "data": {
      "text/plain": [
       "True"
      ]
     },
     "execution_count": 24,
     "metadata": {},
     "output_type": "execute_result"
    }
   ],
   "source": [
    "G.checkHandShakingLemma()"
   ]
  },
  {
   "cell_type": "code",
   "execution_count": 25,
   "id": "1e0f4098",
   "metadata": {},
   "outputs": [
    {
     "name": "stdout",
     "output_type": "stream",
     "text": [
      "Busca em profundidade, iniciando com o vértice 2:\n",
      "2\t3\t4\t5\t6\t1\t\n",
      ".................................................\n",
      "Busca em profundidade, iniciando com o vértice 5:\n",
      "5\t2\t3\t4\t6\t1\t\n",
      ".................................................\n",
      "Busca em profundidade, iniciando com o vértice 3:\n",
      "3\t4\t5\t2\t6\t1\t\n",
      ".................................................\n",
      "Busca em profundidade, iniciando com o vértice 6:\n",
      "6\t2\t3\t4\t5\t1\t\n",
      ".................................................\n",
      "Busca em profundidade, iniciando com o vértice 4:\n",
      "4\t5\t2\t3\t6\t1\t\n",
      ".................................................\n",
      "Busca em profundidade, iniciando com o vértice 1:\n",
      "1\t2\t3\t4\t5\t6\t\n",
      ".................................................\n"
     ]
    }
   ],
   "source": [
    "v1 = Vertice(1)\n",
    "v2 = Vertice(2)\n",
    "v3 = Vertice(3)\n",
    "v4 = Vertice(4)\n",
    "v5 = Vertice(5)\n",
    "v6 = Vertice(6)\n",
    "a1 = Aresta( v1, v2, 10, True )\n",
    "a2 = Aresta( v2, v3, 20, True )\n",
    "a3 = Aresta( v3, v4, 30, True )\n",
    "a4 = Aresta( v4, v1, 40, True )\n",
    "a5 = Aresta( v4, v5, 50, True ) \n",
    "a6 = Aresta( v4, v6, 60, True ) \n",
    "G = Grafo()\n",
    "G.setVertices({v1, v2, v3, v4, v5,v6})\n",
    "G.setArestas({a1, a2, a3, a4, a5, a6})\n",
    "for vertice in G.getVertices():\n",
    "    print(f\"Busca em profundidade, iniciando com o vértice {vertice.getValor()}:\")\n",
    "    for v in G.dfs(G, vertice, visitados=[]):\n",
    "        print(str(v.getValor())+\"\\t\", end=\"\")\n",
    "    print(\"\\n.................................................\") "
   ]
  },
  {
   "cell_type": "code",
   "execution_count": 26,
   "id": "b7459764",
   "metadata": {
    "scrolled": true
   },
   "outputs": [
    {
     "name": "stdout",
     "output_type": "stream",
     "text": [
      "Busca em largura, iniciando com o vértice 1:\n",
      "1\t2\t3\t4\t5\t6\t\n",
      "............................................\n",
      "Busca em largura, iniciando com o vértice 4:\n",
      "4\t5\t6\t1\t2\t3\t\n",
      "............................................\n",
      "Busca em largura, iniciando com o vértice 3:\n",
      "3\t4\t5\t6\t1\t2\t\n",
      "............................................\n",
      "Busca em largura, iniciando com o vértice 2:\n",
      "2\t3\t4\t5\t6\t1\t\n",
      "............................................\n",
      "Busca em largura, iniciando com o vértice 5:\n",
      "5\t1\t2\t3\t4\t6\t\n",
      "............................................\n",
      "Busca em largura, iniciando com o vértice 6:\n",
      "6\t1\t2\t3\t4\t5\t\n",
      "............................................\n"
     ]
    }
   ],
   "source": [
    "v1 = Vertice(1)\n",
    "v2 = Vertice(2)\n",
    "v3 = Vertice(3)\n",
    "v4 = Vertice(4)\n",
    "v5 = Vertice(5)\n",
    "v6 = Vertice(6)\n",
    "a1 = Aresta( v1, v2, 10, True )\n",
    "a2 = Aresta( v2, v3, 20, True )\n",
    "a3 = Aresta( v3, v4, 30, True )\n",
    "a4 = Aresta( v4, v1, 40, True )\n",
    "a5 = Aresta( v4, v5, 50, True ) \n",
    "a6 = Aresta( v4, v6, 60, True ) \n",
    "G = Grafo()\n",
    "G.setVertices({v1, v2, v3, v4, v5,v6})\n",
    "G.setArestas({a1, a2, a3, a4, a5, a6})\n",
    "for vertice in G.getVertices():\n",
    "    print(f\"Busca em largura, iniciando com o vértice {vertice.getValor()}:\")\n",
    "    for v in  G.bfs(vertice, visitados = [], fila = deque([])):\n",
    "        print(str(v.getValor())+\"\\t\", end=\"\")\n",
    "    print(\"\\n............................................\") "
   ]
  },
  {
   "cell_type": "code",
   "execution_count": 27,
   "id": "b29de58e",
   "metadata": {},
   "outputs": [
    {
     "name": "stdout",
     "output_type": "stream",
     "text": [
      "não é um grafo euleriano\n"
     ]
    }
   ],
   "source": [
    "if G.Euler(G):\n",
    "    print(\"é um grafo euleriano\")\n",
    "else:\n",
    "    print(\"não é um grafo euleriano\")"
   ]
  },
  {
   "cell_type": "code",
   "execution_count": 28,
   "id": "30ca64af",
   "metadata": {},
   "outputs": [
    {
     "name": "stdout",
     "output_type": "stream",
     "text": [
      "Valor procurado: 7\n",
      "7 não encontrado no grafo\n"
     ]
    }
   ],
   "source": [
    "valor = int(input(\"Valor procurado: \"))\n",
    "if G.buscarPorValor(valor) == None:\n",
    "   print(f\"{valor} não encontrado no grafo\")\n",
    "else:\n",
    "   print(f\"{valor} encontrado no grafo\")"
   ]
  },
  {
   "cell_type": "code",
   "execution_count": 29,
   "id": "e62c1503",
   "metadata": {},
   "outputs": [],
   "source": [
    "import pathlib\n",
    "pathlib."
   ]
  }
 ],
 "metadata": {
  "kernelspec": {
   "display_name": "Python 3 (ipykernel)",
   "language": "python",
   "name": "python3"
  },
  "language_info": {
   "codemirror_mode": {
    "name": "ipython",
    "version": 3
   },
   "file_extension": ".py",
   "mimetype": "text/x-python",
   "name": "python",
   "nbconvert_exporter": "python",
   "pygments_lexer": "ipython3",
   "version": "3.9.7"
  }
 },
 "nbformat": 4,
 "nbformat_minor": 5
}
