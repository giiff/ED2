{
  "nbformat": 4,
  "nbformat_minor": 0,
  "metadata": {
    "colab": {
      "name": "Mochila.ipynb",
      "provenance": []
    },
    "kernelspec": {
      "name": "python3",
      "display_name": "Python 3"
    },
    "language_info": {
      "name": "python"
    }
  },
  "cells": [
    {
      "cell_type": "markdown",
      "source": [
        "#### Mochila"
      ],
      "metadata": {
        "id": "muxTY9vibhfB"
      }
    },
    {
      "cell_type": "code",
      "source": [
        "class Mochila:\n",
        "  def __init__(self, peso_maximo = 15):\n",
        "        self.__peso_maximo = peso_maximo\n",
        "        self.__itens_colocados = list()\n",
        "\n",
        "  \n",
        "  def adicionar_itens(self, objetos = list()):\n",
        "    peso_disponivel = self.__peso_maximo\n",
        "    pos = 0\n",
        "    objetos.sort(key = lambda i:i.getMedia(), reverse = True)\n",
        "    while peso_disponivel != 0:\n",
        "      if objetos[pos].getPeso() <= peso_disponivel:\n",
        "        self.__itens_colocados.append(objetos[pos])\n",
        "        peso_disponivel -= objetos[pos].getPeso()\n",
        "      else:\n",
        "        pos += 1 \n",
        "\n",
        "  def getItems(self):\n",
        "    return self.__itens_colocados\n",
        "\n",
        "\n"
      ],
      "metadata": {
        "id": "b00DNttCWrUZ"
      },
      "execution_count": null,
      "outputs": []
    },
    {
      "cell_type": "code",
      "source": [
        "class Item:\n",
        "  def __init__(self, nome_item, valor_item, peso_item):\n",
        "        self.__nome_item = nome_item\n",
        "        self.__valor_item = valor_item\n",
        "        self.__peso_item = peso_item\n",
        "        self.__media = valor_item / peso_item\n",
        "\n",
        "  def getMedia(self):\n",
        "    return self.__media\n",
        "\n",
        "  def getPeso(self):\n",
        "    return self.__peso_item\n",
        "\n",
        "  def getNome(self):\n",
        "    return self.__nome_item\n"
      ],
      "metadata": {
        "id": "RBpJU-1SbglD"
      },
      "execution_count": null,
      "outputs": []
    },
    {
      "cell_type": "code",
      "source": [
        "M = Mochila()\n",
        "M.adicionar_itens(\n",
        "    [\n",
        "     Item(\"Ouro\", 100, 3), \n",
        "     Item(\"Prata\", 20, 2),\n",
        "     Item(\"Diamante\", 800, 8),\n",
        "     Item(\"Cobre\", 5, 1),\n",
        "     ]\n",
        "    )\n",
        "\n",
        "for i in M.getItems():\n",
        "  print(i.getNome())\n",
        "\n"
      ],
      "metadata": {
        "colab": {
          "base_uri": "https://localhost:8080/"
        },
        "id": "xBjCy-Yafp_U",
        "outputId": "1f83d527-7f36-4a76-be57-342c3ae8f0d7"
      },
      "execution_count": null,
      "outputs": [
        {
          "output_type": "stream",
          "name": "stdout",
          "text": [
            "Diamante\n",
            "Ouro\n",
            "Ouro\n",
            "Cobre\n"
          ]
        }
      ]
    }
  ]
}